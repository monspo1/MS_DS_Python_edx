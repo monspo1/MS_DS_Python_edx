{
 "cells": [
  {
   "cell_type": "markdown",
   "metadata": {},
   "source": [
    "# Lab 6. Data Modeling II - Part 2:  \n",
    "## Decision Trees & Random Forest\n"
   ]
  },
  {
   "cell_type": "code",
   "execution_count": 1,
   "metadata": {
    "collapsed": true
   },
   "outputs": [],
   "source": [
    "######################################################################"
   ]
  },
  {
   "cell_type": "markdown",
   "metadata": {},
   "source": [
    "### Lab Assignment 6.4\n",
    "\n",
    "In this lab, you'll get started with decision trees by revisiting UCI's [wheat-seeds dataset](https://archive.ics.uci.edu/ml/datasets/seeds), so you can benchmark how long it takes to train and predict with decision trees relative to the speed of KNeighbors and SVC, as well as compare the decision boundary plots produced by it.\n",
    "\n",
    "1. No starter code this time. Instead, take your completed Module6/<b>assignment1.py</b> and modify it by adding in a <b>Decision Tree Classifier</b>, setting its max_depth to 9, and random_state=2, but not altering any other setting.\n",
    "2. Make sure you add in the benchmark and drawPlots call for our new classifier as well.\n",
    "3. Answer the questions."
   ]
  },
  {
   "cell_type": "code",
   "execution_count": 3,
   "metadata": {
    "collapsed": false
   },
   "outputs": [
    {
     "name": "stdout",
     "output_type": "stream",
     "text": [
      "Populating the interactive namespace from numpy and matplotlib\n"
     ]
    }
   ],
   "source": [
    "import matplotlib as mpl\n",
    "import matplotlib.pyplot as plt\n",
    "%pylab inline \n",
    "import pandas as pd\n",
    "import numpy as np \n",
    "import time"
   ]
  },
  {
   "cell_type": "code",
   "execution_count": 19,
   "metadata": {
    "collapsed": true
   },
   "outputs": [],
   "source": [
    "# Parameters.\n",
    "C = 1\n",
    "kernel = 'linear'\n",
    "iterations = 5000  \n",
    "\n",
    "FAST_DRAW = True"
   ]
  },
  {
   "cell_type": "code",
   "execution_count": 4,
   "metadata": {
    "collapsed": false
   },
   "outputs": [
    {
     "data": {
      "text/html": [
       "<div>\n",
       "<table border=\"1\" class=\"dataframe\">\n",
       "  <thead>\n",
       "    <tr style=\"text-align: right;\">\n",
       "      <th></th>\n",
       "      <th>area</th>\n",
       "      <th>perimeter</th>\n",
       "      <th>compactness</th>\n",
       "      <th>length</th>\n",
       "      <th>width</th>\n",
       "      <th>asymmetry</th>\n",
       "      <th>groove</th>\n",
       "      <th>wheat_type</th>\n",
       "    </tr>\n",
       "    <tr>\n",
       "      <th>id</th>\n",
       "      <th></th>\n",
       "      <th></th>\n",
       "      <th></th>\n",
       "      <th></th>\n",
       "      <th></th>\n",
       "      <th></th>\n",
       "      <th></th>\n",
       "      <th></th>\n",
       "    </tr>\n",
       "  </thead>\n",
       "  <tbody>\n",
       "    <tr>\n",
       "      <th>0</th>\n",
       "      <td>15.26</td>\n",
       "      <td>14.84</td>\n",
       "      <td>0.8710</td>\n",
       "      <td>5.763</td>\n",
       "      <td>3.312</td>\n",
       "      <td>2.221</td>\n",
       "      <td>5.220</td>\n",
       "      <td>kama</td>\n",
       "    </tr>\n",
       "    <tr>\n",
       "      <th>1</th>\n",
       "      <td>14.88</td>\n",
       "      <td>14.57</td>\n",
       "      <td>0.8811</td>\n",
       "      <td>5.554</td>\n",
       "      <td>3.333</td>\n",
       "      <td>1.018</td>\n",
       "      <td>4.956</td>\n",
       "      <td>kama</td>\n",
       "    </tr>\n",
       "    <tr>\n",
       "      <th>2</th>\n",
       "      <td>14.29</td>\n",
       "      <td>14.09</td>\n",
       "      <td>0.9050</td>\n",
       "      <td>5.291</td>\n",
       "      <td>3.337</td>\n",
       "      <td>2.699</td>\n",
       "      <td>4.825</td>\n",
       "      <td>kama</td>\n",
       "    </tr>\n",
       "    <tr>\n",
       "      <th>3</th>\n",
       "      <td>13.84</td>\n",
       "      <td>13.94</td>\n",
       "      <td>0.8955</td>\n",
       "      <td>5.324</td>\n",
       "      <td>3.379</td>\n",
       "      <td>2.259</td>\n",
       "      <td>4.805</td>\n",
       "      <td>kama</td>\n",
       "    </tr>\n",
       "    <tr>\n",
       "      <th>4</th>\n",
       "      <td>16.14</td>\n",
       "      <td>14.99</td>\n",
       "      <td>0.9034</td>\n",
       "      <td>5.658</td>\n",
       "      <td>3.562</td>\n",
       "      <td>1.355</td>\n",
       "      <td>5.175</td>\n",
       "      <td>kama</td>\n",
       "    </tr>\n",
       "  </tbody>\n",
       "</table>\n",
       "</div>"
      ],
      "text/plain": [
       "     area  perimeter  compactness  length  width  asymmetry  groove wheat_type\n",
       "id                                                                            \n",
       "0   15.26      14.84       0.8710   5.763  3.312      2.221   5.220       kama\n",
       "1   14.88      14.57       0.8811   5.554  3.333      1.018   4.956       kama\n",
       "2   14.29      14.09       0.9050   5.291  3.337      2.699   4.825       kama\n",
       "3   13.84      13.94       0.8955   5.324  3.379      2.259   4.805       kama\n",
       "4   16.14      14.99       0.9034   5.658  3.562      1.355   5.175       kama"
      ]
     },
     "execution_count": 4,
     "metadata": {},
     "output_type": "execute_result"
    }
   ],
   "source": [
    "# Load up the wheat dataset into dataframe 'X'\n",
    "X = pd.read_csv('Module6/Datasets/wheat.data', index_col=0)\n",
    "X.head()"
   ]
  },
  {
   "cell_type": "code",
   "execution_count": 5,
   "metadata": {
    "collapsed": false
   },
   "outputs": [
    {
     "data": {
      "text/html": [
       "<div>\n",
       "<table border=\"1\" class=\"dataframe\">\n",
       "  <thead>\n",
       "    <tr style=\"text-align: right;\">\n",
       "      <th></th>\n",
       "      <th>area</th>\n",
       "      <th>perimeter</th>\n",
       "      <th>compactness</th>\n",
       "      <th>length</th>\n",
       "      <th>width</th>\n",
       "      <th>asymmetry</th>\n",
       "      <th>groove</th>\n",
       "      <th>wheat_type</th>\n",
       "    </tr>\n",
       "    <tr>\n",
       "      <th>id</th>\n",
       "      <th></th>\n",
       "      <th></th>\n",
       "      <th></th>\n",
       "      <th></th>\n",
       "      <th></th>\n",
       "      <th></th>\n",
       "      <th></th>\n",
       "      <th></th>\n",
       "    </tr>\n",
       "  </thead>\n",
       "  <tbody>\n",
       "    <tr>\n",
       "      <th>7</th>\n",
       "      <td>14.11</td>\n",
       "      <td>14.10</td>\n",
       "      <td>0.8911</td>\n",
       "      <td>5.4200</td>\n",
       "      <td>3.302</td>\n",
       "      <td>2.700</td>\n",
       "      <td>NaN</td>\n",
       "      <td>canadian</td>\n",
       "    </tr>\n",
       "    <tr>\n",
       "      <th>35</th>\n",
       "      <td>16.12</td>\n",
       "      <td>15.00</td>\n",
       "      <td>NaN</td>\n",
       "      <td>0.9000</td>\n",
       "      <td>NaN</td>\n",
       "      <td>5.709</td>\n",
       "      <td>3.485</td>\n",
       "      <td>canadian</td>\n",
       "    </tr>\n",
       "    <tr>\n",
       "      <th>60</th>\n",
       "      <td>11.42</td>\n",
       "      <td>12.86</td>\n",
       "      <td>0.8683</td>\n",
       "      <td>5.0080</td>\n",
       "      <td>2.850</td>\n",
       "      <td>2.700</td>\n",
       "      <td>NaN</td>\n",
       "      <td>canadian</td>\n",
       "    </tr>\n",
       "    <tr>\n",
       "      <th>135</th>\n",
       "      <td>15.38</td>\n",
       "      <td>14.66</td>\n",
       "      <td>0.8990</td>\n",
       "      <td>5.4770</td>\n",
       "      <td>3.465</td>\n",
       "      <td>3.600</td>\n",
       "      <td>NaN</td>\n",
       "      <td>canadian</td>\n",
       "    </tr>\n",
       "    <tr>\n",
       "      <th>169</th>\n",
       "      <td>11.24</td>\n",
       "      <td>13.00</td>\n",
       "      <td>NaN</td>\n",
       "      <td>0.8359</td>\n",
       "      <td>5.090</td>\n",
       "      <td>2.715</td>\n",
       "      <td>3.521</td>\n",
       "      <td>canadian</td>\n",
       "    </tr>\n",
       "    <tr>\n",
       "      <th>170</th>\n",
       "      <td>11.02</td>\n",
       "      <td>13.00</td>\n",
       "      <td>NaN</td>\n",
       "      <td>0.8189</td>\n",
       "      <td>5.325</td>\n",
       "      <td>2.701</td>\n",
       "      <td>6.735</td>\n",
       "      <td>canadian</td>\n",
       "    </tr>\n",
       "    <tr>\n",
       "      <th>201</th>\n",
       "      <td>12.67</td>\n",
       "      <td>13.32</td>\n",
       "      <td>0.8977</td>\n",
       "      <td>4.9840</td>\n",
       "      <td>3.135</td>\n",
       "      <td>2.300</td>\n",
       "      <td>NaN</td>\n",
       "      <td>canadian</td>\n",
       "    </tr>\n",
       "  </tbody>\n",
       "</table>\n",
       "</div>"
      ],
      "text/plain": [
       "      area  perimeter  compactness  length  width  asymmetry  groove  \\\n",
       "id                                                                     \n",
       "7    14.11      14.10       0.8911  5.4200  3.302      2.700     NaN   \n",
       "35   16.12      15.00          NaN  0.9000    NaN      5.709   3.485   \n",
       "60   11.42      12.86       0.8683  5.0080  2.850      2.700     NaN   \n",
       "135  15.38      14.66       0.8990  5.4770  3.465      3.600     NaN   \n",
       "169  11.24      13.00          NaN  0.8359  5.090      2.715   3.521   \n",
       "170  11.02      13.00          NaN  0.8189  5.325      2.701   6.735   \n",
       "201  12.67      13.32       0.8977  4.9840  3.135      2.300     NaN   \n",
       "\n",
       "    wheat_type  \n",
       "id              \n",
       "7     canadian  \n",
       "35    canadian  \n",
       "60    canadian  \n",
       "135   canadian  \n",
       "169   canadian  \n",
       "170   canadian  \n",
       "201   canadian  "
      ]
     },
     "execution_count": 5,
     "metadata": {},
     "output_type": "execute_result"
    }
   ],
   "source": [
    "X[X.isnull().any(axis=1)]"
   ]
  },
  {
   "cell_type": "code",
   "execution_count": 9,
   "metadata": {
    "collapsed": false
   },
   "outputs": [
    {
     "data": {
      "text/plain": [
       "area           0\n",
       "perimeter      0\n",
       "compactness    3\n",
       "length         0\n",
       "width          1\n",
       "asymmetry      0\n",
       "groove         4\n",
       "wheat_type     0\n",
       "dtype: int64"
      ]
     },
     "execution_count": 9,
     "metadata": {},
     "output_type": "execute_result"
    }
   ],
   "source": [
    "X.isnull().sum()"
   ]
  },
  {
   "cell_type": "code",
   "execution_count": 11,
   "metadata": {
    "collapsed": false
   },
   "outputs": [
    {
     "data": {
      "text/plain": [
       "area           0\n",
       "perimeter      0\n",
       "compactness    0\n",
       "length         0\n",
       "width          0\n",
       "asymmetry      0\n",
       "groove         0\n",
       "wheat_type     0\n",
       "dtype: int64"
      ]
     },
     "execution_count": 11,
     "metadata": {},
     "output_type": "execute_result"
    }
   ],
   "source": [
    "X_dr = X.copy()\n",
    "X_dr = X_dr.dropna(axis=0)\n",
    "X_dr.isnull().sum()"
   ]
  },
  {
   "cell_type": "code",
   "execution_count": 16,
   "metadata": {
    "collapsed": false
   },
   "outputs": [
    {
     "name": "stdout",
     "output_type": "stream",
     "text": [
      "[1 0 2]\n",
      "\n",
      "id\n",
      "0    1\n",
      "1    1\n",
      "2    1\n",
      "3    1\n",
      "4    1\n",
      "dtype: int8\n"
     ]
    }
   ],
   "source": [
    "y = X_dr.wheat_type.copy()\n",
    "y = y.astype(\"category\").cat.codes\n",
    "\n",
    "print y.unique()\n",
    "print\n",
    "print y.head()"
   ]
  },
  {
   "cell_type": "code",
   "execution_count": 17,
   "metadata": {
    "collapsed": false
   },
   "outputs": [
    {
     "data": {
      "text/html": [
       "<div>\n",
       "<table border=\"1\" class=\"dataframe\">\n",
       "  <thead>\n",
       "    <tr style=\"text-align: right;\">\n",
       "      <th></th>\n",
       "      <th>area</th>\n",
       "      <th>perimeter</th>\n",
       "      <th>compactness</th>\n",
       "      <th>length</th>\n",
       "      <th>width</th>\n",
       "      <th>asymmetry</th>\n",
       "      <th>groove</th>\n",
       "    </tr>\n",
       "    <tr>\n",
       "      <th>id</th>\n",
       "      <th></th>\n",
       "      <th></th>\n",
       "      <th></th>\n",
       "      <th></th>\n",
       "      <th></th>\n",
       "      <th></th>\n",
       "      <th></th>\n",
       "    </tr>\n",
       "  </thead>\n",
       "  <tbody>\n",
       "    <tr>\n",
       "      <th>0</th>\n",
       "      <td>15.26</td>\n",
       "      <td>14.84</td>\n",
       "      <td>0.8710</td>\n",
       "      <td>5.763</td>\n",
       "      <td>3.312</td>\n",
       "      <td>2.221</td>\n",
       "      <td>5.220</td>\n",
       "    </tr>\n",
       "    <tr>\n",
       "      <th>1</th>\n",
       "      <td>14.88</td>\n",
       "      <td>14.57</td>\n",
       "      <td>0.8811</td>\n",
       "      <td>5.554</td>\n",
       "      <td>3.333</td>\n",
       "      <td>1.018</td>\n",
       "      <td>4.956</td>\n",
       "    </tr>\n",
       "    <tr>\n",
       "      <th>2</th>\n",
       "      <td>14.29</td>\n",
       "      <td>14.09</td>\n",
       "      <td>0.9050</td>\n",
       "      <td>5.291</td>\n",
       "      <td>3.337</td>\n",
       "      <td>2.699</td>\n",
       "      <td>4.825</td>\n",
       "    </tr>\n",
       "    <tr>\n",
       "      <th>3</th>\n",
       "      <td>13.84</td>\n",
       "      <td>13.94</td>\n",
       "      <td>0.8955</td>\n",
       "      <td>5.324</td>\n",
       "      <td>3.379</td>\n",
       "      <td>2.259</td>\n",
       "      <td>4.805</td>\n",
       "    </tr>\n",
       "    <tr>\n",
       "      <th>4</th>\n",
       "      <td>16.14</td>\n",
       "      <td>14.99</td>\n",
       "      <td>0.9034</td>\n",
       "      <td>5.658</td>\n",
       "      <td>3.562</td>\n",
       "      <td>1.355</td>\n",
       "      <td>5.175</td>\n",
       "    </tr>\n",
       "  </tbody>\n",
       "</table>\n",
       "</div>"
      ],
      "text/plain": [
       "     area  perimeter  compactness  length  width  asymmetry  groove\n",
       "id                                                                 \n",
       "0   15.26      14.84       0.8710   5.763  3.312      2.221   5.220\n",
       "1   14.88      14.57       0.8811   5.554  3.333      1.018   4.956\n",
       "2   14.29      14.09       0.9050   5.291  3.337      2.699   4.825\n",
       "3   13.84      13.94       0.8955   5.324  3.379      2.259   4.805\n",
       "4   16.14      14.99       0.9034   5.658  3.562      1.355   5.175"
      ]
     },
     "execution_count": 17,
     "metadata": {},
     "output_type": "execute_result"
    }
   ],
   "source": [
    "X_dr.drop(labels=['wheat_type'], inplace=True, axis=1)\n",
    "X_dr.head()"
   ]
  },
  {
   "cell_type": "code",
   "execution_count": 18,
   "metadata": {
    "collapsed": true
   },
   "outputs": [],
   "source": [
    "from sklearn.cross_validation import train_test_split\n",
    "X_train, X_test, y_train, y_test = train_test_split(X_dr, y, test_size=0.3, random_state=7)"
   ]
  },
  {
   "cell_type": "code",
   "execution_count": 20,
   "metadata": {
    "collapsed": true
   },
   "outputs": [],
   "source": [
    "# Create an SVC classifier named svc\n",
    "# Use a linear kernel, and set the C value to C\n",
    "from sklearn.svm import SVC\n",
    "svc = SVC(C=C, kernel=kernel)"
   ]
  },
  {
   "cell_type": "code",
   "execution_count": 21,
   "metadata": {
    "collapsed": true
   },
   "outputs": [],
   "source": [
    "# Create an KNeighbors classifier named knn\n",
    "# Set the neighbor count to 5\n",
    "from sklearn.neighbors import KNeighborsClassifier\n",
    "knn = KNeighborsClassifier(n_neighbors=5)"
   ]
  },
  {
   "cell_type": "code",
   "execution_count": 22,
   "metadata": {
    "collapsed": true
   },
   "outputs": [],
   "source": [
    "# Create a Decision Tree classifier setting its max_depth to 9, \n",
    "# and random_state=2, but not altering any other setting.\n",
    "from sklearn import tree\n",
    "dtree = tree.DecisionTreeClassifier(max_depth = 9, random_state = 2)"
   ]
  },
  {
   "cell_type": "code",
   "execution_count": 29,
   "metadata": {
    "collapsed": true
   },
   "outputs": [],
   "source": [
    "def drawPlots(model, wintitle='Figure 1'):\n",
    "    # INFO: A convenience function for you\n",
    "    # You can use this to break any higher-dimensional space down\n",
    "    # And view cross sections of it.\n",
    "\n",
    "    # If this line throws an error, use plt.style.use('ggplot') instead\n",
    "    mpl.style.use('ggplot') # Look Pretty\n",
    "\n",
    "    padding = 3\n",
    "    resolution = 0.5\n",
    "    max_2d_score = 0\n",
    "\n",
    "    y_colors = ['#ff0000', '#00ff00', '#0000ff']\n",
    "    my_cmap = mpl.colors.ListedColormap(['#ffaaaa', '#aaffaa', '#aaaaff'])\n",
    "    colors = [y_colors[i] for i in y_train]\n",
    "    num_columns = len(X_train.columns)\n",
    "\n",
    "    #fig = plt.figure(figsize(9,9))\n",
    "    fig = plt.figure()\n",
    "    fig.canvas.set_window_title(wintitle)\n",
    "\n",
    "    cnt = 0\n",
    "    for col in range(num_columns):\n",
    "        for row in range(num_columns):\n",
    "            # Easy out\n",
    "            if FAST_DRAW and col > row:\n",
    "                cnt += 1\n",
    "                continue\n",
    "\n",
    "            ax = plt.subplot(num_columns, num_columns, cnt + 1)\n",
    "            plt.xticks(())\n",
    "            plt.yticks(())\n",
    "\n",
    "            # Intersection:\n",
    "            if col == row:\n",
    "                plt.text(0.5, 0.5, X_train.columns[row], verticalalignment='center', horizontalalignment='center', fontsize=12)\n",
    "                cnt += 1\n",
    "                continue\n",
    "\n",
    "\n",
    "            # Only select two features to display, then train the model\n",
    "            X_train_bag = X_train.ix[:, [row,col]]\n",
    "            X_test_bag = X_test.ix[:, [row,col]]\n",
    "            model.fit(X_train_bag, y_train)\n",
    "\n",
    "            # Create a mesh to plot in\n",
    "            x_min, x_max = X_train_bag.ix[:, 0].min() - padding, X_train_bag.ix[:, 0].max() + padding\n",
    "            y_min, y_max = X_train_bag.ix[:, 1].min() - padding, X_train_bag.ix[:, 1].max() + padding\n",
    "            xx, yy = np.meshgrid(np.arange(x_min, x_max, resolution),\n",
    "                                 np.arange(y_min, y_max, resolution))\n",
    "\n",
    "            # Plot Boundaries\n",
    "            plt.xlim(xx.min(), xx.max())\n",
    "            plt.ylim(yy.min(), yy.max())\n",
    "\n",
    "            # Prepare the contour\n",
    "            Z = model.predict(np.c_[xx.ravel(), yy.ravel()])\n",
    "            Z = Z.reshape(xx.shape)\n",
    "            plt.contourf(xx, yy, Z, cmap=my_cmap, alpha=0.8)\n",
    "            plt.scatter(X_train_bag.ix[:, 0], X_train_bag.ix[:, 1], c=colors, alpha=0.5)\n",
    "\n",
    "\n",
    "            score = round(model.score(X_test_bag, y_test) * 100, 3)\n",
    "            plt.text(0.5, 0, \"Score: {0}\".format(score), transform = ax.transAxes, horizontalalignment='center', fontsize=8)\n",
    "            max_2d_score = score if score > max_2d_score else max_2d_score\n",
    "\n",
    "            cnt += 1\n",
    "\n",
    "    print \"Max 2D Score: \", max_2d_score\n",
    "    fig.set_tight_layout(True)"
   ]
  },
  {
   "cell_type": "code",
   "execution_count": 26,
   "metadata": {
    "collapsed": true
   },
   "outputs": [],
   "source": [
    "def benchmark(model, wintitle='Figure 1'):\n",
    "    print '\\n' + wintitle + ' Results'\n",
    "    s = time.time()\n",
    "    for i in range(iterations):\n",
    "        # train the classifier on the training data / labels:\n",
    "        res = model.fit(X_train, y_train)\n",
    "    print \"{0} Iterations Training Time: \".format(iterations), time.time() - s\n",
    "\n",
    "\n",
    "    s = time.time()\n",
    "    for i in range(iterations):\n",
    "        # score the classifier on the testing data / labels:\n",
    "        score = res.score(X_test, y_test)\n",
    "        \n",
    "    print \"{0} Iterations Scoring Time: \".format(iterations), time.time() - s\n",
    "    print \"High-Dimensionality Score: \", round((score*100), 3)"
   ]
  },
  {
   "cell_type": "code",
   "execution_count": 27,
   "metadata": {
    "collapsed": false
   },
   "outputs": [
    {
     "name": "stdout",
     "output_type": "stream",
     "text": [
      "\n",
      "KNeighbors Results\n",
      "5000 Iterations Training Time:  2.9346909523\n",
      "5000 Iterations Scoring Time:  6.48684811592\n",
      "High-Dimensionality Score:  83.607\n",
      "\n",
      "SVC Results\n",
      "5000 Iterations Training Time:  6.30502796173\n",
      "5000 Iterations Scoring Time:  2.98242497444\n",
      "High-Dimensionality Score:  86.885\n",
      "\n",
      "Decision Trees Results\n",
      "5000 Iterations Training Time:  4.06538891792\n",
      "5000 Iterations Scoring Time:  2.30657410622\n",
      "High-Dimensionality Score:  91.803\n"
     ]
    }
   ],
   "source": [
    "benchmark(knn, 'KNeighbors')\n",
    "benchmark(svc, 'SVC')\n",
    "benchmark(dtree, 'Decision Trees')"
   ]
  },
  {
   "cell_type": "code",
   "execution_count": 30,
   "metadata": {
    "collapsed": false
   },
   "outputs": [
    {
     "name": "stdout",
     "output_type": "stream",
     "text": [
      "Max 2D Score:  90.164\n"
     ]
    },
    {
     "data": {
      "image/png": "[encoded data removed]",
      "text/plain": [
       "<matplotlib.figure.Figure at 0x11870ff10>"
      ]
     },
     "metadata": {},
     "output_type": "display_data"
    }
   ],
   "source": [
    "drawPlots(knn, 'KNeighbors')\n",
    "plt.show()"
   ]
  },
  {
   "cell_type": "code",
   "execution_count": 31,
   "metadata": {
    "collapsed": false
   },
   "outputs": [
    {
     "name": "stdout",
     "output_type": "stream",
     "text": [
      "Max 2D Score:  93.443\n"
     ]
    },
    {
     "data": {
      "image/png": "[encoded data removed]",
      "text/plain": [
       "<matplotlib.figure.Figure at 0x116a7f7d0>"
      ]
     },
     "metadata": {},
     "output_type": "display_data"
    }
   ],
   "source": [
    "drawPlots(svc, 'SVC')"
   ]
  },
  {
   "cell_type": "code",
   "execution_count": 32,
   "metadata": {
    "collapsed": false
   },
   "outputs": [
    {
     "name": "stdout",
     "output_type": "stream",
     "text": [
      "Max 2D Score:  90.164\n"
     ]
    },
    {
     "data": {
      "image/png": "[encoded data removed]",
      "text/plain": [
       "<matplotlib.figure.Figure at 0x118023050>"
      ]
     },
     "metadata": {},
     "output_type": "display_data"
    }
   ],
   "source": [
    "drawPlots(dtree, 'Decision Trees')"
   ]
  },
  {
   "cell_type": "code",
   "execution_count": null,
   "metadata": {
    "collapsed": true
   },
   "outputs": [],
   "source": [
    "'''\n",
    "KNN results\n",
    "- High-Dimensionality Score:  83.607\n",
    "- Max 2D score: 90.164\n",
    "\n",
    "SVC Results \n",
    "- High-Dimensionality Score:  86.885\n",
    "- Max 2D score: 93.443\n",
    "\n",
    "Decision Trees Results\n",
    "- High-Dimensionality Score:  91.803\n",
    "- Max 2D score: 90.164\n",
    "'''"
   ]
  },
  {
   "cell_type": "markdown",
   "metadata": {},
   "source": [
    "##### Lab Question 6.4.1 (1 point possible)\n",
    "\n",
    "To make sure everyone is on the same page, irrespective of the parameters you had on assignment1.py, go ahead and make the following changes:\n",
    "\n",
    "- C = 1\n",
    "- kernel = 'linear'\n",
    "- iterations = 5000\n",
    "- n_neighbors = 5\n",
    "- max_depth = 9\n",
    "\n",
    "Which of the following statements is true?\n",
    "\n",
    "- (a) DTrees beat SVC's score in the original, high-D feature space; but SVC has the highest 2D score\n",
    "- (b) KNeighbors has the highest 2D score; but no one beats SVC's score in the original, high-D feature space\n",
    "- (c) KNeighbors and DTrees both tie in their scoring of accuracy in the original, high-D feature space\n",
    "- (d) DTrees are the worst in the original, high-D feature space; but have the best max 2D score\n",
    "\n",
    "<b>* My answer</b>: (a) (<== <b>Correct!</b>)\n",
    "\n",
    "<b>* Explanation</b>: \n",
    "\n",
    "KNeighbors Results\n",
    "- 5000 Iterations Training Time: 1.95918607712\n",
    "- 5000 Iterations Scoring Time: 3.89638900757\n",
    "- High-Dimensionality Score: 83.607\n",
    "- Max 2D Score: 90.164\n",
    "\n",
    "SVC Results\n",
    "- 5000 Iterations Training Time: 4.01298189163\n",
    "- 5000 Iterations Scoring Time: 1.68990087509\n",
    "- High-Dimensionality Score: 86.885\n",
    "- Max 2D Score: 93.443\n",
    "\n",
    "DTree Results\n",
    "- 5000 Iterations Training Time: 2.55399107933\n",
    "- 5000 Iterations Scoring Time: 1.31068205833\n",
    "- High-Dimensionality Score: 91.803\n",
    "- Max 2D Score: 90.164"
   ]
  },
  {
   "cell_type": "code",
   "execution_count": null,
   "metadata": {
    "collapsed": true
   },
   "outputs": [],
   "source": []
  },
  {
   "cell_type": "markdown",
   "metadata": {},
   "source": [
    "##### Lab Question 6.4.2 (1 point possible)\n",
    "\n",
    "Keep dropping the max_depth of the decision tree down until it's high-dimensionality score is less than KNeighbors, and then stop.\n",
    "\n",
    "What is the max_depth value that you hit?\n",
    "\n",
    "- (a) Five\n",
    "- (b) Four\n",
    "- (c) Three\n",
    "- (b) Two\n",
    "- (a) One"
   ]
  },
  {
   "cell_type": "code",
   "execution_count": 44,
   "metadata": {
    "collapsed": true
   },
   "outputs": [],
   "source": [
    "def find_beatknn_max_depth(model, knn_score, depth):\n",
    "    for i in range(iterations):\n",
    "        res = model.fit(X_train, y_train)\n",
    "        score = round(model.score(X_test, y_test) * 100, 3)\n",
    "        if(score < int(knn_score)):\n",
    "            print \"decision tree score = {0}, < knn score ({1}), at depth {2}\".format(score, knn_score, depth)\n",
    "            break"
   ]
  },
  {
   "cell_type": "code",
   "execution_count": 45,
   "metadata": {
    "collapsed": false
   },
   "outputs": [
    {
     "name": "stdout",
     "output_type": "stream",
     "text": [
      "decision tree score = 68.852, < knn score (83.607), at depth 1\n"
     ]
    }
   ],
   "source": [
    "# Keep dropping the max_depth of the decision tree down \n",
    "# until its high-dimensionality score is less than KNeighbors, and then stop.\n",
    "# What is the max_depth value that you hit?\n",
    "max_knn_hi_dim_score = 83.607\n",
    "\n",
    "for d in arange(9,0,-1):\n",
    "    dtree = tree.DecisionTreeClassifier(max_depth = d, random_state = 2)\n",
    "    find_beatknn_max_depth(dtree, max_knn_hi_dim_score, d)"
   ]
  },
  {
   "cell_type": "markdown",
   "metadata": {},
   "source": [
    "\n",
    "<b>* My answer</b>: (e) One (<== <b>Correct!</b>)\n",
    "\n",
    "<b>* Explanation</b>: \n",
    "\n",
    "Decision trees are highly optimal. On this specific dataset, even with as little as two splits, they still out-do KNeighbors, and even fair well against SVC.\n",
    "max_depth = 1\n",
    "\n",
    "KNeighbors Results\n",
    "- 5000 Iterations Training Time: 1.9534471035\n",
    "- 5000 Iterations Scoring Time: 3.8806810379\n",
    "- High-Dimensionality Score: 83.607\n",
    "- Max 2D Score: 90.164\n",
    "\n",
    "SVC Results\n",
    "- 5000 Iterations Training Time: 3.85418701172\n",
    "- 5000 Iterations Scoring Time: 1.6913061142\n",
    "- High-Dimensionality Score: 86.885\n",
    "- Max 2D Score: 93.443\n",
    "\n",
    "DTree Results\n",
    "- 5000 Iterations Training Time: 1.70960593224\n",
    "- 5000 Iterations Scoring Time: 1.32432198524\n",
    "- High-Dimensionality Score: 68.852\n",
    "- Max 2D Score: 68.852"
   ]
  },
  {
   "cell_type": "code",
   "execution_count": 2,
   "metadata": {
    "collapsed": true
   },
   "outputs": [],
   "source": [
    "######################################################################"
   ]
  },
  {
   "cell_type": "markdown",
   "metadata": {},
   "source": [
    "### Lab Assignment 6.5\n",
    "\n",
    "Mycology is a branch of biology that generally deals with the study of fungi and mushrooms, and particularly their genetic and biochemical make-up, and their use to humans. Throughout history, fungi have been used for tinder, medicine, and food. For hundreds of years, specific mushrooms have been used as folk medicine in Russian, China, and Japan. Scientists elsewhere have also documented many medicinal uses of mushrooms as well, but not all mushrooms are beneficial--some are quite deadly.\n",
    "\n",
    "![Mushroom](https://courses.edx.org/asset-v1:Microsoft+DAT210x+4T2016+type@asset+block@mushroom.jpeg 'Mushroom' )\n",
    "\n",
    "In this lab, you're going to use decision trees to peruse The [Mushroom Data Set](https://archive.ics.uci.edu/ml/datasets/Mushroom), drawn from the Audobon Society Field Guide to North American Mushrooms (1981). The data set details mushrooms described in terms of many physical characteristics, such as cap size and stalk length, along with a classification of poisonous or edible.\n",
    "\n",
    "As a standard disclaimer, if you eat a random mushroom you find, you are doing so at your own risk. While every effort has been made to ensure that the information contained with the data set is correct, please understand that no one associated with this course accepts any responsibility or liability for errors, omissions or representations, expressed or implied, contained therein, or that might arise from you mistakenly identifying a mushroom. Exercise due caution and just take this lab as informational purposes only.\n",
    "\n",
    "1. First, visit the [data set's page](https://archive.ics.uci.edu/ml/datasets/Mushroom) and read through it carefully. Understand what they're saying about missing value representations, and header names, and where the classification column is located. Peek through the data values in a spreadsheet program or text editor and get comfortable with it.\n",
    "2. Load up the started code in Module6/<b>assignment5.py</b>.\n",
    "3. A copy of the dataset is included in Module6/Datasets/<b>agaricus-lepiota.data</b>.\n",
    "4. You're going to need to review the decision tree code in the SciKit-Learn section of the Decision Tree section. It contains a few calls in there necessary for the completion of the assignment. If you're unable to install graphiz, use webgraphviz, or alternative complete the assignment by examining the attributes of your classifier.\n",
    "5. Answer the questions.\n"
   ]
  },
  {
   "cell_type": "code",
   "execution_count": 1,
   "metadata": {
    "collapsed": false
   },
   "outputs": [
    {
     "name": "stdout",
     "output_type": "stream",
     "text": [
      "Populating the interactive namespace from numpy and matplotlib\n"
     ]
    }
   ],
   "source": [
    "import matplotlib as mpl\n",
    "import matplotlib.pyplot as plt\n",
    "%pylab inline \n",
    "import pandas as pd\n",
    "import numpy as np "
   ]
  },
  {
   "cell_type": "code",
   "execution_count": 92,
   "metadata": {
    "collapsed": false
   },
   "outputs": [
    {
     "name": "stdout",
     "output_type": "stream",
     "text": [
      "   p  x  s  n  t p.1  f  c n.1  k ... s.2  w w.1 p.2 w.2  o p.3 k.1 s.3  u\n",
      "0  e  x  s  y  t   a  f  c   b  k ...   s  w   w   p   w  o   p   n   n  g\n",
      "1  e  b  s  w  t   l  f  c   b  n ...   s  w   w   p   w  o   p   n   n  m\n",
      "2  p  x  y  w  t   p  f  c   n  n ...   s  w   w   p   w  o   p   k   s  u\n",
      "3  e  x  s  g  f   n  f  w   b  k ...   s  w   w   p   w  o   e   n   a  g\n",
      "4  e  x  y  y  t   a  f  c   b  n ...   s  w   w   p   w  o   p   k   n  g\n",
      "\n",
      "[5 rows x 23 columns]\n"
     ]
    }
   ],
   "source": [
    "# Load up the mushroom dataset into dataframe 'X'\n",
    "# Verify you did it properly.\n",
    "# Indices shouldn't be doubled.\n",
    "# Header information is on the dataset's website at the UCI ML Repo\n",
    "# Check NA Encoding\n",
    "X = pd.read_csv('Module6/Datasets/agaricus-lepiota.data', na_values= \"?\")\n",
    "print X.head()"
   ]
  },
  {
   "cell_type": "markdown",
   "metadata": {},
   "source": [
    "* https://archive.ics.uci.edu/ml/machine-learning-databases/mushroom/agaricus-lepiota.names"
   ]
  },
  {
   "cell_type": "code",
   "execution_count": 95,
   "metadata": {
    "collapsed": false
   },
   "outputs": [
    {
     "data": {
      "text/plain": [
       "Index([u'p', u'x', u's', u'n', u't', u'p.1', u'f', u'c', u'n.1', u'k', u'e',\n",
       "       u'e.1', u's.1', u's.2', u'w', u'w.1', u'p.2', u'w.2', u'o', u'p.3',\n",
       "       u'k.1', u's.3', u'u'],\n",
       "      dtype='object')"
      ]
     },
     "execution_count": 95,
     "metadata": {},
     "output_type": "execute_result"
    }
   ],
   "source": [
    "X.columns"
   ]
  },
  {
   "cell_type": "code",
   "execution_count": 96,
   "metadata": {
    "collapsed": false
   },
   "outputs": [
    {
     "name": "stdout",
     "output_type": "stream",
     "text": [
      "  classes cap-shape cap-surface cap-color bruises? odor gill-attachment  \\\n",
      "0       e         x           s         y        t    a               f   \n",
      "1       e         b           s         w        t    l               f   \n",
      "2       p         x           y         w        t    p               f   \n",
      "3       e         x           s         g        f    n               f   \n",
      "4       e         x           y         y        t    a               f   \n",
      "\n",
      "  gill-spacing gill-size gill-color   ...   stalk-surface-below-ring  \\\n",
      "0            c         b          k   ...                          s   \n",
      "1            c         b          n   ...                          s   \n",
      "2            c         n          n   ...                          s   \n",
      "3            w         b          k   ...                          s   \n",
      "4            c         b          n   ...                          s   \n",
      "\n",
      "  stalk-color-above-ring stalk-color-below-ring veil-type veil-color  \\\n",
      "0                      w                      w         p          w   \n",
      "1                      w                      w         p          w   \n",
      "2                      w                      w         p          w   \n",
      "3                      w                      w         p          w   \n",
      "4                      w                      w         p          w   \n",
      "\n",
      "  ring-number ring-type spore-print-color population habitat  \n",
      "0           o         p                 n          n       g  \n",
      "1           o         p                 n          n       m  \n",
      "2           o         p                 k          s       u  \n",
      "3           o         e                 n          a       g  \n",
      "4           o         p                 k          n       g  \n",
      "\n",
      "[5 rows x 23 columns]\n"
     ]
    }
   ],
   "source": [
    "X.columns = ['classes', 'cap-shape', 'cap-surface', 'cap-color', 'bruises?', 'odor', 'gill-attachment', 'gill-spacing', 'gill-size', 'gill-color', 'stalk-shape', 'stalk-root', 'stalk-surface-above-ring', 'stalk-surface-below-ring', 'stalk-color-above-ring', 'stalk-color-below-ring', 'veil-type', 'veil-color', 'ring-number', 'ring-type', 'spore-print-color', 'population', 'habitat']\n",
    "print X.head()"
   ]
  },
  {
   "cell_type": "code",
   "execution_count": 97,
   "metadata": {
    "collapsed": false
   },
   "outputs": [
    {
     "data": {
      "text/plain": [
       "classes                     object\n",
       "cap-shape                   object\n",
       "cap-surface                 object\n",
       "cap-color                   object\n",
       "bruises?                    object\n",
       "odor                        object\n",
       "gill-attachment             object\n",
       "gill-spacing                object\n",
       "gill-size                   object\n",
       "gill-color                  object\n",
       "stalk-shape                 object\n",
       "stalk-root                  object\n",
       "stalk-surface-above-ring    object\n",
       "stalk-surface-below-ring    object\n",
       "stalk-color-above-ring      object\n",
       "stalk-color-below-ring      object\n",
       "veil-type                   object\n",
       "veil-color                  object\n",
       "ring-number                 object\n",
       "ring-type                   object\n",
       "spore-print-color           object\n",
       "population                  object\n",
       "habitat                     object\n",
       "dtype: object"
      ]
     },
     "execution_count": 97,
     "metadata": {},
     "output_type": "execute_result"
    }
   ],
   "source": [
    "X.dtypes"
   ]
  },
  {
   "cell_type": "code",
   "execution_count": 98,
   "metadata": {
    "collapsed": false
   },
   "outputs": [
    {
     "data": {
      "text/plain": [
       "classes                        0\n",
       "cap-shape                      0\n",
       "cap-surface                    0\n",
       "cap-color                      0\n",
       "bruises?                       0\n",
       "odor                           0\n",
       "gill-attachment                0\n",
       "gill-spacing                   0\n",
       "gill-size                      0\n",
       "gill-color                     0\n",
       "stalk-shape                    0\n",
       "stalk-root                  2480\n",
       "stalk-surface-above-ring       0\n",
       "stalk-surface-below-ring       0\n",
       "stalk-color-above-ring         0\n",
       "stalk-color-below-ring         0\n",
       "veil-type                      0\n",
       "veil-color                     0\n",
       "ring-number                    0\n",
       "ring-type                      0\n",
       "spore-print-color              0\n",
       "population                     0\n",
       "habitat                        0\n",
       "dtype: int64"
      ]
     },
     "execution_count": 98,
     "metadata": {},
     "output_type": "execute_result"
    }
   ],
   "source": [
    "# INFO: An easy way to show which rows have nans in them\n",
    "#print X[pd.isnull(X).any(axis=1)]\n",
    "X.isnull().sum()  "
   ]
  },
  {
   "cell_type": "code",
   "execution_count": 112,
   "metadata": {
    "collapsed": false
   },
   "outputs": [
    {
     "name": "stdout",
     "output_type": "stream",
     "text": [
      "Before drop NA:  (8123, 23)\n",
      "After  drop NA:  (5643, 23)\n"
     ]
    }
   ],
   "source": [
    "# TODO: Go ahead and drop any row with a nan\n",
    "#\n",
    "X_dr = X.copy()\n",
    "print \"Before drop NA: \", X_dr.shape\n",
    "\n",
    "X_dr.dropna(axis = 0, inplace=True, how='any') \n",
    "print \"After  drop NA: \",  X_dr.shape\n",
    "\n",
    "# http://pandas.pydata.org/pandas-docs/stable/generated/pandas.DataFrame.dropna.html\n",
    "# dropna parameters\n",
    "# (a) how : {‘any’, ‘all’}\n",
    "# - any : if any NA values are present, drop that label\n",
    "# - all : if all values are NA, drop that label\n",
    "\n",
    "# (b) inplace : boolean, default False\n",
    "# - If True, do operation inplace and return None."
   ]
  },
  {
   "cell_type": "code",
   "execution_count": 113,
   "metadata": {
    "collapsed": false
   },
   "outputs": [
    {
     "name": "stdout",
     "output_type": "stream",
     "text": [
      "['e' 'p']\n"
     ]
    }
   ],
   "source": [
    "# TODO: Copy the labels out of the dset into variable 'y' then Remove\n",
    "# them from X. Encode the labels, using the .map() trick we showed\n",
    "# you in Module 5 -- canadian:0, kama:1, and rosa:2\n",
    "y = X_dr.classes.copy()\n",
    "print y.unique()"
   ]
  },
  {
   "cell_type": "code",
   "execution_count": 114,
   "metadata": {
    "collapsed": false
   },
   "outputs": [
    {
     "name": "stdout",
     "output_type": "stream",
     "text": [
      "0    0\n",
      "1    0\n",
      "2    1\n",
      "3    0\n",
      "4    0\n",
      "Name: classes, dtype: int64\n",
      "\n",
      "Shape of y:  (5643,)\n"
     ]
    }
   ],
   "source": [
    "y = y.map({'e': 0, 'p': 1} )\n",
    "print y.head()\n",
    "print \"\\nShape of y: \",y.shape"
   ]
  },
  {
   "cell_type": "code",
   "execution_count": 115,
   "metadata": {
    "collapsed": false
   },
   "outputs": [
    {
     "name": "stdout",
     "output_type": "stream",
     "text": [
      "Shape of X_dr:  (5643, 22)\n"
     ]
    }
   ],
   "source": [
    "X_dr.drop(labels=['classes'], inplace=True, axis=1)\n",
    "print \"Shape of X_dr: \", X_dr.shape"
   ]
  },
  {
   "cell_type": "code",
   "execution_count": 116,
   "metadata": {
    "collapsed": false
   },
   "outputs": [
    {
     "name": "stdout",
     "output_type": "stream",
     "text": [
      "After dummies:  (5643, 98)\n"
     ]
    },
    {
     "data": {
      "text/html": [
       "<div>\n",
       "<table border=\"1\" class=\"dataframe\">\n",
       "  <thead>\n",
       "    <tr style=\"text-align: right;\">\n",
       "      <th></th>\n",
       "      <th>cap-shape_b</th>\n",
       "      <th>cap-shape_c</th>\n",
       "      <th>cap-shape_f</th>\n",
       "      <th>cap-shape_k</th>\n",
       "      <th>cap-shape_s</th>\n",
       "      <th>cap-shape_x</th>\n",
       "      <th>cap-surface_f</th>\n",
       "      <th>cap-surface_g</th>\n",
       "      <th>cap-surface_s</th>\n",
       "      <th>cap-surface_y</th>\n",
       "      <th>...</th>\n",
       "      <th>population_n</th>\n",
       "      <th>population_s</th>\n",
       "      <th>population_v</th>\n",
       "      <th>population_y</th>\n",
       "      <th>habitat_d</th>\n",
       "      <th>habitat_g</th>\n",
       "      <th>habitat_l</th>\n",
       "      <th>habitat_m</th>\n",
       "      <th>habitat_p</th>\n",
       "      <th>habitat_u</th>\n",
       "    </tr>\n",
       "  </thead>\n",
       "  <tbody>\n",
       "    <tr>\n",
       "      <th>0</th>\n",
       "      <td>0</td>\n",
       "      <td>0</td>\n",
       "      <td>0</td>\n",
       "      <td>0</td>\n",
       "      <td>0</td>\n",
       "      <td>1</td>\n",
       "      <td>0</td>\n",
       "      <td>0</td>\n",
       "      <td>1</td>\n",
       "      <td>0</td>\n",
       "      <td>...</td>\n",
       "      <td>1</td>\n",
       "      <td>0</td>\n",
       "      <td>0</td>\n",
       "      <td>0</td>\n",
       "      <td>0</td>\n",
       "      <td>1</td>\n",
       "      <td>0</td>\n",
       "      <td>0</td>\n",
       "      <td>0</td>\n",
       "      <td>0</td>\n",
       "    </tr>\n",
       "    <tr>\n",
       "      <th>1</th>\n",
       "      <td>1</td>\n",
       "      <td>0</td>\n",
       "      <td>0</td>\n",
       "      <td>0</td>\n",
       "      <td>0</td>\n",
       "      <td>0</td>\n",
       "      <td>0</td>\n",
       "      <td>0</td>\n",
       "      <td>1</td>\n",
       "      <td>0</td>\n",
       "      <td>...</td>\n",
       "      <td>1</td>\n",
       "      <td>0</td>\n",
       "      <td>0</td>\n",
       "      <td>0</td>\n",
       "      <td>0</td>\n",
       "      <td>0</td>\n",
       "      <td>0</td>\n",
       "      <td>1</td>\n",
       "      <td>0</td>\n",
       "      <td>0</td>\n",
       "    </tr>\n",
       "    <tr>\n",
       "      <th>2</th>\n",
       "      <td>0</td>\n",
       "      <td>0</td>\n",
       "      <td>0</td>\n",
       "      <td>0</td>\n",
       "      <td>0</td>\n",
       "      <td>1</td>\n",
       "      <td>0</td>\n",
       "      <td>0</td>\n",
       "      <td>0</td>\n",
       "      <td>1</td>\n",
       "      <td>...</td>\n",
       "      <td>0</td>\n",
       "      <td>1</td>\n",
       "      <td>0</td>\n",
       "      <td>0</td>\n",
       "      <td>0</td>\n",
       "      <td>0</td>\n",
       "      <td>0</td>\n",
       "      <td>0</td>\n",
       "      <td>0</td>\n",
       "      <td>1</td>\n",
       "    </tr>\n",
       "    <tr>\n",
       "      <th>3</th>\n",
       "      <td>0</td>\n",
       "      <td>0</td>\n",
       "      <td>0</td>\n",
       "      <td>0</td>\n",
       "      <td>0</td>\n",
       "      <td>1</td>\n",
       "      <td>0</td>\n",
       "      <td>0</td>\n",
       "      <td>1</td>\n",
       "      <td>0</td>\n",
       "      <td>...</td>\n",
       "      <td>0</td>\n",
       "      <td>0</td>\n",
       "      <td>0</td>\n",
       "      <td>0</td>\n",
       "      <td>0</td>\n",
       "      <td>1</td>\n",
       "      <td>0</td>\n",
       "      <td>0</td>\n",
       "      <td>0</td>\n",
       "      <td>0</td>\n",
       "    </tr>\n",
       "    <tr>\n",
       "      <th>4</th>\n",
       "      <td>0</td>\n",
       "      <td>0</td>\n",
       "      <td>0</td>\n",
       "      <td>0</td>\n",
       "      <td>0</td>\n",
       "      <td>1</td>\n",
       "      <td>0</td>\n",
       "      <td>0</td>\n",
       "      <td>0</td>\n",
       "      <td>1</td>\n",
       "      <td>...</td>\n",
       "      <td>1</td>\n",
       "      <td>0</td>\n",
       "      <td>0</td>\n",
       "      <td>0</td>\n",
       "      <td>0</td>\n",
       "      <td>1</td>\n",
       "      <td>0</td>\n",
       "      <td>0</td>\n",
       "      <td>0</td>\n",
       "      <td>0</td>\n",
       "    </tr>\n",
       "  </tbody>\n",
       "</table>\n",
       "<p>5 rows × 98 columns</p>\n",
       "</div>"
      ],
      "text/plain": [
       "   cap-shape_b  cap-shape_c  cap-shape_f  cap-shape_k  cap-shape_s  \\\n",
       "0            0            0            0            0            0   \n",
       "1            1            0            0            0            0   \n",
       "2            0            0            0            0            0   \n",
       "3            0            0            0            0            0   \n",
       "4            0            0            0            0            0   \n",
       "\n",
       "   cap-shape_x  cap-surface_f  cap-surface_g  cap-surface_s  cap-surface_y  \\\n",
       "0            1              0              0              1              0   \n",
       "1            0              0              0              1              0   \n",
       "2            1              0              0              0              1   \n",
       "3            1              0              0              1              0   \n",
       "4            1              0              0              0              1   \n",
       "\n",
       "     ...      population_n  population_s  population_v  population_y  \\\n",
       "0    ...                 1             0             0             0   \n",
       "1    ...                 1             0             0             0   \n",
       "2    ...                 0             1             0             0   \n",
       "3    ...                 0             0             0             0   \n",
       "4    ...                 1             0             0             0   \n",
       "\n",
       "   habitat_d  habitat_g  habitat_l  habitat_m  habitat_p  habitat_u  \n",
       "0          0          1          0          0          0          0  \n",
       "1          0          0          0          1          0          0  \n",
       "2          0          0          0          0          0          1  \n",
       "3          0          1          0          0          0          0  \n",
       "4          0          1          0          0          0          0  \n",
       "\n",
       "[5 rows x 98 columns]"
      ]
     },
     "execution_count": 116,
     "metadata": {},
     "output_type": "execute_result"
    }
   ],
   "source": [
    "# TODO: Encode the entire dataset using dummies\n",
    "#X_dr = pd.get_dummies(X_dr)\n",
    "X_dr = pd.get_dummies(X_dr, columns = ['cap-shape', 'cap-surface', 'cap-color', 'bruises?', 'odor', 'gill-attachment', 'gill-spacing', 'gill-size', 'gill-color', 'stalk-shape', 'stalk-root', 'stalk-surface-above-ring', 'stalk-surface-below-ring', 'stalk-color-above-ring', 'stalk-color-below-ring', 'veil-type', 'veil-color', 'ring-number', 'ring-type', 'spore-print-color', 'population', 'habitat'])\n",
    "\n",
    "print \"After dummies: \", X_dr.shape\n",
    "X_dr.head()"
   ]
  },
  {
   "cell_type": "code",
   "execution_count": 117,
   "metadata": {
    "collapsed": false
   },
   "outputs": [
    {
     "data": {
      "text/plain": [
       "(3950, 1693, 3950, 1693)"
      ]
     },
     "execution_count": 117,
     "metadata": {},
     "output_type": "execute_result"
    }
   ],
   "source": [
    "# TODO: Split your data into test / train sets\n",
    "# Your test size can be 30% with random_state 7\n",
    "# Use variable names: X_train, X_test, y_train, y_test\n",
    "from sklearn.cross_validation import train_test_split\n",
    "X_train, X_test, y_train, y_test = train_test_split(X_dr, y, test_size=0.3, random_state=7)\n",
    "\n",
    "len(X_train), len(X_test), len(y_train), len(y_test)"
   ]
  },
  {
   "cell_type": "code",
   "execution_count": 118,
   "metadata": {
    "collapsed": true
   },
   "outputs": [],
   "source": [
    "# TODO: Create an DT classifier. No need to set any parameters\n",
    "from sklearn import tree\n",
    "model = tree.DecisionTreeClassifier()"
   ]
  },
  {
   "cell_type": "code",
   "execution_count": 130,
   "metadata": {
    "collapsed": false
   },
   "outputs": [
    {
     "name": "stdout",
     "output_type": "stream",
     "text": [
      "High-Dimensionality Score:  100.0\n"
     ]
    }
   ],
   "source": [
    "# TODO: train the classifier on the training data / labels:\n",
    "# TODO: score the classifier on the testing data / labels:\n",
    "model.fit(X_train, y_train)\n",
    "score = model.score(X_test, y_test)\n",
    "print \"High-Dimensionality Score: \", round((score*100), 3)"
   ]
  },
  {
   "cell_type": "markdown",
   "metadata": {},
   "source": [
    "* I initially thought it was overfitting because the score was 100. But the answer to the lab question 2 said that the correct score was 100.00. (So, 100 was the correct accuracy value)"
   ]
  },
  {
   "cell_type": "code",
   "execution_count": 120,
   "metadata": {
    "collapsed": false
   },
   "outputs": [],
   "source": [
    "# TODO: Use the code on the courses SciKit-Learn page to output a .DOT file\n",
    "# Then render the .DOT to .PNGs. Ensure you have graphviz installed.\n",
    "# If not, `brew install graphviz. If you can't, use: http://webgraphviz.com/\n",
    "tree.export_graphviz(model.tree_, out_file = 'Module6/Datasets/tree.dot', feature_names = X_dr.columns)"
   ]
  },
  {
   "cell_type": "code",
   "execution_count": 2,
   "metadata": {
    "collapsed": false
   },
   "outputs": [
    {
     "data": {
      "text/plain": [
       "0"
      ]
     },
     "execution_count": 2,
     "metadata": {},
     "output_type": "execute_result"
    }
   ],
   "source": [
    "from subprocess import call\n",
    "call(['dot', '-T', 'png', 'tree.dot', '-o', 'tree.png'])"
   ]
  },
  {
   "cell_type": "markdown",
   "metadata": {},
   "source": [
    "![TreeImg](Module6/Datasets/tree.png \"tree\")"
   ]
  },
  {
   "cell_type": "markdown",
   "metadata": {},
   "source": [
    "##### Lab Question 6.5.1 (1 point possible)\n",
    "\n",
    "What are the top two features you should consider when deciding if a mushroom is eadible or not?\n",
    "\n",
    "- (a) Odor, and Gill Size\n",
    "- (b) Stalk Color Below Ring, and Gill Color\n",
    "- (c) Bruises?, and Cap Color\n",
    "- (d) Population, and Cap Shape\n",
    "- (e) Spore Print Color, and Veil Type"
   ]
  },
  {
   "cell_type": "code",
   "execution_count": 132,
   "metadata": {
    "collapsed": false
   },
   "outputs": [
    {
     "name": "stdout",
     "output_type": "stream",
     "text": [
      "Top 5 important features are: \n",
      "[('spore-prin', 0.638489733424509) ('gill-size_', 0.16219328833575347)\n",
      " ('stalk-shap', 0.05831012530232848) ('ring-numbe', 0.05798943841994421)\n",
      " ('odor_n', 0.04893101530510457)]\n"
     ]
    }
   ],
   "source": [
    "# From my previous ipython code\n",
    "feature_importance = zip(X_train, model.feature_importances_)\n",
    "\n",
    "dtype = [('feature', 'S10'), ('importance', 'float')] # S10: 10-character string\n",
    "feature_importance = np.array(feature_importance, dtype = dtype)\n",
    "my_feature_sort = np.sort(feature_importance, order='importance')[::-1]\n",
    "\n",
    "print \"Top 5 important features are: \\n\", my_feature_sort[0:5]"
   ]
  },
  {
   "cell_type": "markdown",
   "metadata": {},
   "source": [
    "<b>* My answer</b>: (a) (<== <b>Correct!</b>)\n",
    "\n",
    "<b>* Explanation</b>: \n",
    "Once you build out the decision tree, the nodes closer to the top are the most important nodes."
   ]
  },
  {
   "cell_type": "code",
   "execution_count": null,
   "metadata": {
    "collapsed": true
   },
   "outputs": [],
   "source": []
  },
  {
   "cell_type": "markdown",
   "metadata": {},
   "source": [
    "##### Lab Question 6.5.2 (1 point possible)\n",
    "\n",
    "Please enter a numeric value (e.g. 0, 1, 10.5, etc) which correctly answers the question(s) below:\n",
    "\n",
    "- What was your decision tree's accuracy after testing it against the independent testing set? Enter it as printed in the lab\n",
    "\n",
    "<b>* My answer</b>: 100 (<== <b>Correct!</b>)\n",
    "\n",
    "<b>* Explanation</b>: \n",
    "This dataset was pretty easy for the tree to classify. You should have got a 100% score."
   ]
  },
  {
   "cell_type": "code",
   "execution_count": null,
   "metadata": {
    "collapsed": true
   },
   "outputs": [],
   "source": []
  },
  {
   "cell_type": "code",
   "execution_count": null,
   "metadata": {
    "collapsed": true
   },
   "outputs": [],
   "source": [
    "######################################################################"
   ]
  },
  {
   "cell_type": "markdown",
   "metadata": {},
   "source": [
    "### Lab Assignment 6.6\n",
    "\n",
    "Human activity monitoring is a growing field within data science. It has practical use within the healthcare industry, particular with tracking the elderly to make sure they don't end up doing things which might cause them to hurt themselves. Governments are also very interested in it do that they can detect unusual crowd activities, perimeter breaches, or the identification of specific activities, such as loitering, littering, or fighting. Fitness apps also make use of activity monitoring to better estimate the amount of calories used by the body during a period of time.\n",
    "\n",
    "In this lab, you will be training a random forest against a public domain Human Activity Dataset titled [Wearable Computing: Accelerometers' Data Classification of Body Postures and Movements](http://groupware.les.inf.puc-rio.br/har#dataset), containing 165,633, one of which is invalid. Within the dataset, there are five target activities:\n",
    "\n",
    "* Sitting\n",
    "* Sitting Down\n",
    "* Standing\n",
    "* Standing Up\n",
    "* Walking\n",
    "\n",
    "These activities were captured from four people wearing accelerometers mounted on their waist, left thigh, right arm, and right ankle. To get started:\n",
    "\n",
    "1. Acquire the [DLA HAR  Dataset](http://groupware.les.inf.puc-rio.br/har#dataset) from their webpage. Be sure to get the <b>dataset-har-PUC-Rio-ugulino.zip</b> file and not the weight lifting one. That's a bonus dataset you can try fitting afterwards!\n",
    "2. Open up the sample code located in Module6/<b>assignment6.py</b> and read through it.\n",
    "3. Complete out all the requisite ToDo's as usual.\n",
    "4. Finally, answer the following questions:"
   ]
  },
  {
   "cell_type": "code",
   "execution_count": 133,
   "metadata": {
    "collapsed": true
   },
   "outputs": [],
   "source": [
    "import pandas as pd\n",
    "import time"
   ]
  },
  {
   "cell_type": "code",
   "execution_count": 134,
   "metadata": {
    "collapsed": true
   },
   "outputs": [],
   "source": [
    "# Grab the DLA HAR dataset from:\n",
    "# http://groupware.les.inf.puc-rio.br/har\n",
    "# http://groupware.les.inf.puc-rio.br/static/har/dataset-har-PUC-Rio-ugulino.zip"
   ]
  },
  {
   "cell_type": "code",
   "execution_count": 155,
   "metadata": {
    "collapsed": false
   },
   "outputs": [
    {
     "data": {
      "text/html": [
       "<div>\n",
       "<table border=\"1\" class=\"dataframe\">\n",
       "  <thead>\n",
       "    <tr style=\"text-align: right;\">\n",
       "      <th></th>\n",
       "      <th></th>\n",
       "      <th>user;gender;age;how_tall_in_meters;weight;body_mass_index;x1;y1;z1;x2;y2;z2;x3;y3;z3;x4;y4;z4;class</th>\n",
       "    </tr>\n",
       "  </thead>\n",
       "  <tbody>\n",
       "    <tr>\n",
       "      <th rowspan=\"5\" valign=\"top\">debora;Woman;46;1</th>\n",
       "      <th>62;75;28</th>\n",
       "      <td>6;-3;92;-63;-23;18;-19;5;104;-92;-150;-103;-14...</td>\n",
       "    </tr>\n",
       "    <tr>\n",
       "      <th>62;75;28</th>\n",
       "      <td>6;-3;94;-64;-21;18;-18;-14;104;-90;-149;-104;-...</td>\n",
       "    </tr>\n",
       "    <tr>\n",
       "      <th>62;75;28</th>\n",
       "      <td>6;-1;97;-61;-12;20;-15;-13;104;-90;-151;-104;-...</td>\n",
       "    </tr>\n",
       "    <tr>\n",
       "      <th>62;75;28</th>\n",
       "      <td>6;-2;96;-57;-15;21;-16;-13;104;-89;-153;-103;-...</td>\n",
       "    </tr>\n",
       "    <tr>\n",
       "      <th>62;75;28</th>\n",
       "      <td>6;-1;96;-61;-13;20;-15;-13;104;-89;-153;-104;-...</td>\n",
       "    </tr>\n",
       "  </tbody>\n",
       "</table>\n",
       "</div>"
      ],
      "text/plain": [
       "                           user;gender;age;how_tall_in_meters;weight;body_mass_index;x1;y1;z1;x2;y2;z2;x3;y3;z3;x4;y4;z4;class\n",
       "debora;Woman;46;1 62;75;28  6;-3;92;-63;-23;18;-19;5;104;-92;-150;-103;-14...                                                 \n",
       "                  62;75;28  6;-3;94;-64;-21;18;-18;-14;104;-90;-149;-104;-...                                                 \n",
       "                  62;75;28  6;-1;97;-61;-12;20;-15;-13;104;-90;-151;-104;-...                                                 \n",
       "                  62;75;28  6;-2;96;-57;-15;21;-16;-13;104;-89;-153;-103;-...                                                 \n",
       "                  62;75;28  6;-1;96;-61;-13;20;-15;-13;104;-89;-153;-104;-...                                                 "
      ]
     },
     "execution_count": 155,
     "metadata": {},
     "output_type": "execute_result"
    }
   ],
   "source": [
    "# TODO: Load up the dataset into dataframe 'X'\n",
    "# Just for testing \n",
    "X = pd.read_csv('Module6/Datasets/dataset-har-PUC-Rio-ugulino.csv')\n",
    "X.head()"
   ]
  },
  {
   "cell_type": "code",
   "execution_count": 213,
   "metadata": {
    "collapsed": false
   },
   "outputs": [
    {
     "data": {
      "text/html": [
       "<div>\n",
       "<table border=\"1\" class=\"dataframe\">\n",
       "  <thead>\n",
       "    <tr style=\"text-align: right;\">\n",
       "      <th></th>\n",
       "      <th>user</th>\n",
       "      <th>gender</th>\n",
       "      <th>age</th>\n",
       "      <th>how_tall_in_meters</th>\n",
       "      <th>weight</th>\n",
       "      <th>body_mass_index</th>\n",
       "      <th>x1</th>\n",
       "      <th>y1</th>\n",
       "      <th>z1</th>\n",
       "      <th>x2</th>\n",
       "      <th>y2</th>\n",
       "      <th>z2</th>\n",
       "      <th>x3</th>\n",
       "      <th>y3</th>\n",
       "      <th>z3</th>\n",
       "      <th>x4</th>\n",
       "      <th>y4</th>\n",
       "      <th>z4</th>\n",
       "      <th>class</th>\n",
       "    </tr>\n",
       "  </thead>\n",
       "  <tbody>\n",
       "    <tr>\n",
       "      <th>0</th>\n",
       "      <td>debora</td>\n",
       "      <td>Woman</td>\n",
       "      <td>46</td>\n",
       "      <td>1.62</td>\n",
       "      <td>75</td>\n",
       "      <td>28.6</td>\n",
       "      <td>-3</td>\n",
       "      <td>92</td>\n",
       "      <td>-63</td>\n",
       "      <td>-23</td>\n",
       "      <td>18</td>\n",
       "      <td>-19</td>\n",
       "      <td>5</td>\n",
       "      <td>104</td>\n",
       "      <td>-92</td>\n",
       "      <td>-150</td>\n",
       "      <td>-103</td>\n",
       "      <td>-147</td>\n",
       "      <td>sitting</td>\n",
       "    </tr>\n",
       "    <tr>\n",
       "      <th>1</th>\n",
       "      <td>debora</td>\n",
       "      <td>Woman</td>\n",
       "      <td>46</td>\n",
       "      <td>1.62</td>\n",
       "      <td>75</td>\n",
       "      <td>28.6</td>\n",
       "      <td>-3</td>\n",
       "      <td>94</td>\n",
       "      <td>-64</td>\n",
       "      <td>-21</td>\n",
       "      <td>18</td>\n",
       "      <td>-18</td>\n",
       "      <td>-14</td>\n",
       "      <td>104</td>\n",
       "      <td>-90</td>\n",
       "      <td>-149</td>\n",
       "      <td>-104</td>\n",
       "      <td>-145</td>\n",
       "      <td>sitting</td>\n",
       "    </tr>\n",
       "    <tr>\n",
       "      <th>2</th>\n",
       "      <td>debora</td>\n",
       "      <td>Woman</td>\n",
       "      <td>46</td>\n",
       "      <td>1.62</td>\n",
       "      <td>75</td>\n",
       "      <td>28.6</td>\n",
       "      <td>-1</td>\n",
       "      <td>97</td>\n",
       "      <td>-61</td>\n",
       "      <td>-12</td>\n",
       "      <td>20</td>\n",
       "      <td>-15</td>\n",
       "      <td>-13</td>\n",
       "      <td>104</td>\n",
       "      <td>-90</td>\n",
       "      <td>-151</td>\n",
       "      <td>-104</td>\n",
       "      <td>-144</td>\n",
       "      <td>sitting</td>\n",
       "    </tr>\n",
       "    <tr>\n",
       "      <th>3</th>\n",
       "      <td>debora</td>\n",
       "      <td>Woman</td>\n",
       "      <td>46</td>\n",
       "      <td>1.62</td>\n",
       "      <td>75</td>\n",
       "      <td>28.6</td>\n",
       "      <td>-2</td>\n",
       "      <td>96</td>\n",
       "      <td>-57</td>\n",
       "      <td>-15</td>\n",
       "      <td>21</td>\n",
       "      <td>-16</td>\n",
       "      <td>-13</td>\n",
       "      <td>104</td>\n",
       "      <td>-89</td>\n",
       "      <td>-153</td>\n",
       "      <td>-103</td>\n",
       "      <td>-142</td>\n",
       "      <td>sitting</td>\n",
       "    </tr>\n",
       "    <tr>\n",
       "      <th>4</th>\n",
       "      <td>debora</td>\n",
       "      <td>Woman</td>\n",
       "      <td>46</td>\n",
       "      <td>1.62</td>\n",
       "      <td>75</td>\n",
       "      <td>28.6</td>\n",
       "      <td>-1</td>\n",
       "      <td>96</td>\n",
       "      <td>-61</td>\n",
       "      <td>-13</td>\n",
       "      <td>20</td>\n",
       "      <td>-15</td>\n",
       "      <td>-13</td>\n",
       "      <td>104</td>\n",
       "      <td>-89</td>\n",
       "      <td>-153</td>\n",
       "      <td>-104</td>\n",
       "      <td>-143</td>\n",
       "      <td>sitting</td>\n",
       "    </tr>\n",
       "  </tbody>\n",
       "</table>\n",
       "</div>"
      ],
      "text/plain": [
       "     user gender  age  how_tall_in_meters  weight  body_mass_index  x1  y1  \\\n",
       "0  debora  Woman   46                1.62      75             28.6  -3  92   \n",
       "1  debora  Woman   46                1.62      75             28.6  -3  94   \n",
       "2  debora  Woman   46                1.62      75             28.6  -1  97   \n",
       "3  debora  Woman   46                1.62      75             28.6  -2  96   \n",
       "4  debora  Woman   46                1.62      75             28.6  -1  96   \n",
       "\n",
       "   z1  x2  y2  z2  x3   y3  z3   x4   y4    z4    class  \n",
       "0 -63 -23  18 -19   5  104 -92 -150 -103  -147  sitting  \n",
       "1 -64 -21  18 -18 -14  104 -90 -149 -104  -145  sitting  \n",
       "2 -61 -12  20 -15 -13  104 -90 -151 -104  -144  sitting  \n",
       "3 -57 -15  21 -16 -13  104 -89 -153 -103  -142  sitting  \n",
       "4 -61 -13  20 -15 -13  104 -89 -153 -104  -143  sitting  "
      ]
     },
     "execution_count": 213,
     "metadata": {},
     "output_type": "execute_result"
    }
   ],
   "source": [
    "X = pd.read_csv('Module6/Datasets/dataset-har-PUC-Rio-ugulino.csv', sep=\";\", decimal=\",\")\n",
    "X.head()"
   ]
  },
  {
   "cell_type": "code",
   "execution_count": 214,
   "metadata": {
    "collapsed": false
   },
   "outputs": [
    {
     "data": {
      "text/html": [
       "<div>\n",
       "<table border=\"1\" class=\"dataframe\">\n",
       "  <thead>\n",
       "    <tr style=\"text-align: right;\">\n",
       "      <th></th>\n",
       "      <th>age</th>\n",
       "      <th>how_tall_in_meters</th>\n",
       "      <th>weight</th>\n",
       "      <th>body_mass_index</th>\n",
       "      <th>x1</th>\n",
       "      <th>y1</th>\n",
       "      <th>z1</th>\n",
       "      <th>x2</th>\n",
       "      <th>y2</th>\n",
       "      <th>z2</th>\n",
       "      <th>x3</th>\n",
       "      <th>y3</th>\n",
       "      <th>z3</th>\n",
       "      <th>x4</th>\n",
       "      <th>y4</th>\n",
       "    </tr>\n",
       "  </thead>\n",
       "  <tbody>\n",
       "    <tr>\n",
       "      <th>count</th>\n",
       "      <td>165633.000000</td>\n",
       "      <td>165633.000000</td>\n",
       "      <td>165633.000000</td>\n",
       "      <td>165633.000000</td>\n",
       "      <td>165633.000000</td>\n",
       "      <td>165633.000000</td>\n",
       "      <td>165633.000000</td>\n",
       "      <td>165633.000000</td>\n",
       "      <td>165633.000000</td>\n",
       "      <td>165633.000000</td>\n",
       "      <td>165633.000000</td>\n",
       "      <td>165633.000000</td>\n",
       "      <td>165633.000000</td>\n",
       "      <td>165633.000000</td>\n",
       "      <td>165633.000000</td>\n",
       "    </tr>\n",
       "    <tr>\n",
       "      <th>mean</th>\n",
       "      <td>38.265146</td>\n",
       "      <td>1.639712</td>\n",
       "      <td>70.819408</td>\n",
       "      <td>26.188522</td>\n",
       "      <td>-6.649327</td>\n",
       "      <td>88.293667</td>\n",
       "      <td>-93.164611</td>\n",
       "      <td>-87.827504</td>\n",
       "      <td>-52.065047</td>\n",
       "      <td>-175.055200</td>\n",
       "      <td>17.423515</td>\n",
       "      <td>104.517167</td>\n",
       "      <td>-93.881726</td>\n",
       "      <td>-167.641448</td>\n",
       "      <td>-92.625171</td>\n",
       "    </tr>\n",
       "    <tr>\n",
       "      <th>std</th>\n",
       "      <td>13.184091</td>\n",
       "      <td>0.052820</td>\n",
       "      <td>11.296527</td>\n",
       "      <td>2.995777</td>\n",
       "      <td>11.616238</td>\n",
       "      <td>23.895829</td>\n",
       "      <td>39.409423</td>\n",
       "      <td>169.435194</td>\n",
       "      <td>205.159763</td>\n",
       "      <td>192.816615</td>\n",
       "      <td>52.635388</td>\n",
       "      <td>54.155843</td>\n",
       "      <td>45.389646</td>\n",
       "      <td>38.311342</td>\n",
       "      <td>19.968610</td>\n",
       "    </tr>\n",
       "    <tr>\n",
       "      <th>min</th>\n",
       "      <td>28.000000</td>\n",
       "      <td>1.580000</td>\n",
       "      <td>55.000000</td>\n",
       "      <td>22.000000</td>\n",
       "      <td>-306.000000</td>\n",
       "      <td>-271.000000</td>\n",
       "      <td>-603.000000</td>\n",
       "      <td>-494.000000</td>\n",
       "      <td>-517.000000</td>\n",
       "      <td>-617.000000</td>\n",
       "      <td>-499.000000</td>\n",
       "      <td>-506.000000</td>\n",
       "      <td>-613.000000</td>\n",
       "      <td>-702.000000</td>\n",
       "      <td>-526.000000</td>\n",
       "    </tr>\n",
       "    <tr>\n",
       "      <th>25%</th>\n",
       "      <td>28.000000</td>\n",
       "      <td>1.580000</td>\n",
       "      <td>55.000000</td>\n",
       "      <td>22.000000</td>\n",
       "      <td>-12.000000</td>\n",
       "      <td>78.000000</td>\n",
       "      <td>-120.000000</td>\n",
       "      <td>-35.000000</td>\n",
       "      <td>-29.000000</td>\n",
       "      <td>-141.000000</td>\n",
       "      <td>9.000000</td>\n",
       "      <td>95.000000</td>\n",
       "      <td>-103.000000</td>\n",
       "      <td>-190.000000</td>\n",
       "      <td>-103.000000</td>\n",
       "    </tr>\n",
       "    <tr>\n",
       "      <th>50%</th>\n",
       "      <td>31.000000</td>\n",
       "      <td>1.620000</td>\n",
       "      <td>75.000000</td>\n",
       "      <td>28.400000</td>\n",
       "      <td>-6.000000</td>\n",
       "      <td>94.000000</td>\n",
       "      <td>-98.000000</td>\n",
       "      <td>-9.000000</td>\n",
       "      <td>27.000000</td>\n",
       "      <td>-118.000000</td>\n",
       "      <td>22.000000</td>\n",
       "      <td>107.000000</td>\n",
       "      <td>-90.000000</td>\n",
       "      <td>-168.000000</td>\n",
       "      <td>-91.000000</td>\n",
       "    </tr>\n",
       "    <tr>\n",
       "      <th>75%</th>\n",
       "      <td>46.000000</td>\n",
       "      <td>1.710000</td>\n",
       "      <td>83.000000</td>\n",
       "      <td>28.600000</td>\n",
       "      <td>0.000000</td>\n",
       "      <td>101.000000</td>\n",
       "      <td>-64.000000</td>\n",
       "      <td>4.000000</td>\n",
       "      <td>86.000000</td>\n",
       "      <td>-29.000000</td>\n",
       "      <td>34.000000</td>\n",
       "      <td>120.000000</td>\n",
       "      <td>-80.000000</td>\n",
       "      <td>-153.000000</td>\n",
       "      <td>-80.000000</td>\n",
       "    </tr>\n",
       "    <tr>\n",
       "      <th>max</th>\n",
       "      <td>75.000000</td>\n",
       "      <td>1.710000</td>\n",
       "      <td>83.000000</td>\n",
       "      <td>28.600000</td>\n",
       "      <td>509.000000</td>\n",
       "      <td>533.000000</td>\n",
       "      <td>411.000000</td>\n",
       "      <td>473.000000</td>\n",
       "      <td>295.000000</td>\n",
       "      <td>122.000000</td>\n",
       "      <td>507.000000</td>\n",
       "      <td>517.000000</td>\n",
       "      <td>410.000000</td>\n",
       "      <td>-13.000000</td>\n",
       "      <td>86.000000</td>\n",
       "    </tr>\n",
       "  </tbody>\n",
       "</table>\n",
       "</div>"
      ],
      "text/plain": [
       "                 age  how_tall_in_meters         weight  body_mass_index  \\\n",
       "count  165633.000000       165633.000000  165633.000000    165633.000000   \n",
       "mean       38.265146            1.639712      70.819408        26.188522   \n",
       "std        13.184091            0.052820      11.296527         2.995777   \n",
       "min        28.000000            1.580000      55.000000        22.000000   \n",
       "25%        28.000000            1.580000      55.000000        22.000000   \n",
       "50%        31.000000            1.620000      75.000000        28.400000   \n",
       "75%        46.000000            1.710000      83.000000        28.600000   \n",
       "max        75.000000            1.710000      83.000000        28.600000   \n",
       "\n",
       "                  x1             y1             z1             x2  \\\n",
       "count  165633.000000  165633.000000  165633.000000  165633.000000   \n",
       "mean       -6.649327      88.293667     -93.164611     -87.827504   \n",
       "std        11.616238      23.895829      39.409423     169.435194   \n",
       "min      -306.000000    -271.000000    -603.000000    -494.000000   \n",
       "25%       -12.000000      78.000000    -120.000000     -35.000000   \n",
       "50%        -6.000000      94.000000     -98.000000      -9.000000   \n",
       "75%         0.000000     101.000000     -64.000000       4.000000   \n",
       "max       509.000000     533.000000     411.000000     473.000000   \n",
       "\n",
       "                  y2             z2             x3             y3  \\\n",
       "count  165633.000000  165633.000000  165633.000000  165633.000000   \n",
       "mean      -52.065047    -175.055200      17.423515     104.517167   \n",
       "std       205.159763     192.816615      52.635388      54.155843   \n",
       "min      -517.000000    -617.000000    -499.000000    -506.000000   \n",
       "25%       -29.000000    -141.000000       9.000000      95.000000   \n",
       "50%        27.000000    -118.000000      22.000000     107.000000   \n",
       "75%        86.000000     -29.000000      34.000000     120.000000   \n",
       "max       295.000000     122.000000     507.000000     517.000000   \n",
       "\n",
       "                  z3             x4             y4  \n",
       "count  165633.000000  165633.000000  165633.000000  \n",
       "mean      -93.881726    -167.641448     -92.625171  \n",
       "std        45.389646      38.311342      19.968610  \n",
       "min      -613.000000    -702.000000    -526.000000  \n",
       "25%      -103.000000    -190.000000    -103.000000  \n",
       "50%       -90.000000    -168.000000     -91.000000  \n",
       "75%       -80.000000    -153.000000     -80.000000  \n",
       "max       410.000000     -13.000000      86.000000  "
      ]
     },
     "execution_count": 214,
     "metadata": {},
     "output_type": "execute_result"
    }
   ],
   "source": [
    "X.describe()"
   ]
  },
  {
   "cell_type": "code",
   "execution_count": 215,
   "metadata": {
    "collapsed": false
   },
   "outputs": [
    {
     "data": {
      "text/plain": [
       "user                   object\n",
       "gender                 object\n",
       "age                     int64\n",
       "how_tall_in_meters    float64\n",
       "weight                  int64\n",
       "body_mass_index       float64\n",
       "x1                      int64\n",
       "y1                      int64\n",
       "z1                      int64\n",
       "x2                      int64\n",
       "y2                      int64\n",
       "z2                      int64\n",
       "x3                      int64\n",
       "y3                      int64\n",
       "z3                      int64\n",
       "x4                      int64\n",
       "y4                      int64\n",
       "z4                     object\n",
       "class                  object\n",
       "dtype: object"
      ]
     },
     "execution_count": 215,
     "metadata": {},
     "output_type": "execute_result"
    }
   ],
   "source": [
    "X.dtypes"
   ]
  },
  {
   "cell_type": "code",
   "execution_count": 216,
   "metadata": {
    "collapsed": false
   },
   "outputs": [
    {
     "data": {
      "text/plain": [
       "user                  0\n",
       "gender                0\n",
       "age                   0\n",
       "how_tall_in_meters    0\n",
       "weight                0\n",
       "body_mass_index       0\n",
       "x1                    0\n",
       "y1                    0\n",
       "z1                    0\n",
       "x2                    0\n",
       "y2                    0\n",
       "z2                    0\n",
       "x3                    0\n",
       "y3                    0\n",
       "z3                    0\n",
       "x4                    0\n",
       "y4                    0\n",
       "z4                    0\n",
       "class                 0\n",
       "dtype: int64"
      ]
     },
     "execution_count": 216,
     "metadata": {},
     "output_type": "execute_result"
    }
   ],
   "source": [
    "X.isnull().sum()"
   ]
  },
  {
   "cell_type": "code",
   "execution_count": 218,
   "metadata": {
    "collapsed": false
   },
   "outputs": [
    {
     "data": {
      "text/plain": [
       "array([-147, -145, -144, -142, -143, -146, -138, -139, -141, -133, -134,\n",
       "       -135, -140, -137, -148, -151, -149, -150, -152, -156, -157, -155,\n",
       "       -154, -153, -158, -159, -162, -163, -161, -160, -164, -165, -136,\n",
       "       -126, -125, -122, -132, -167, -170, -169, -175, -173, -166, -168,\n",
       "       -171, -172, -174, -179, -177, -176, -127, -131, -184, -181, -178,\n",
       "       -180, -106, -114, -116, -115, -89, -79, -93, -78, -128, -109, -113,\n",
       "       -119, -102, -111, -103, -130, -129, -182, -121, -186, -183, -187,\n",
       "       -190, -188, -189, -185, -192, -191, -193, -194, -197, -196, -201,\n",
       "       -251, -195, -199, -198, -123, -124, -112, -118, -120, -99, -95, -68,\n",
       "       -110, -117, -96, -100, -105, -92, -88, -107, -213, -108, -104, -98,\n",
       "       -94, -91, -97, -69, -101, -86, -82, -66, -77, -90, -56, -74, -83,\n",
       "       -81, -219, -200, '-158', '-165', '-157', '-160', '-161', '-155',\n",
       "       '-162', '-156', '-159', '-163', '-168', '-170', '-166', '-172',\n",
       "       '-177', '-171', '-169', '-173', '-167', '-174', '-164', '-176',\n",
       "       '-175', '-154', '-146', '-142', '-137', '-141', '-139', '-148',\n",
       "       '-147', '-153', '-140', '-138', '-128', '-134', '-150', '-149',\n",
       "       '-152', '-151', '-136', '-145', '-143', '-182', '-184', '-179',\n",
       "       '-186', '-188', '-183', '-191', '-185', '-181', '-144', '-190',\n",
       "       '-197', '-180', '-192', '-201', '-196', '-189', '-120', '-118',\n",
       "       '-117', '-116', '-112', '-122', '-113', '-110', '-121', '-115',\n",
       "       '-119', '-124', '-131', '-130', '-114', '-135', '-100', '-97',\n",
       "       '-106', '-125', '-132', '-126', '-129', '-133', '-221', '-127',\n",
       "       '-123', '-109', '-200', '-199', '-178', '-104', '-111', '-187',\n",
       "       '-103', '-102', '-107', '-98', '-80', '-231', '-194', '-210',\n",
       "       '-105', '-90', '-101', '-71', '-195', '-82', '-95', '-108', '-207',\n",
       "       '-209', '-202', '-205', '-208', '-211', '-214', '-203', '-204',\n",
       "       '-212', '-206', '-198', '-193', '-216', '-213', '-93', '-96', '-73',\n",
       "       '-99', '-14420-11-2011 04:50:23.713', '-88', '-94', '-43', -202,\n",
       "       -537, -205, -206, -210, -204, -203, -218, -215, -208, -212, -216,\n",
       "       -207, -259], dtype=object)"
      ]
     },
     "execution_count": 218,
     "metadata": {},
     "output_type": "execute_result"
    }
   ],
   "source": [
    "X.z4.unique()"
   ]
  },
  {
   "cell_type": "code",
   "execution_count": 219,
   "metadata": {
    "collapsed": false
   },
   "outputs": [
    {
     "data": {
      "text/plain": [
       "array(['Woman', 'Man'], dtype=object)"
      ]
     },
     "execution_count": 219,
     "metadata": {},
     "output_type": "execute_result"
    }
   ],
   "source": [
    "# TODO: Encode the gender column, 0 as male, 1 as female\n",
    "X.gender.unique()"
   ]
  },
  {
   "cell_type": "code",
   "execution_count": 220,
   "metadata": {
    "collapsed": false
   },
   "outputs": [
    {
     "data": {
      "text/plain": [
       "array([1, 0])"
      ]
     },
     "execution_count": 220,
     "metadata": {},
     "output_type": "execute_result"
    }
   ],
   "source": [
    "X.gender = X.gender.map({'Man': 0, 'Woman': 1})\n",
    "X.gender.unique()"
   ]
  },
  {
   "cell_type": "code",
   "execution_count": 221,
   "metadata": {
    "collapsed": false
   },
   "outputs": [
    {
     "name": "stdout",
     "output_type": "stream",
     "text": [
      "user                   object\n",
      "gender                  int64\n",
      "age                     int64\n",
      "how_tall_in_meters    float64\n",
      "weight                  int64\n",
      "body_mass_index       float64\n",
      "x1                      int64\n",
      "y1                      int64\n",
      "z1                      int64\n",
      "x2                      int64\n",
      "y2                      int64\n",
      "z2                      int64\n",
      "x3                      int64\n",
      "y3                      int64\n",
      "z3                      int64\n",
      "x4                      int64\n",
      "y4                      int64\n",
      "z4                     object\n",
      "class                  object\n",
      "dtype: object\n"
     ]
    }
   ],
   "source": [
    "# INFO: Check data types\n",
    "print X.dtypes"
   ]
  },
  {
   "cell_type": "code",
   "execution_count": 222,
   "metadata": {
    "collapsed": false
   },
   "outputs": [
    {
     "ename": "ValueError",
     "evalue": "Unable to parse string",
     "output_type": "error",
     "traceback": [
      "\u001b[0;31m---------------------------------------------------------------------------\u001b[0m",
      "\u001b[0;31mValueError\u001b[0m                                Traceback (most recent call last)",
      "\u001b[0;32m<ipython-input-222-e010f483fe0b>\u001b[0m in \u001b[0;36m<module>\u001b[0;34m()\u001b[0m\n\u001b[1;32m      2\u001b[0m \u001b[0;31m# use errors='raise'. This will alert you if something ends up being\u001b[0m\u001b[0;34m\u001b[0m\u001b[0;34m\u001b[0m\u001b[0m\n\u001b[1;32m      3\u001b[0m \u001b[0;31m# problematic\u001b[0m\u001b[0;34m\u001b[0m\u001b[0;34m\u001b[0m\u001b[0m\n\u001b[0;32m----> 4\u001b[0;31m \u001b[0mX\u001b[0m\u001b[0;34m.\u001b[0m\u001b[0mz4\u001b[0m \u001b[0;34m=\u001b[0m \u001b[0mpd\u001b[0m\u001b[0;34m.\u001b[0m\u001b[0mto_numeric\u001b[0m\u001b[0;34m(\u001b[0m\u001b[0mX\u001b[0m\u001b[0;34m.\u001b[0m\u001b[0mz4\u001b[0m\u001b[0;34m,\u001b[0m \u001b[0merrors\u001b[0m\u001b[0;34m=\u001b[0m\u001b[0;34m'raise'\u001b[0m\u001b[0;34m)\u001b[0m\u001b[0;34m\u001b[0m\u001b[0m\n\u001b[0m",
      "\u001b[0;32m//anaconda/lib/python2.7/site-packages/pandas/tools/util.pyc\u001b[0m in \u001b[0;36mto_numeric\u001b[0;34m(arg, errors)\u001b[0m\n\u001b[1;32m     94\u001b[0m         conv = lib.maybe_convert_numeric(arg,\n\u001b[1;32m     95\u001b[0m                                          \u001b[0mset\u001b[0m\u001b[0;34m(\u001b[0m\u001b[0;34m)\u001b[0m\u001b[0;34m,\u001b[0m\u001b[0;34m\u001b[0m\u001b[0m\n\u001b[0;32m---> 96\u001b[0;31m                                          coerce_numeric=coerce_numeric)\n\u001b[0m\u001b[1;32m     97\u001b[0m     \u001b[0;32mexcept\u001b[0m\u001b[0;34m:\u001b[0m\u001b[0;34m\u001b[0m\u001b[0m\n\u001b[1;32m     98\u001b[0m         \u001b[0;32mif\u001b[0m \u001b[0merrors\u001b[0m \u001b[0;34m==\u001b[0m \u001b[0;34m'raise'\u001b[0m\u001b[0;34m:\u001b[0m\u001b[0;34m\u001b[0m\u001b[0m\n",
      "\u001b[0;32mpandas/src/inference.pyx\u001b[0m in \u001b[0;36mpandas.lib.maybe_convert_numeric (pandas/lib.c:53467)\u001b[0;34m()\u001b[0m\n",
      "\u001b[0;32mpandas/src/inference.pyx\u001b[0m in \u001b[0;36mpandas.lib.maybe_convert_numeric (pandas/lib.c:53254)\u001b[0;34m()\u001b[0m\n",
      "\u001b[0;31mValueError\u001b[0m: Unable to parse string"
     ]
    }
   ],
   "source": [
    "# TODO: Convert any column that needs to be converted into numeric\n",
    "# use errors='raise'. This will alert you if something ends up being\n",
    "# problematic\n",
    "X.z4 = pd.to_numeric(X.z4, errors='raise')"
   ]
  },
  {
   "cell_type": "code",
   "execution_count": 224,
   "metadata": {
    "collapsed": false
   },
   "outputs": [
    {
     "data": {
      "text/html": [
       "<div>\n",
       "<table border=\"1\" class=\"dataframe\">\n",
       "  <thead>\n",
       "    <tr style=\"text-align: right;\">\n",
       "      <th></th>\n",
       "      <th>user</th>\n",
       "      <th>gender</th>\n",
       "      <th>age</th>\n",
       "      <th>how_tall_in_meters</th>\n",
       "      <th>weight</th>\n",
       "      <th>body_mass_index</th>\n",
       "      <th>x1</th>\n",
       "      <th>y1</th>\n",
       "      <th>z1</th>\n",
       "      <th>x2</th>\n",
       "      <th>y2</th>\n",
       "      <th>z2</th>\n",
       "      <th>x3</th>\n",
       "      <th>y3</th>\n",
       "      <th>z3</th>\n",
       "      <th>x4</th>\n",
       "      <th>y4</th>\n",
       "      <th>z4</th>\n",
       "      <th>class</th>\n",
       "    </tr>\n",
       "  </thead>\n",
       "  <tbody>\n",
       "    <tr>\n",
       "      <th>122076</th>\n",
       "      <td>jose_carlos</td>\n",
       "      <td>0</td>\n",
       "      <td>75</td>\n",
       "      <td>1.67</td>\n",
       "      <td>67</td>\n",
       "      <td>24</td>\n",
       "      <td>-8</td>\n",
       "      <td>101</td>\n",
       "      <td>-120</td>\n",
       "      <td>-13</td>\n",
       "      <td>91</td>\n",
       "      <td>-101</td>\n",
       "      <td>17</td>\n",
       "      <td>123</td>\n",
       "      <td>-108</td>\n",
       "      <td>-207</td>\n",
       "      <td>-82</td>\n",
       "      <td>-14420-11-2011 04:50:23.713</td>\n",
       "      <td>standingup</td>\n",
       "    </tr>\n",
       "  </tbody>\n",
       "</table>\n",
       "</div>"
      ],
      "text/plain": [
       "               user  gender  age  how_tall_in_meters  weight  body_mass_index  \\\n",
       "122076  jose_carlos       0   75                1.67      67               24   \n",
       "\n",
       "        x1   y1   z1  x2  y2   z2  x3   y3   z3   x4  y4  \\\n",
       "122076  -8  101 -120 -13  91 -101  17  123 -108 -207 -82   \n",
       "\n",
       "                                 z4       class  \n",
       "122076  -14420-11-2011 04:50:23.713  standingup  "
      ]
     },
     "execution_count": 224,
     "metadata": {},
     "output_type": "execute_result"
    }
   ],
   "source": [
    "X[ X.z4 == '-14420-11-2011 04:50:23.713']"
   ]
  },
  {
   "cell_type": "code",
   "execution_count": 225,
   "metadata": {
    "collapsed": true
   },
   "outputs": [],
   "source": [
    "X.z4 = pd.to_numeric(X.z4, errors = 'coerce')"
   ]
  },
  {
   "cell_type": "code",
   "execution_count": 226,
   "metadata": {
    "collapsed": false
   },
   "outputs": [
    {
     "data": {
      "text/plain": [
       "user                  0\n",
       "gender                0\n",
       "age                   0\n",
       "how_tall_in_meters    0\n",
       "weight                0\n",
       "body_mass_index       0\n",
       "x1                    0\n",
       "y1                    0\n",
       "z1                    0\n",
       "x2                    0\n",
       "y2                    0\n",
       "z2                    0\n",
       "x3                    0\n",
       "y3                    0\n",
       "z3                    0\n",
       "x4                    0\n",
       "y4                    0\n",
       "z4                    1\n",
       "class                 0\n",
       "dtype: int64"
      ]
     },
     "execution_count": 226,
     "metadata": {},
     "output_type": "execute_result"
    }
   ],
   "source": [
    "# INFO: If you find any problematic records, drop them before calling the\n",
    "# to_numeric methods above...\n",
    "X.isnull().sum()"
   ]
  },
  {
   "cell_type": "code",
   "execution_count": 227,
   "metadata": {
    "collapsed": true
   },
   "outputs": [],
   "source": [
    "X.dropna(inplace=True, how='any', axis=0)"
   ]
  },
  {
   "cell_type": "code",
   "execution_count": 228,
   "metadata": {
    "collapsed": false
   },
   "outputs": [
    {
     "data": {
      "text/html": [
       "<div>\n",
       "<table border=\"1\" class=\"dataframe\">\n",
       "  <thead>\n",
       "    <tr style=\"text-align: right;\">\n",
       "      <th></th>\n",
       "      <th>sitting</th>\n",
       "      <th>sittingdown</th>\n",
       "      <th>standing</th>\n",
       "      <th>standingup</th>\n",
       "      <th>walking</th>\n",
       "    </tr>\n",
       "  </thead>\n",
       "  <tbody>\n",
       "    <tr>\n",
       "      <th>0</th>\n",
       "      <td>1</td>\n",
       "      <td>0</td>\n",
       "      <td>0</td>\n",
       "      <td>0</td>\n",
       "      <td>0</td>\n",
       "    </tr>\n",
       "    <tr>\n",
       "      <th>1</th>\n",
       "      <td>1</td>\n",
       "      <td>0</td>\n",
       "      <td>0</td>\n",
       "      <td>0</td>\n",
       "      <td>0</td>\n",
       "    </tr>\n",
       "    <tr>\n",
       "      <th>2</th>\n",
       "      <td>1</td>\n",
       "      <td>0</td>\n",
       "      <td>0</td>\n",
       "      <td>0</td>\n",
       "      <td>0</td>\n",
       "    </tr>\n",
       "    <tr>\n",
       "      <th>3</th>\n",
       "      <td>1</td>\n",
       "      <td>0</td>\n",
       "      <td>0</td>\n",
       "      <td>0</td>\n",
       "      <td>0</td>\n",
       "    </tr>\n",
       "    <tr>\n",
       "      <th>4</th>\n",
       "      <td>1</td>\n",
       "      <td>0</td>\n",
       "      <td>0</td>\n",
       "      <td>0</td>\n",
       "      <td>0</td>\n",
       "    </tr>\n",
       "  </tbody>\n",
       "</table>\n",
       "</div>"
      ],
      "text/plain": [
       "   sitting  sittingdown  standing  standingup  walking\n",
       "0        1            0         0           0        0\n",
       "1        1            0         0           0        0\n",
       "2        1            0         0           0        0\n",
       "3        1            0         0           0        0\n",
       "4        1            0         0           0        0"
      ]
     },
     "execution_count": 228,
     "metadata": {},
     "output_type": "execute_result"
    }
   ],
   "source": [
    "# TODO: Encode your 'y' value as a dummies version of your dataset's \"class\" column\n",
    "y = X['class'].copy()\n",
    "y = pd.get_dummies(y)\n",
    "y.head()"
   ]
  },
  {
   "cell_type": "code",
   "execution_count": 229,
   "metadata": {
    "collapsed": false
   },
   "outputs": [
    {
     "data": {
      "text/html": [
       "<div>\n",
       "<table border=\"1\" class=\"dataframe\">\n",
       "  <thead>\n",
       "    <tr style=\"text-align: right;\">\n",
       "      <th></th>\n",
       "      <th>gender</th>\n",
       "      <th>age</th>\n",
       "      <th>how_tall_in_meters</th>\n",
       "      <th>weight</th>\n",
       "      <th>body_mass_index</th>\n",
       "      <th>x1</th>\n",
       "      <th>y1</th>\n",
       "      <th>z1</th>\n",
       "      <th>x2</th>\n",
       "      <th>y2</th>\n",
       "      <th>z2</th>\n",
       "      <th>x3</th>\n",
       "      <th>y3</th>\n",
       "      <th>z3</th>\n",
       "      <th>x4</th>\n",
       "      <th>y4</th>\n",
       "      <th>z4</th>\n",
       "    </tr>\n",
       "  </thead>\n",
       "  <tbody>\n",
       "    <tr>\n",
       "      <th>0</th>\n",
       "      <td>1</td>\n",
       "      <td>46</td>\n",
       "      <td>1.62</td>\n",
       "      <td>75</td>\n",
       "      <td>28.6</td>\n",
       "      <td>-3</td>\n",
       "      <td>92</td>\n",
       "      <td>-63</td>\n",
       "      <td>-23</td>\n",
       "      <td>18</td>\n",
       "      <td>-19</td>\n",
       "      <td>5</td>\n",
       "      <td>104</td>\n",
       "      <td>-92</td>\n",
       "      <td>-150</td>\n",
       "      <td>-103</td>\n",
       "      <td>-147</td>\n",
       "    </tr>\n",
       "    <tr>\n",
       "      <th>1</th>\n",
       "      <td>1</td>\n",
       "      <td>46</td>\n",
       "      <td>1.62</td>\n",
       "      <td>75</td>\n",
       "      <td>28.6</td>\n",
       "      <td>-3</td>\n",
       "      <td>94</td>\n",
       "      <td>-64</td>\n",
       "      <td>-21</td>\n",
       "      <td>18</td>\n",
       "      <td>-18</td>\n",
       "      <td>-14</td>\n",
       "      <td>104</td>\n",
       "      <td>-90</td>\n",
       "      <td>-149</td>\n",
       "      <td>-104</td>\n",
       "      <td>-145</td>\n",
       "    </tr>\n",
       "    <tr>\n",
       "      <th>2</th>\n",
       "      <td>1</td>\n",
       "      <td>46</td>\n",
       "      <td>1.62</td>\n",
       "      <td>75</td>\n",
       "      <td>28.6</td>\n",
       "      <td>-1</td>\n",
       "      <td>97</td>\n",
       "      <td>-61</td>\n",
       "      <td>-12</td>\n",
       "      <td>20</td>\n",
       "      <td>-15</td>\n",
       "      <td>-13</td>\n",
       "      <td>104</td>\n",
       "      <td>-90</td>\n",
       "      <td>-151</td>\n",
       "      <td>-104</td>\n",
       "      <td>-144</td>\n",
       "    </tr>\n",
       "    <tr>\n",
       "      <th>3</th>\n",
       "      <td>1</td>\n",
       "      <td>46</td>\n",
       "      <td>1.62</td>\n",
       "      <td>75</td>\n",
       "      <td>28.6</td>\n",
       "      <td>-2</td>\n",
       "      <td>96</td>\n",
       "      <td>-57</td>\n",
       "      <td>-15</td>\n",
       "      <td>21</td>\n",
       "      <td>-16</td>\n",
       "      <td>-13</td>\n",
       "      <td>104</td>\n",
       "      <td>-89</td>\n",
       "      <td>-153</td>\n",
       "      <td>-103</td>\n",
       "      <td>-142</td>\n",
       "    </tr>\n",
       "    <tr>\n",
       "      <th>4</th>\n",
       "      <td>1</td>\n",
       "      <td>46</td>\n",
       "      <td>1.62</td>\n",
       "      <td>75</td>\n",
       "      <td>28.6</td>\n",
       "      <td>-1</td>\n",
       "      <td>96</td>\n",
       "      <td>-61</td>\n",
       "      <td>-13</td>\n",
       "      <td>20</td>\n",
       "      <td>-15</td>\n",
       "      <td>-13</td>\n",
       "      <td>104</td>\n",
       "      <td>-89</td>\n",
       "      <td>-153</td>\n",
       "      <td>-104</td>\n",
       "      <td>-143</td>\n",
       "    </tr>\n",
       "  </tbody>\n",
       "</table>\n",
       "</div>"
      ],
      "text/plain": [
       "   gender  age  how_tall_in_meters  weight  body_mass_index  x1  y1  z1  x2  \\\n",
       "0       1   46                1.62      75             28.6  -3  92 -63 -23   \n",
       "1       1   46                1.62      75             28.6  -3  94 -64 -21   \n",
       "2       1   46                1.62      75             28.6  -1  97 -61 -12   \n",
       "3       1   46                1.62      75             28.6  -2  96 -57 -15   \n",
       "4       1   46                1.62      75             28.6  -1  96 -61 -13   \n",
       "\n",
       "   y2  z2  x3   y3  z3   x4   y4   z4  \n",
       "0  18 -19   5  104 -92 -150 -103 -147  \n",
       "1  18 -18 -14  104 -90 -149 -104 -145  \n",
       "2  20 -15 -13  104 -90 -151 -104 -144  \n",
       "3  21 -16 -13  104 -89 -153 -103 -142  \n",
       "4  20 -15 -13  104 -89 -153 -104 -143  "
      ]
     },
     "execution_count": 229,
     "metadata": {},
     "output_type": "execute_result"
    }
   ],
   "source": [
    "# TODO: Get rid of the user and class columns\n",
    "X.drop(labels=['user', 'class'], inplace=True, axis=1)\n",
    "X.head()"
   ]
  },
  {
   "cell_type": "code",
   "execution_count": 230,
   "metadata": {
    "collapsed": false
   },
   "outputs": [
    {
     "data": {
      "text/html": [
       "<div>\n",
       "<table border=\"1\" class=\"dataframe\">\n",
       "  <thead>\n",
       "    <tr style=\"text-align: right;\">\n",
       "      <th></th>\n",
       "      <th>gender</th>\n",
       "      <th>age</th>\n",
       "      <th>how_tall_in_meters</th>\n",
       "      <th>weight</th>\n",
       "      <th>body_mass_index</th>\n",
       "      <th>x1</th>\n",
       "      <th>y1</th>\n",
       "      <th>z1</th>\n",
       "      <th>x2</th>\n",
       "      <th>y2</th>\n",
       "      <th>z2</th>\n",
       "      <th>x3</th>\n",
       "      <th>y3</th>\n",
       "      <th>z3</th>\n",
       "      <th>x4</th>\n",
       "      <th>y4</th>\n",
       "      <th>z4</th>\n",
       "    </tr>\n",
       "  </thead>\n",
       "  <tbody>\n",
       "    <tr>\n",
       "      <th>count</th>\n",
       "      <td>165632.000000</td>\n",
       "      <td>165632.000000</td>\n",
       "      <td>165632.000000</td>\n",
       "      <td>165632.000000</td>\n",
       "      <td>165632.000000</td>\n",
       "      <td>165632.000000</td>\n",
       "      <td>165632.000000</td>\n",
       "      <td>165632.000000</td>\n",
       "      <td>165632.000000</td>\n",
       "      <td>165632.000000</td>\n",
       "      <td>165632.000000</td>\n",
       "      <td>165632.000000</td>\n",
       "      <td>165632.000000</td>\n",
       "      <td>165632.000000</td>\n",
       "      <td>165632.000000</td>\n",
       "      <td>165632.000000</td>\n",
       "      <td>165632.000000</td>\n",
       "    </tr>\n",
       "    <tr>\n",
       "      <th>mean</th>\n",
       "      <td>0.612044</td>\n",
       "      <td>38.264925</td>\n",
       "      <td>1.639712</td>\n",
       "      <td>70.819431</td>\n",
       "      <td>26.188535</td>\n",
       "      <td>-6.649319</td>\n",
       "      <td>88.293591</td>\n",
       "      <td>-93.164449</td>\n",
       "      <td>-87.827956</td>\n",
       "      <td>-52.065911</td>\n",
       "      <td>-175.055647</td>\n",
       "      <td>17.423517</td>\n",
       "      <td>104.517056</td>\n",
       "      <td>-93.881641</td>\n",
       "      <td>-167.641211</td>\n",
       "      <td>-92.625235</td>\n",
       "      <td>-159.650985</td>\n",
       "    </tr>\n",
       "    <tr>\n",
       "      <th>std</th>\n",
       "      <td>0.487286</td>\n",
       "      <td>13.183821</td>\n",
       "      <td>0.052820</td>\n",
       "      <td>11.296557</td>\n",
       "      <td>2.995781</td>\n",
       "      <td>11.616273</td>\n",
       "      <td>23.895881</td>\n",
       "      <td>39.409487</td>\n",
       "      <td>169.435606</td>\n",
       "      <td>205.160081</td>\n",
       "      <td>192.817111</td>\n",
       "      <td>52.635546</td>\n",
       "      <td>54.155987</td>\n",
       "      <td>45.389770</td>\n",
       "      <td>38.311336</td>\n",
       "      <td>19.968653</td>\n",
       "      <td>13.221020</td>\n",
       "    </tr>\n",
       "    <tr>\n",
       "      <th>min</th>\n",
       "      <td>0.000000</td>\n",
       "      <td>28.000000</td>\n",
       "      <td>1.580000</td>\n",
       "      <td>55.000000</td>\n",
       "      <td>22.000000</td>\n",
       "      <td>-306.000000</td>\n",
       "      <td>-271.000000</td>\n",
       "      <td>-603.000000</td>\n",
       "      <td>-494.000000</td>\n",
       "      <td>-517.000000</td>\n",
       "      <td>-617.000000</td>\n",
       "      <td>-499.000000</td>\n",
       "      <td>-506.000000</td>\n",
       "      <td>-613.000000</td>\n",
       "      <td>-702.000000</td>\n",
       "      <td>-526.000000</td>\n",
       "      <td>-537.000000</td>\n",
       "    </tr>\n",
       "    <tr>\n",
       "      <th>25%</th>\n",
       "      <td>0.000000</td>\n",
       "      <td>28.000000</td>\n",
       "      <td>1.580000</td>\n",
       "      <td>55.000000</td>\n",
       "      <td>22.000000</td>\n",
       "      <td>-12.000000</td>\n",
       "      <td>78.000000</td>\n",
       "      <td>-120.000000</td>\n",
       "      <td>-35.000000</td>\n",
       "      <td>-29.000000</td>\n",
       "      <td>-141.000000</td>\n",
       "      <td>9.000000</td>\n",
       "      <td>95.000000</td>\n",
       "      <td>-103.000000</td>\n",
       "      <td>-190.000000</td>\n",
       "      <td>-103.000000</td>\n",
       "      <td>-167.000000</td>\n",
       "    </tr>\n",
       "    <tr>\n",
       "      <th>50%</th>\n",
       "      <td>1.000000</td>\n",
       "      <td>31.000000</td>\n",
       "      <td>1.620000</td>\n",
       "      <td>75.000000</td>\n",
       "      <td>28.400000</td>\n",
       "      <td>-6.000000</td>\n",
       "      <td>94.000000</td>\n",
       "      <td>-98.000000</td>\n",
       "      <td>-9.000000</td>\n",
       "      <td>27.000000</td>\n",
       "      <td>-118.000000</td>\n",
       "      <td>22.000000</td>\n",
       "      <td>107.000000</td>\n",
       "      <td>-90.000000</td>\n",
       "      <td>-168.000000</td>\n",
       "      <td>-91.000000</td>\n",
       "      <td>-160.000000</td>\n",
       "    </tr>\n",
       "    <tr>\n",
       "      <th>75%</th>\n",
       "      <td>1.000000</td>\n",
       "      <td>46.000000</td>\n",
       "      <td>1.710000</td>\n",
       "      <td>83.000000</td>\n",
       "      <td>28.600000</td>\n",
       "      <td>0.000000</td>\n",
       "      <td>101.000000</td>\n",
       "      <td>-64.000000</td>\n",
       "      <td>4.000000</td>\n",
       "      <td>86.000000</td>\n",
       "      <td>-29.000000</td>\n",
       "      <td>34.000000</td>\n",
       "      <td>120.000000</td>\n",
       "      <td>-80.000000</td>\n",
       "      <td>-153.000000</td>\n",
       "      <td>-80.000000</td>\n",
       "      <td>-153.000000</td>\n",
       "    </tr>\n",
       "    <tr>\n",
       "      <th>max</th>\n",
       "      <td>1.000000</td>\n",
       "      <td>75.000000</td>\n",
       "      <td>1.710000</td>\n",
       "      <td>83.000000</td>\n",
       "      <td>28.600000</td>\n",
       "      <td>509.000000</td>\n",
       "      <td>533.000000</td>\n",
       "      <td>411.000000</td>\n",
       "      <td>473.000000</td>\n",
       "      <td>295.000000</td>\n",
       "      <td>122.000000</td>\n",
       "      <td>507.000000</td>\n",
       "      <td>517.000000</td>\n",
       "      <td>410.000000</td>\n",
       "      <td>-13.000000</td>\n",
       "      <td>86.000000</td>\n",
       "      <td>-43.000000</td>\n",
       "    </tr>\n",
       "  </tbody>\n",
       "</table>\n",
       "</div>"
      ],
      "text/plain": [
       "              gender            age  how_tall_in_meters         weight  \\\n",
       "count  165632.000000  165632.000000       165632.000000  165632.000000   \n",
       "mean        0.612044      38.264925            1.639712      70.819431   \n",
       "std         0.487286      13.183821            0.052820      11.296557   \n",
       "min         0.000000      28.000000            1.580000      55.000000   \n",
       "25%         0.000000      28.000000            1.580000      55.000000   \n",
       "50%         1.000000      31.000000            1.620000      75.000000   \n",
       "75%         1.000000      46.000000            1.710000      83.000000   \n",
       "max         1.000000      75.000000            1.710000      83.000000   \n",
       "\n",
       "       body_mass_index             x1             y1             z1  \\\n",
       "count    165632.000000  165632.000000  165632.000000  165632.000000   \n",
       "mean         26.188535      -6.649319      88.293591     -93.164449   \n",
       "std           2.995781      11.616273      23.895881      39.409487   \n",
       "min          22.000000    -306.000000    -271.000000    -603.000000   \n",
       "25%          22.000000     -12.000000      78.000000    -120.000000   \n",
       "50%          28.400000      -6.000000      94.000000     -98.000000   \n",
       "75%          28.600000       0.000000     101.000000     -64.000000   \n",
       "max          28.600000     509.000000     533.000000     411.000000   \n",
       "\n",
       "                  x2             y2             z2             x3  \\\n",
       "count  165632.000000  165632.000000  165632.000000  165632.000000   \n",
       "mean      -87.827956     -52.065911    -175.055647      17.423517   \n",
       "std       169.435606     205.160081     192.817111      52.635546   \n",
       "min      -494.000000    -517.000000    -617.000000    -499.000000   \n",
       "25%       -35.000000     -29.000000    -141.000000       9.000000   \n",
       "50%        -9.000000      27.000000    -118.000000      22.000000   \n",
       "75%         4.000000      86.000000     -29.000000      34.000000   \n",
       "max       473.000000     295.000000     122.000000     507.000000   \n",
       "\n",
       "                  y3             z3             x4             y4  \\\n",
       "count  165632.000000  165632.000000  165632.000000  165632.000000   \n",
       "mean      104.517056     -93.881641    -167.641211     -92.625235   \n",
       "std        54.155987      45.389770      38.311336      19.968653   \n",
       "min      -506.000000    -613.000000    -702.000000    -526.000000   \n",
       "25%        95.000000    -103.000000    -190.000000    -103.000000   \n",
       "50%       107.000000     -90.000000    -168.000000     -91.000000   \n",
       "75%       120.000000     -80.000000    -153.000000     -80.000000   \n",
       "max       517.000000     410.000000     -13.000000      86.000000   \n",
       "\n",
       "                  z4  \n",
       "count  165632.000000  \n",
       "mean     -159.650985  \n",
       "std        13.221020  \n",
       "min      -537.000000  \n",
       "25%      -167.000000  \n",
       "50%      -160.000000  \n",
       "75%      -153.000000  \n",
       "max       -43.000000  "
      ]
     },
     "execution_count": 230,
     "metadata": {},
     "output_type": "execute_result"
    }
   ],
   "source": [
    "X.describe()"
   ]
  },
  {
   "cell_type": "code",
   "execution_count": 231,
   "metadata": {
    "collapsed": false
   },
   "outputs": [
    {
     "data": {
      "text/html": [
       "<div>\n",
       "<table border=\"1\" class=\"dataframe\">\n",
       "  <thead>\n",
       "    <tr style=\"text-align: right;\">\n",
       "      <th></th>\n",
       "      <th>gender</th>\n",
       "      <th>age</th>\n",
       "      <th>how_tall_in_meters</th>\n",
       "      <th>weight</th>\n",
       "      <th>body_mass_index</th>\n",
       "      <th>x1</th>\n",
       "      <th>y1</th>\n",
       "      <th>z1</th>\n",
       "      <th>x2</th>\n",
       "      <th>y2</th>\n",
       "      <th>z2</th>\n",
       "      <th>x3</th>\n",
       "      <th>y3</th>\n",
       "      <th>z3</th>\n",
       "      <th>x4</th>\n",
       "      <th>y4</th>\n",
       "      <th>z4</th>\n",
       "    </tr>\n",
       "  </thead>\n",
       "  <tbody>\n",
       "  </tbody>\n",
       "</table>\n",
       "</div>"
      ],
      "text/plain": [
       "Empty DataFrame\n",
       "Columns: [gender, age, how_tall_in_meters, weight, body_mass_index, x1, y1, z1, x2, y2, z2, x3, y3, z3, x4, y4, z4]\n",
       "Index: []"
      ]
     },
     "execution_count": 231,
     "metadata": {},
     "output_type": "execute_result"
    }
   ],
   "source": [
    "# INFO: An easy way to show which rows have nans in them\n",
    "X[pd.isnull(X).any(axis=1)]"
   ]
  },
  {
   "cell_type": "code",
   "execution_count": 232,
   "metadata": {
    "collapsed": true
   },
   "outputs": [],
   "source": [
    "# TODO: Create an RForest classifier 'model' and set n_estimators=30,\n",
    "# the max_depth to 10, and oob_score=True, and random_state=0\n",
    "from sklearn.ensemble import RandomForestClassifier\n",
    "model = RandomForestClassifier(n_estimators=30, max_depth=10, oob_score=True, random_state=0)"
   ]
  },
  {
   "cell_type": "code",
   "execution_count": 233,
   "metadata": {
    "collapsed": true
   },
   "outputs": [],
   "source": [
    "# TODO: Split your data into test / train sets\n",
    "# Your test size can be 30% with random_state 7\n",
    "# Use variable names: \n",
    "from sklearn.cross_validation import train_test_split\n",
    "X_train, X_test, y_train, y_test = train_test_split(X, y, test_size=0.3, random_state=7)"
   ]
  },
  {
   "cell_type": "code",
   "execution_count": 234,
   "metadata": {
    "collapsed": false
   },
   "outputs": [
    {
     "name": "stdout",
     "output_type": "stream",
     "text": [
      "Fitting...\n",
      "Fitting completed in:  22.183618784\n"
     ]
    }
   ],
   "source": [
    "print \"Fitting...\"\n",
    "s = time.time()\n",
    "\n",
    "# TODO: train your model on your training set\n",
    "model.fit(X_train, y_train)\n",
    "\n",
    "print \"Fitting completed in: \", time.time() - s"
   ]
  },
  {
   "cell_type": "code",
   "execution_count": 235,
   "metadata": {
    "collapsed": false
   },
   "outputs": [
    {
     "name": "stdout",
     "output_type": "stream",
     "text": [
      "OOB Score:  98.744\n"
     ]
    }
   ],
   "source": [
    "# INFO: Display the OOB Score of your data\n",
    "score = model.oob_score_\n",
    "print \"OOB Score: \", round((score*100), 3)"
   ]
  },
  {
   "cell_type": "code",
   "execution_count": 236,
   "metadata": {
    "collapsed": false
   },
   "outputs": [
    {
     "name": "stdout",
     "output_type": "stream",
     "text": [
      "Scoring...\n",
      "Score:  95.687\n",
      "Scoring completed in:  1.87501502037\n"
     ]
    }
   ],
   "source": [
    "print \"Scoring...\"\n",
    "s = time.time()\n",
    "\n",
    "# TODO: score your model on your test set\n",
    "score = model.score(X_test, y_test)\n",
    "print \"Score: \", round((score*100), 3)\n",
    "print \"Scoring completed in: \", time.time() - s"
   ]
  },
  {
   "cell_type": "code",
   "execution_count": 238,
   "metadata": {
    "collapsed": true
   },
   "outputs": [],
   "source": [
    "# TODO: Answer the lab questions, then come back to experiment more"
   ]
  },
  {
   "cell_type": "markdown",
   "metadata": {},
   "source": [
    "##### Lab Question 6.6. (1 point possible)\n",
    "Please enter a numeric value (e.g. 0, 1, 10.5, etc) which correctly answers the question(s) below:\n",
    "\n",
    "Whichever score ended up being the lesser value, either the OOB score or the model's accuracy score, enter that figure below:\n",
    "\n",
    "<b>* My answer</b>: 95.687 (<== <b>Correct!</b>)\n",
    "\n",
    "<b>* Explanation</b>: \n",
    "95.687"
   ]
  },
  {
   "cell_type": "code",
   "execution_count": 247,
   "metadata": {
    "collapsed": false
   },
   "outputs": [
    {
     "data": {
      "text/plain": [
       "Index([u'user', u'gender', u'age', u'how_tall_in_meters', u'weight',\n",
       "       u'body_mass_index', u'x1', u'y1', u'z1', u'x2', u'y2', u'z2', u'x3',\n",
       "       u'y3', u'z3', u'x4', u'y4', u'z4', u'class'],\n",
       "      dtype='object')"
      ]
     },
     "execution_count": 247,
     "metadata": {},
     "output_type": "execute_result"
    }
   ],
   "source": [
    "# TODO: Try playing around with the gender column\n",
    "# Encode it as Male:1, Female:0\n",
    "# Try encoding it to pandas dummies\n",
    "# Also try dropping it. See how it affects the score\n",
    "# This will be a key on how features affect your overall scoring\n",
    "# and why it's important to choose good ones.\n",
    "\n",
    "# > Encoding gender was already done. So, I'll drop the gender column\n",
    "X = pd.read_csv('Module6/Datasets/dataset-har-PUC-Rio-ugulino.csv', sep=\";\", decimal=\",\")\n",
    "\n",
    "X.columns"
   ]
  },
  {
   "cell_type": "code",
   "execution_count": 248,
   "metadata": {
    "collapsed": true
   },
   "outputs": [],
   "source": [
    "X.drop(labels=['gender'], inplace=True, axis=1)"
   ]
  },
  {
   "cell_type": "code",
   "execution_count": 249,
   "metadata": {
    "collapsed": true
   },
   "outputs": [],
   "source": [
    "X.z4 = pd.to_numeric(X.z4, errors = 'coerce')"
   ]
  },
  {
   "cell_type": "code",
   "execution_count": 250,
   "metadata": {
    "collapsed": false
   },
   "outputs": [
    {
     "data": {
      "text/html": [
       "<div>\n",
       "<table border=\"1\" class=\"dataframe\">\n",
       "  <thead>\n",
       "    <tr style=\"text-align: right;\">\n",
       "      <th></th>\n",
       "      <th>sitting</th>\n",
       "      <th>sittingdown</th>\n",
       "      <th>standing</th>\n",
       "      <th>standingup</th>\n",
       "      <th>walking</th>\n",
       "    </tr>\n",
       "  </thead>\n",
       "  <tbody>\n",
       "    <tr>\n",
       "      <th>0</th>\n",
       "      <td>1</td>\n",
       "      <td>0</td>\n",
       "      <td>0</td>\n",
       "      <td>0</td>\n",
       "      <td>0</td>\n",
       "    </tr>\n",
       "    <tr>\n",
       "      <th>1</th>\n",
       "      <td>1</td>\n",
       "      <td>0</td>\n",
       "      <td>0</td>\n",
       "      <td>0</td>\n",
       "      <td>0</td>\n",
       "    </tr>\n",
       "    <tr>\n",
       "      <th>2</th>\n",
       "      <td>1</td>\n",
       "      <td>0</td>\n",
       "      <td>0</td>\n",
       "      <td>0</td>\n",
       "      <td>0</td>\n",
       "    </tr>\n",
       "    <tr>\n",
       "      <th>3</th>\n",
       "      <td>1</td>\n",
       "      <td>0</td>\n",
       "      <td>0</td>\n",
       "      <td>0</td>\n",
       "      <td>0</td>\n",
       "    </tr>\n",
       "    <tr>\n",
       "      <th>4</th>\n",
       "      <td>1</td>\n",
       "      <td>0</td>\n",
       "      <td>0</td>\n",
       "      <td>0</td>\n",
       "      <td>0</td>\n",
       "    </tr>\n",
       "  </tbody>\n",
       "</table>\n",
       "</div>"
      ],
      "text/plain": [
       "   sitting  sittingdown  standing  standingup  walking\n",
       "0        1            0         0           0        0\n",
       "1        1            0         0           0        0\n",
       "2        1            0         0           0        0\n",
       "3        1            0         0           0        0\n",
       "4        1            0         0           0        0"
      ]
     },
     "execution_count": 250,
     "metadata": {},
     "output_type": "execute_result"
    }
   ],
   "source": [
    "X.dropna(inplace=True, how='any', axis=0)\n",
    "\n",
    "y = X['class'].copy()\n",
    "y = pd.get_dummies(y)\n",
    "y.head()"
   ]
  },
  {
   "cell_type": "code",
   "execution_count": 251,
   "metadata": {
    "collapsed": false
   },
   "outputs": [
    {
     "data": {
      "text/html": [
       "<div>\n",
       "<table border=\"1\" class=\"dataframe\">\n",
       "  <thead>\n",
       "    <tr style=\"text-align: right;\">\n",
       "      <th></th>\n",
       "      <th>age</th>\n",
       "      <th>how_tall_in_meters</th>\n",
       "      <th>weight</th>\n",
       "      <th>body_mass_index</th>\n",
       "      <th>x1</th>\n",
       "      <th>y1</th>\n",
       "      <th>z1</th>\n",
       "      <th>x2</th>\n",
       "      <th>y2</th>\n",
       "      <th>z2</th>\n",
       "      <th>x3</th>\n",
       "      <th>y3</th>\n",
       "      <th>z3</th>\n",
       "      <th>x4</th>\n",
       "      <th>y4</th>\n",
       "      <th>z4</th>\n",
       "    </tr>\n",
       "  </thead>\n",
       "  <tbody>\n",
       "    <tr>\n",
       "      <th>0</th>\n",
       "      <td>46</td>\n",
       "      <td>1.62</td>\n",
       "      <td>75</td>\n",
       "      <td>28.6</td>\n",
       "      <td>-3</td>\n",
       "      <td>92</td>\n",
       "      <td>-63</td>\n",
       "      <td>-23</td>\n",
       "      <td>18</td>\n",
       "      <td>-19</td>\n",
       "      <td>5</td>\n",
       "      <td>104</td>\n",
       "      <td>-92</td>\n",
       "      <td>-150</td>\n",
       "      <td>-103</td>\n",
       "      <td>-147</td>\n",
       "    </tr>\n",
       "    <tr>\n",
       "      <th>1</th>\n",
       "      <td>46</td>\n",
       "      <td>1.62</td>\n",
       "      <td>75</td>\n",
       "      <td>28.6</td>\n",
       "      <td>-3</td>\n",
       "      <td>94</td>\n",
       "      <td>-64</td>\n",
       "      <td>-21</td>\n",
       "      <td>18</td>\n",
       "      <td>-18</td>\n",
       "      <td>-14</td>\n",
       "      <td>104</td>\n",
       "      <td>-90</td>\n",
       "      <td>-149</td>\n",
       "      <td>-104</td>\n",
       "      <td>-145</td>\n",
       "    </tr>\n",
       "    <tr>\n",
       "      <th>2</th>\n",
       "      <td>46</td>\n",
       "      <td>1.62</td>\n",
       "      <td>75</td>\n",
       "      <td>28.6</td>\n",
       "      <td>-1</td>\n",
       "      <td>97</td>\n",
       "      <td>-61</td>\n",
       "      <td>-12</td>\n",
       "      <td>20</td>\n",
       "      <td>-15</td>\n",
       "      <td>-13</td>\n",
       "      <td>104</td>\n",
       "      <td>-90</td>\n",
       "      <td>-151</td>\n",
       "      <td>-104</td>\n",
       "      <td>-144</td>\n",
       "    </tr>\n",
       "    <tr>\n",
       "      <th>3</th>\n",
       "      <td>46</td>\n",
       "      <td>1.62</td>\n",
       "      <td>75</td>\n",
       "      <td>28.6</td>\n",
       "      <td>-2</td>\n",
       "      <td>96</td>\n",
       "      <td>-57</td>\n",
       "      <td>-15</td>\n",
       "      <td>21</td>\n",
       "      <td>-16</td>\n",
       "      <td>-13</td>\n",
       "      <td>104</td>\n",
       "      <td>-89</td>\n",
       "      <td>-153</td>\n",
       "      <td>-103</td>\n",
       "      <td>-142</td>\n",
       "    </tr>\n",
       "    <tr>\n",
       "      <th>4</th>\n",
       "      <td>46</td>\n",
       "      <td>1.62</td>\n",
       "      <td>75</td>\n",
       "      <td>28.6</td>\n",
       "      <td>-1</td>\n",
       "      <td>96</td>\n",
       "      <td>-61</td>\n",
       "      <td>-13</td>\n",
       "      <td>20</td>\n",
       "      <td>-15</td>\n",
       "      <td>-13</td>\n",
       "      <td>104</td>\n",
       "      <td>-89</td>\n",
       "      <td>-153</td>\n",
       "      <td>-104</td>\n",
       "      <td>-143</td>\n",
       "    </tr>\n",
       "  </tbody>\n",
       "</table>\n",
       "</div>"
      ],
      "text/plain": [
       "   age  how_tall_in_meters  weight  body_mass_index  x1  y1  z1  x2  y2  z2  \\\n",
       "0   46                1.62      75             28.6  -3  92 -63 -23  18 -19   \n",
       "1   46                1.62      75             28.6  -3  94 -64 -21  18 -18   \n",
       "2   46                1.62      75             28.6  -1  97 -61 -12  20 -15   \n",
       "3   46                1.62      75             28.6  -2  96 -57 -15  21 -16   \n",
       "4   46                1.62      75             28.6  -1  96 -61 -13  20 -15   \n",
       "\n",
       "   x3   y3  z3   x4   y4   z4  \n",
       "0   5  104 -92 -150 -103 -147  \n",
       "1 -14  104 -90 -149 -104 -145  \n",
       "2 -13  104 -90 -151 -104 -144  \n",
       "3 -13  104 -89 -153 -103 -142  \n",
       "4 -13  104 -89 -153 -104 -143  "
      ]
     },
     "execution_count": 251,
     "metadata": {},
     "output_type": "execute_result"
    }
   ],
   "source": [
    "X.drop(labels=['user', 'class'], inplace=True, axis=1)\n",
    "X.head()"
   ]
  },
  {
   "cell_type": "code",
   "execution_count": 254,
   "metadata": {
    "collapsed": false
   },
   "outputs": [
    {
     "data": {
      "text/plain": [
       "RandomForestClassifier(bootstrap=True, class_weight=None, criterion='gini',\n",
       "            max_depth=10, max_features='auto', max_leaf_nodes=None,\n",
       "            min_samples_leaf=1, min_samples_split=2,\n",
       "            min_weight_fraction_leaf=0.0, n_estimators=30, n_jobs=1,\n",
       "            oob_score=True, random_state=0, verbose=0, warm_start=False)"
      ]
     },
     "execution_count": 254,
     "metadata": {},
     "output_type": "execute_result"
    }
   ],
   "source": [
    "X_train, X_test, y_train, y_test = train_test_split(X, y, test_size=0.3, random_state=7)\n",
    "model.fit(X_train, y_train)"
   ]
  },
  {
   "cell_type": "code",
   "execution_count": 255,
   "metadata": {
    "collapsed": false
   },
   "outputs": [
    {
     "name": "stdout",
     "output_type": "stream",
     "text": [
      "OOB Score:  98.887\n",
      "Score:  96.158\n"
     ]
    }
   ],
   "source": [
    "oob_score = model.oob_score_\n",
    "print \"OOB Score: \", round((oob_score*100), 3)\n",
    "\n",
    "score = model.score(X_test, y_test)\n",
    "print \"Score: \", round((score*100), 3)"
   ]
  },
  {
   "cell_type": "markdown",
   "metadata": {},
   "source": [
    "> Both OOB Score and Model accuracy were increased.\n",
    "- OOB Score:      98.744 --> 98.887\n",
    "- Model Accuracy: 95.687 --> 96.158"
   ]
  },
  {
   "cell_type": "code",
   "execution_count": 259,
   "metadata": {
    "collapsed": false
   },
   "outputs": [
    {
     "name": "stdout",
     "output_type": "stream",
     "text": [
      "Top 5 important features are: \n",
      "[('z1', 0.19218290188931356) ('z2', 0.12125383427176077)\n",
      " ('y3', 0.11899710759660684) ('y2', 0.11107583474097961)\n",
      " ('x4', 0.07949062935405404)]\n"
     ]
    }
   ],
   "source": [
    "# My addition for top 5 important features\n",
    "rf_feature_importance = zip(X_train, model.feature_importances_)\n",
    "\n",
    "dtype = [('feature', 'S10'), ('importance', 'float')] # S10: 10-character string\n",
    "rf_feature_importance = np.array(rf_feature_importance, dtype = dtype)\n",
    "rf_feature_sort = np.sort(rf_feature_importance, order='importance')[::-1]\n",
    "\n",
    "print \"Top 5 important features are: \\n\", rf_feature_sort[0:5]\n",
    "\n",
    "# Top five 'least' important features...\n",
    "# np.sort(rf_feature_importance, order='importance')[-5:] "
   ]
  },
  {
   "cell_type": "code",
   "execution_count": 256,
   "metadata": {
    "collapsed": true
   },
   "outputs": [],
   "source": [
    "# TODO: After that, try messing with 'y'. Right now its encoded with\n",
    "# dummies try other encoding methods to experiment with the effect."
   ]
  }
 ],
 "metadata": {
  "kernelspec": {
   "display_name": "Python 2",
   "language": "python",
   "name": "python2"
  },
  "language_info": {
   "codemirror_mode": {
    "name": "ipython",
    "version": 2
   },
   "file_extension": ".py",
   "mimetype": "text/x-python",
   "name": "python",
   "nbconvert_exporter": "python",
   "pygments_lexer": "ipython2",
   "version": "2.7.11"
  }
 },
 "nbformat": 4,
 "nbformat_minor": 0
}
