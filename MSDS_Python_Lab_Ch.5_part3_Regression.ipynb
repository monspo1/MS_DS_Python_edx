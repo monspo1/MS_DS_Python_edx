{
 "cells": [
  {
   "cell_type": "markdown",
   "metadata": {},
   "source": [
    "# Lab 5. Data Modeling - Part 3: Regression"
   ]
  },
  {
   "cell_type": "code",
   "execution_count": null,
   "metadata": {
    "collapsed": true
   },
   "outputs": [],
   "source": [
    "######################################################################"
   ]
  },
  {
   "cell_type": "markdown",
   "metadata": {},
   "source": [
    "### Lab Assignment 5.8. Linear Regression\n",
    "\n",
    "Advances in medicine, an increase in healthcare facilities, and improved standards of care have all contributed to an increased overall life expectancy over the last few decades. Although this might seem like great achievement for humanity, it has also led to the abandonment of more elderly people into senior-care and assisted living communities. The morality, benefits, and disadvantages of leaving one's parents in such facilities are still debatable; however, the fact that this practice has increased the financial burden on both the private-sector and government is not.\n",
    "\n",
    "In this lab assignment, you will be using the subset a life expectancy dataset, provided courtesy of the Center for Disease Control and Prevention's [National Center for Health Statistics page](http://www.cdc.gov/nchs/data_access/ftp_data.htm). The page hosts [many open datasets](http://www.cdc.gov/nchs/hus/older.htm) on topics ranging from injuries, poverty, women's health, education, health insurance, and of course infectious diseases, and much more. But the one you'll be using is their \"Life expectancy at birth, at age 65, and at age 75, by sex, race, and origin\" data set, which has statistics dating back from the 1900's to current, taken within the United States. We have included a copy of the dataset as Module5/Datasets/<b>life_expectancy.csv</b>. The dataset only lists the life expectancy of whites and blacks, because throughout most of the collection period, those were the dominant two races that actively had their statistics recorded within the U.S.\n",
    "\n",
    "Using linear regression, you will extrapolate how long people will live in the future. The private sector and governments mirror these calculations when computing social security payouts, taxes, infrastructure, and more. Fire up your Module5/<b>assignment8.py</b> starter code, and then complete the following:\n",
    "\n",
    "1. Make sure the dataset has been properly loaded.\n",
    "2. Create a linear model to use and re-use throughout the assignment. You can retrain the same model again, rather than re-creating a new instance of the class.\n",
    "3. Slice out using indexing any records before 1986 into a brand new slice.\n",
    "4. Have one slice for training and one for testing. First, map the life expectancy of white males as a function of age, or WhiteMales = f(age).\n",
    "5. Fit your model, draw a regression line and scatter plot with the convenience function, and then print out the actual, observed 2015 White Male life expectancy value from the dataset.\n",
    "6. Repeat for BlackFemale.\n",
    "7. Print out and display a correlation matrix for the dataset's features.\n",
    "8. Answer the questions below."
   ]
  },
  {
   "cell_type": "code",
   "execution_count": 14,
   "metadata": {
    "collapsed": false
   },
   "outputs": [
    {
     "name": "stdout",
     "output_type": "stream",
     "text": [
      "Populating the interactive namespace from numpy and matplotlib\n"
     ]
    }
   ],
   "source": [
    "import pandas as pd\n",
    "import numpy as np\n",
    "import matplotlib\n",
    "import matplotlib.pyplot as plt\n",
    "%pylab inline\n",
    "matplotlib.style.use('ggplot') # Look Pretty"
   ]
  },
  {
   "cell_type": "code",
   "execution_count": 42,
   "metadata": {
    "collapsed": false
   },
   "outputs": [
    {
     "data": {
      "text/html": [
       "<div>\n",
       "<table border=\"1\" class=\"dataframe\">\n",
       "  <thead>\n",
       "    <tr style=\"text-align: right;\">\n",
       "      <th></th>\n",
       "      <th>Year</th>\n",
       "      <th>WhiteMale</th>\n",
       "      <th>WhiteFemale</th>\n",
       "      <th>BlackMale</th>\n",
       "      <th>BlackFemale</th>\n",
       "    </tr>\n",
       "  </thead>\n",
       "  <tbody>\n",
       "    <tr>\n",
       "      <th>0</th>\n",
       "      <td>1900</td>\n",
       "      <td>46.6</td>\n",
       "      <td>48.7</td>\n",
       "      <td>32.5</td>\n",
       "      <td>33.5</td>\n",
       "    </tr>\n",
       "    <tr>\n",
       "      <th>1</th>\n",
       "      <td>1950</td>\n",
       "      <td>66.5</td>\n",
       "      <td>72.2</td>\n",
       "      <td>59.1</td>\n",
       "      <td>62.9</td>\n",
       "    </tr>\n",
       "    <tr>\n",
       "      <th>2</th>\n",
       "      <td>1960</td>\n",
       "      <td>67.4</td>\n",
       "      <td>74.1</td>\n",
       "      <td>61.1</td>\n",
       "      <td>66.3</td>\n",
       "    </tr>\n",
       "    <tr>\n",
       "      <th>3</th>\n",
       "      <td>1970</td>\n",
       "      <td>68.0</td>\n",
       "      <td>75.6</td>\n",
       "      <td>60.0</td>\n",
       "      <td>68.3</td>\n",
       "    </tr>\n",
       "    <tr>\n",
       "      <th>4</th>\n",
       "      <td>1975</td>\n",
       "      <td>69.5</td>\n",
       "      <td>77.3</td>\n",
       "      <td>62.4</td>\n",
       "      <td>71.3</td>\n",
       "    </tr>\n",
       "  </tbody>\n",
       "</table>\n",
       "</div>"
      ],
      "text/plain": [
       "   Year  WhiteMale  WhiteFemale  BlackMale  BlackFemale\n",
       "0  1900       46.6         48.7       32.5         33.5\n",
       "1  1950       66.5         72.2       59.1         62.9\n",
       "2  1960       67.4         74.1       61.1         66.3\n",
       "3  1970       68.0         75.6       60.0         68.3\n",
       "4  1975       69.5         77.3       62.4         71.3"
      ]
     },
     "execution_count": 42,
     "metadata": {},
     "output_type": "execute_result"
    }
   ],
   "source": [
    "# TODO: Load up the data here into a variable called 'X'.\n",
    "# As usual, do a .describe and a print of your dataset and\n",
    "# compare it to the dataset loaded in a text file or in a\n",
    "# spread sheet application\n",
    "#\n",
    "# .. your code here ..\n",
    "X = pd.read_csv('Module5/Datasets/life_expectancy.csv', sep='\\t')\n",
    "X.head()"
   ]
  },
  {
   "cell_type": "code",
   "execution_count": 43,
   "metadata": {
    "collapsed": false
   },
   "outputs": [
    {
     "data": {
      "text/html": [
       "<div>\n",
       "<table border=\"1\" class=\"dataframe\">\n",
       "  <thead>\n",
       "    <tr style=\"text-align: right;\">\n",
       "      <th></th>\n",
       "      <th>Year</th>\n",
       "      <th>WhiteMale</th>\n",
       "      <th>WhiteFemale</th>\n",
       "      <th>BlackMale</th>\n",
       "      <th>BlackFemale</th>\n",
       "    </tr>\n",
       "  </thead>\n",
       "  <tbody>\n",
       "    <tr>\n",
       "      <th>count</th>\n",
       "      <td>40.000000</td>\n",
       "      <td>40.000000</td>\n",
       "      <td>40.000000</td>\n",
       "      <td>40.000000</td>\n",
       "      <td>40.000000</td>\n",
       "    </tr>\n",
       "    <tr>\n",
       "      <th>mean</th>\n",
       "      <td>1991.250000</td>\n",
       "      <td>72.730000</td>\n",
       "      <td>78.592500</td>\n",
       "      <td>65.912500</td>\n",
       "      <td>73.262500</td>\n",
       "    </tr>\n",
       "    <tr>\n",
       "      <th>std</th>\n",
       "      <td>20.536085</td>\n",
       "      <td>4.968681</td>\n",
       "      <td>5.200561</td>\n",
       "      <td>6.422284</td>\n",
       "      <td>7.157592</td>\n",
       "    </tr>\n",
       "    <tr>\n",
       "      <th>min</th>\n",
       "      <td>1900.000000</td>\n",
       "      <td>46.600000</td>\n",
       "      <td>48.700000</td>\n",
       "      <td>32.500000</td>\n",
       "      <td>33.500000</td>\n",
       "    </tr>\n",
       "    <tr>\n",
       "      <th>25%</th>\n",
       "      <td>1984.750000</td>\n",
       "      <td>71.800000</td>\n",
       "      <td>78.700000</td>\n",
       "      <td>64.575000</td>\n",
       "      <td>73.400000</td>\n",
       "    </tr>\n",
       "    <tr>\n",
       "      <th>50%</th>\n",
       "      <td>1994.500000</td>\n",
       "      <td>73.350000</td>\n",
       "      <td>79.650000</td>\n",
       "      <td>65.250000</td>\n",
       "      <td>73.900000</td>\n",
       "    </tr>\n",
       "    <tr>\n",
       "      <th>75%</th>\n",
       "      <td>2004.250000</td>\n",
       "      <td>75.500000</td>\n",
       "      <td>80.500000</td>\n",
       "      <td>69.425000</td>\n",
       "      <td>76.125000</td>\n",
       "    </tr>\n",
       "    <tr>\n",
       "      <th>max</th>\n",
       "      <td>2014.000000</td>\n",
       "      <td>76.700000</td>\n",
       "      <td>81.400000</td>\n",
       "      <td>72.500000</td>\n",
       "      <td>78.400000</td>\n",
       "    </tr>\n",
       "  </tbody>\n",
       "</table>\n",
       "</div>"
      ],
      "text/plain": [
       "              Year  WhiteMale  WhiteFemale  BlackMale  BlackFemale\n",
       "count    40.000000  40.000000    40.000000  40.000000    40.000000\n",
       "mean   1991.250000  72.730000    78.592500  65.912500    73.262500\n",
       "std      20.536085   4.968681     5.200561   6.422284     7.157592\n",
       "min    1900.000000  46.600000    48.700000  32.500000    33.500000\n",
       "25%    1984.750000  71.800000    78.700000  64.575000    73.400000\n",
       "50%    1994.500000  73.350000    79.650000  65.250000    73.900000\n",
       "75%    2004.250000  75.500000    80.500000  69.425000    76.125000\n",
       "max    2014.000000  76.700000    81.400000  72.500000    78.400000"
      ]
     },
     "execution_count": 43,
     "metadata": {},
     "output_type": "execute_result"
    }
   ],
   "source": [
    "X.describe()"
   ]
  },
  {
   "cell_type": "code",
   "execution_count": 44,
   "metadata": {
    "collapsed": true
   },
   "outputs": [],
   "source": [
    "# TODO: Create your linear regression model here and store it in a\n",
    "# variable called 'model'. Don't actually train or do anything else\n",
    "# with it yet:\n",
    "#\n",
    "# .. your code here ..\n",
    "from sklearn import linear_model\n",
    "model = linear_model.LinearRegression()"
   ]
  },
  {
   "cell_type": "code",
   "execution_count": 65,
   "metadata": {
    "collapsed": false
   },
   "outputs": [],
   "source": [
    "# TODO: Slice out your data manually (e.g. don't use train_test_split,\n",
    "# but actually do the Indexing yourself. Set X_train to be year values\n",
    "# LESS than 1986, and y_train to be corresponding WhiteMale age values.\n",
    "#\n",
    "# INFO You might also want to read the note about slicing on the bottom\n",
    "# of this document before proceeding.\n",
    "#\n",
    "# .. your code here ..\n",
    "X_train = X.loc[ X.Year < 1986 , 'Year'] # X.Year[X.Year < 1986]\n",
    "y_train = X.loc[ X.Year < 1986, 'WhiteMale']"
   ]
  },
  {
   "cell_type": "code",
   "execution_count": 66,
   "metadata": {
    "collapsed": false,
    "scrolled": true
   },
   "outputs": [
    {
     "name": "stdout",
     "output_type": "stream",
     "text": [
      "0    1900\n",
      "1    1950\n",
      "2    1960\n",
      "3    1970\n",
      "4    1975\n",
      "Name: Year, dtype: int64\n",
      "\n",
      "0    46.6\n",
      "1    66.5\n",
      "2    67.4\n",
      "3    68.0\n",
      "4    69.5\n",
      "Name: WhiteMale, dtype: float64\n"
     ]
    }
   ],
   "source": [
    "print X_train.head()  # returned as a Series\n",
    "print\n",
    "print y_train.head()  # returned as a Series"
   ]
  },
  {
   "cell_type": "code",
   "execution_count": 67,
   "metadata": {
    "collapsed": false
   },
   "outputs": [
    {
     "name": "stdout",
     "output_type": "stream",
     "text": [
      "11 11\n",
      "int64 float64\n",
      "<class 'pandas.core.series.Series'> <class 'pandas.core.series.Series'>\n"
     ]
    }
   ],
   "source": [
    "print len(X_train), len(y_train)\n",
    "print X_train.dtype, y_train.dtype\n",
    "print type(X_train), type(y_train)"
   ]
  },
  {
   "cell_type": "code",
   "execution_count": 68,
   "metadata": {
    "collapsed": false
   },
   "outputs": [],
   "source": [
    "# Convert the Series to DataFrame\n",
    "X_train = X_train.to_frame()  \n",
    "# X_train = X_train.reshape(-1,1) # <-- Same effect"
   ]
  },
  {
   "cell_type": "code",
   "execution_count": 69,
   "metadata": {
    "collapsed": false
   },
   "outputs": [
    {
     "data": {
      "text/plain": [
       "LinearRegression(copy_X=True, fit_intercept=True, n_jobs=1, normalize=False)"
      ]
     },
     "execution_count": 69,
     "metadata": {},
     "output_type": "execute_result"
    }
   ],
   "source": [
    "# TODO: Train your model then pass it into drawLine with your training\n",
    "# set and labels. You can title it \"WhiteMale\". drawLine will output\n",
    "# to the console a 2014 extrapolation / approximation for what it\n",
    "# believes the WhiteMale's life expectancy in the U.S. will be...\n",
    "# given the pre-1986 data you trained it with. It'll also produce a\n",
    "# 2030 and 2045 extrapolation.\n",
    "#\n",
    "# .. your code here ..\n",
    "model.fit(X_train, y_train)"
   ]
  },
  {
   "cell_type": "code",
   "execution_count": 70,
   "metadata": {
    "collapsed": true
   },
   "outputs": [],
   "source": [
    "def drawLine(model, X_test, y_test, title):\n",
    "    # This convenience method will take care of plotting your\n",
    "    # test observations, comparing them to the regression line,\n",
    "    # and displaying the R2 coefficient\n",
    "    fig = plt.figure(figsize(8,8))\n",
    "    ax = fig.add_subplot(111)\n",
    "    ax.scatter(X_test, y_test, c='g', marker='o')\n",
    "    ax.plot(X_test, model.predict(X_test), color='orange', linewidth=1, alpha=0.7)\n",
    "\n",
    "    print \"Est 2014 \" + title + \" Life Expectancy: \", model.predict([[2014]])[0]\n",
    "    print \"Est 2030 \" + title + \" Life Expectancy: \", model.predict([[2030]])[0]\n",
    "    print \"Est 2045 \" + title + \" Life Expectancy: \", model.predict([[2045]])[0]\n",
    "\n",
    "    score = model.score(X_test, y_test)\n",
    "    title += \" R2: \" + str(score)\n",
    "    ax.set_title(title)\n",
    "\n",
    "    plt.show()"
   ]
  },
  {
   "cell_type": "code",
   "execution_count": 71,
   "metadata": {
    "collapsed": false
   },
   "outputs": [
    {
     "name": "stdout",
     "output_type": "stream",
     "text": [
      "Est 2014 WhiteMale Life Expectancy:  80.8563542562\n",
      "Est 2030 WhiteMale Life Expectancy:  85.3934938378\n",
      "Est 2045 WhiteMale Life Expectancy:  89.6470621955\n"
     ]
    },
    {
     "data": {
      "image/png": "[encoded data removed]",
      "text/plain": [
       "<matplotlib.figure.Figure at 0x117582d50>"
      ]
     },
     "metadata": {},
     "output_type": "display_data"
    }
   ],
   "source": [
    "drawLine(model, X_train, y_train, \"WhiteMale\")"
   ]
  },
  {
   "cell_type": "code",
   "execution_count": 52,
   "metadata": {
    "collapsed": false,
    "scrolled": true
   },
   "outputs": [
    {
     "name": "stdout",
     "output_type": "stream",
     "text": [
      "Observed value (WhiteMale):  76.7\n",
      "Expected value (WhiteMale):  80.8563542562\n"
     ]
    }
   ],
   "source": [
    "# TODO: Print the actual 2014 WhiteMale life expectancy from your\n",
    "# loaded dataset\n",
    "#\n",
    "# .. your code here ..\n",
    "print \"Observed value (WhiteMale): \", X.loc[ X.Year == 2014, 'WhiteMale'].values[0]\n",
    "print \"Expected value (WhiteMale): \", model.predict(2014)[0]"
   ]
  },
  {
   "cell_type": "code",
   "execution_count": 53,
   "metadata": {
    "collapsed": false
   },
   "outputs": [
    {
     "data": {
      "text/plain": [
       "0    33.5\n",
       "1    62.9\n",
       "2    66.3\n",
       "3    68.3\n",
       "4    71.3\n",
       "Name: BlackFemale, dtype: float64"
      ]
     },
     "execution_count": 53,
     "metadata": {},
     "output_type": "execute_result"
    }
   ],
   "source": [
    "# TODO: Repeat the process, but instead of for WhiteMale, this time\n",
    "# select BlackFemale. Create a slice for BlackFemales, fit your\n",
    "# model, and then call drawLine. Lastly, print out the actual 2014\n",
    "# BlackFemale life expectancy\n",
    "#\n",
    "# .. your code here ..\n",
    "y_train_bf = X.loc[ X.Year < 1986, 'BlackFemale']\n",
    "y_train_bf.head()"
   ]
  },
  {
   "cell_type": "code",
   "execution_count": 54,
   "metadata": {
    "collapsed": false
   },
   "outputs": [
    {
     "data": {
      "text/plain": [
       "LinearRegression(copy_X=True, fit_intercept=True, n_jobs=1, normalize=False)"
      ]
     },
     "execution_count": 54,
     "metadata": {},
     "output_type": "execute_result"
    }
   ],
   "source": [
    "model.fit(X_train, y_train_bf)"
   ]
  },
  {
   "cell_type": "code",
   "execution_count": 55,
   "metadata": {
    "collapsed": false
   },
   "outputs": [
    {
     "name": "stdout",
     "output_type": "stream",
     "text": [
      "Est 2014 BlackFemale Life Expectancy:  88.6988993981\n",
      "Est 2030 BlackFemale Life Expectancy:  96.1143880768\n",
      "Est 2045 BlackFemale Life Expectancy:  103.066408713\n"
     ]
    },
    {
     "data": {
      "image/png": "[encoded data removed]",
      "text/plain": [
       "<matplotlib.figure.Figure at 0x117520510>"
      ]
     },
     "metadata": {},
     "output_type": "display_data"
    }
   ],
   "source": [
    "drawLine(model, X_train, y_train_bf, \"BlackFemale\")"
   ]
  },
  {
   "cell_type": "code",
   "execution_count": 56,
   "metadata": {
    "collapsed": false
   },
   "outputs": [
    {
     "name": "stdout",
     "output_type": "stream",
     "text": [
      "Observed value (BlackFemale):  78.4\n",
      "Expected value (BlackFemale):  88.6988993981\n"
     ]
    }
   ],
   "source": [
    "print \"Observed value (BlackFemale): \", X.loc[ X.Year == 2014, 'BlackFemale'].values[0]\n",
    "print \"Expected value (BlackFemale): \", model.predict(2014)[0]"
   ]
  },
  {
   "cell_type": "code",
   "execution_count": 58,
   "metadata": {
    "collapsed": false
   },
   "outputs": [
    {
     "data": {
      "text/html": [
       "<div>\n",
       "<table border=\"1\" class=\"dataframe\">\n",
       "  <thead>\n",
       "    <tr style=\"text-align: right;\">\n",
       "      <th></th>\n",
       "      <th>Year</th>\n",
       "      <th>WhiteMale</th>\n",
       "      <th>WhiteFemale</th>\n",
       "      <th>BlackMale</th>\n",
       "      <th>BlackFemale</th>\n",
       "    </tr>\n",
       "  </thead>\n",
       "  <tbody>\n",
       "    <tr>\n",
       "      <th>Year</th>\n",
       "      <td>1.000000</td>\n",
       "      <td>0.974154</td>\n",
       "      <td>0.913907</td>\n",
       "      <td>0.960635</td>\n",
       "      <td>0.940429</td>\n",
       "    </tr>\n",
       "    <tr>\n",
       "      <th>WhiteMale</th>\n",
       "      <td>0.974154</td>\n",
       "      <td>1.000000</td>\n",
       "      <td>0.975164</td>\n",
       "      <td>0.987974</td>\n",
       "      <td>0.985009</td>\n",
       "    </tr>\n",
       "    <tr>\n",
       "      <th>WhiteFemale</th>\n",
       "      <td>0.913907</td>\n",
       "      <td>0.975164</td>\n",
       "      <td>1.000000</td>\n",
       "      <td>0.956689</td>\n",
       "      <td>0.994656</td>\n",
       "    </tr>\n",
       "    <tr>\n",
       "      <th>BlackMale</th>\n",
       "      <td>0.960635</td>\n",
       "      <td>0.987974</td>\n",
       "      <td>0.956689</td>\n",
       "      <td>1.000000</td>\n",
       "      <td>0.975922</td>\n",
       "    </tr>\n",
       "    <tr>\n",
       "      <th>BlackFemale</th>\n",
       "      <td>0.940429</td>\n",
       "      <td>0.985009</td>\n",
       "      <td>0.994656</td>\n",
       "      <td>0.975922</td>\n",
       "      <td>1.000000</td>\n",
       "    </tr>\n",
       "  </tbody>\n",
       "</table>\n",
       "</div>"
      ],
      "text/plain": [
       "                 Year  WhiteMale  WhiteFemale  BlackMale  BlackFemale\n",
       "Year         1.000000   0.974154     0.913907   0.960635     0.940429\n",
       "WhiteMale    0.974154   1.000000     0.975164   0.987974     0.985009\n",
       "WhiteFemale  0.913907   0.975164     1.000000   0.956689     0.994656\n",
       "BlackMale    0.960635   0.987974     0.956689   1.000000     0.975922\n",
       "BlackFemale  0.940429   0.985009     0.994656   0.975922     1.000000"
      ]
     },
     "execution_count": 58,
     "metadata": {},
     "output_type": "execute_result"
    }
   ],
   "source": [
    "# TODO: Lastly, print out a correlation matrix for your entire\n",
    "# dataset, and display a visualization of the correlation\n",
    "# matrix, just as we described in the visualization section of\n",
    "# the course\n",
    "#\n",
    "# .. your code here ..\n",
    "X.corr() # For my testing"
   ]
  },
  {
   "cell_type": "code",
   "execution_count": 62,
   "metadata": {
    "collapsed": false
   },
   "outputs": [
    {
     "data": {
      "image/png": "[encoded data removed]",
      "text/plain": [
       "<matplotlib.figure.Figure at 0x11719cfd0>"
      ]
     },
     "metadata": {},
     "output_type": "display_data"
    }
   ],
   "source": [
    "# correlation matrix\n",
    "plt.imshow(X.corr(), cmap=plt.cm.Blues, interpolation='nearest')\n",
    "plt.colorbar()\n",
    "tick_marks = [i for i in range(len(X.columns))] \n",
    "plt.xticks(tick_marks, X.columns, rotation='vertical') \n",
    "plt.yticks(tick_marks, X.columns) \n",
    "plt.show()"
   ]
  },
  {
   "cell_type": "markdown",
   "metadata": {},
   "source": [
    "* http://scikit-learn.org/stable/auto_examples/covariance/plot_sparse_cov.html\n",
    "* http://scikit-learn.org/stable/modules/covariance.html"
   ]
  },
  {
   "cell_type": "code",
   "execution_count": null,
   "metadata": {
    "collapsed": true
   },
   "outputs": [],
   "source": [
    "# INFO + HINT On Fitting, Scoring, and Predicting:\n",
    "#\n",
    "# Here's a hint to help you complete the assignment without pulling\n",
    "# your hair out! When you use .fit(), .score(), and .predict() on\n",
    "# your model, SciKit-Learn expects your training data to be in\n",
    "# spreadsheet (2D Array-Like) form. This means you can't simply\n",
    "# pass in a 1D Array (slice) and get away with it.\n",
    "#\n",
    "# To properly prep your data, you have to pass in a 2D Numpy Array,\n",
    "# or a dataframe. But what happens if you really only want to pass\n",
    "# in a single feature?\n",
    "#\n",
    "# If you slice your dataframe using df[['ColumnName']] syntax, the\n",
    "# result that comes back is actually a *dataframe*. Go ahead and do\n",
    "# a type() on it to check it out. Since it's already a dataframe,\n",
    "# you're good -- no further changes needed.\n",
    "#\n",
    "# But if you slice your dataframe using the df.ColumnName syntax,\n",
    "# OR if you call df['ColumnName'], the result that comes back is\n",
    "# actually a series (1D Array)! This will cause SKLearn to bug out.\n",
    "# So if you are slicing using either of those two techniques, before\n",
    "# sending your training or testing data to .fit / .score, do a\n",
    "# my_column = my_column.reshape(-1,1). This will convert your 1D\n",
    "# array of [n_samples], to a 2D array shaped like [n_samples, 1].\n",
    "# A single feature, with many samples.\n",
    "#\n",
    "# If you did something like my_column = [my_column], that would produce\n",
    "# an array in the shape of [1, n_samples], which is incorrect because\n",
    "# SKLearn expects your data to be arranged as [n_samples, n_features].\n",
    "# Keep in mind, all of the above only relates to your \"X\" or input\n",
    "# data, and does not apply to your \"y\" or labels."
   ]
  },
  {
   "cell_type": "markdown",
   "metadata": {
    "collapsed": true
   },
   "source": [
    "### Lab Questions 5.8.\n",
    "\n",
    "##### Q. Multiple Choice\n",
    "\n",
    "(2 points possible)\n",
    "##### Q5.8.1. Please enter a numeric value (e.g. 0, 1, 10.5, etc) which correctly answers the question(s) below:\n",
    "\n",
    "Enter the 2014 life expectancy prediction for white males living within the U.S, using only data recorded prior to 1986:\n",
    "\n",
    "<b>* My answer</b>: 80.8563542562 (<== <b>Correct!</b>)\n",
    "\n",
    "\n",
    "##### Q5.8.2. Which relationship had the highest correlation?\n",
    "\n",
    "- (A) BlackFemale and WhiteFemale\n",
    "- (B) BlackFemale and WhiteMale\n",
    "- (C) BlackMale and WhiteMale\n",
    "- (D) BlackMale and WhiteFemale\n",
    "\n",
    "<b>* My answer</b>: (A) BlackFemae & WhiteFemale(<== <b>Correct!</b>)\n",
    "\n",
    "<b>* Explanation</b>: The hardest part of this lab is just the indexing. Make sure you take care of indexing properly, and after that, just read the note on the bottom of the document.\n",
    "\n",
    "For correlation, the greatest / best relationship is the one closest to 1.0."
   ]
  },
  {
   "cell_type": "code",
   "execution_count": null,
   "metadata": {
    "collapsed": true
   },
   "outputs": [],
   "source": []
  },
  {
   "cell_type": "code",
   "execution_count": 72,
   "metadata": {
    "collapsed": true
   },
   "outputs": [],
   "source": [
    "######################################################################"
   ]
  },
  {
   "cell_type": "markdown",
   "metadata": {
    "collapsed": true
   },
   "source": [
    "### Lab Assignment 5.9.\n",
    "\n",
    "Continue your exploration of linear regression using a public dataset provided courtesy of [An Introduction to Statistical Learning](https://www.amazon.com/Introduction-Statistical-Learning-Applications-Statistics/dp/1461471370/ref=sr_1_1?ie=UTF8&qid=1468723377&sr=8-1&keywords=An+Introduction+to+Statistical+Learning), called [College Acceptance and Enrollment](http://www-bcf.usc.edu/~gareth/ISL/data.html). There are four relationships we are interested in modeling:\n",
    "\n",
    "- The amount charged for room and board, as a function of the number of: accepted students\n",
    "- The number of enrolled students per college, as a function of the number of: accepted students\n",
    "- The number of failed undergraduate students per college, as a function of: the number of accepted students\n",
    "- The number of accepted students, as a function of: the amount charged for room and board, and the number of enrolled students.\n",
    "\n",
    "You should be able to find these relationships given the dataset. Start by downloading the data directly [from this link](http://www-bcf.usc.edu/~gareth/ISL/College.csv), or through navigating the site linked above, and then complete the following actions:\n",
    "\n",
    "\n",
    "1. Read through the /Module5/assignment9.py starter code file. It's pretty long, but there actually isn't much in terms of coding you have to do. The hard part is in understanding the material.\n",
    "2. Load up the dataset, then use indexing to slice out the features of it we're interested in examining.\n",
    "3. Split your data into training and testing.\n",
    "4. Use the helper drawLine() and drawPlane() methods to display the results\n",
    "5. Answer the following questions."
   ]
  },
  {
   "cell_type": "code",
   "execution_count": 73,
   "metadata": {
    "collapsed": false
   },
   "outputs": [
    {
     "name": "stdout",
     "output_type": "stream",
     "text": [
      "Populating the interactive namespace from numpy and matplotlib\n"
     ]
    }
   ],
   "source": [
    "import pandas as pd\n",
    "import numpy as np\n",
    "import matplotlib\n",
    "import matplotlib.pyplot as plt\n",
    "from mpl_toolkits.mplot3d import Axes3D\n",
    "%pylab inline\n",
    "matplotlib.style.use('ggplot') # Look Pretty"
   ]
  },
  {
   "cell_type": "code",
   "execution_count": 79,
   "metadata": {
    "collapsed": false
   },
   "outputs": [
    {
     "data": {
      "text/html": [
       "<div>\n",
       "<table border=\"1\" class=\"dataframe\">\n",
       "  <thead>\n",
       "    <tr style=\"text-align: right;\">\n",
       "      <th></th>\n",
       "      <th>Unnamed: 0</th>\n",
       "      <th>Private</th>\n",
       "      <th>Apps</th>\n",
       "      <th>Accept</th>\n",
       "      <th>Enroll</th>\n",
       "      <th>Top10perc</th>\n",
       "      <th>Top25perc</th>\n",
       "      <th>F.Undergrad</th>\n",
       "      <th>P.Undergrad</th>\n",
       "      <th>Outstate</th>\n",
       "      <th>Room.Board</th>\n",
       "      <th>Books</th>\n",
       "      <th>Personal</th>\n",
       "      <th>PhD</th>\n",
       "      <th>Terminal</th>\n",
       "      <th>S.F.Ratio</th>\n",
       "      <th>perc.alumni</th>\n",
       "      <th>Expend</th>\n",
       "      <th>Grad.Rate</th>\n",
       "    </tr>\n",
       "  </thead>\n",
       "  <tbody>\n",
       "    <tr>\n",
       "      <th>0</th>\n",
       "      <td>Abilene Christian University</td>\n",
       "      <td>Yes</td>\n",
       "      <td>1660</td>\n",
       "      <td>1232</td>\n",
       "      <td>721</td>\n",
       "      <td>23</td>\n",
       "      <td>52</td>\n",
       "      <td>2885</td>\n",
       "      <td>537</td>\n",
       "      <td>7440</td>\n",
       "      <td>3300</td>\n",
       "      <td>450</td>\n",
       "      <td>2200</td>\n",
       "      <td>70</td>\n",
       "      <td>78</td>\n",
       "      <td>18.1</td>\n",
       "      <td>12</td>\n",
       "      <td>7041</td>\n",
       "      <td>60</td>\n",
       "    </tr>\n",
       "    <tr>\n",
       "      <th>1</th>\n",
       "      <td>Adelphi University</td>\n",
       "      <td>Yes</td>\n",
       "      <td>2186</td>\n",
       "      <td>1924</td>\n",
       "      <td>512</td>\n",
       "      <td>16</td>\n",
       "      <td>29</td>\n",
       "      <td>2683</td>\n",
       "      <td>1227</td>\n",
       "      <td>12280</td>\n",
       "      <td>6450</td>\n",
       "      <td>750</td>\n",
       "      <td>1500</td>\n",
       "      <td>29</td>\n",
       "      <td>30</td>\n",
       "      <td>12.2</td>\n",
       "      <td>16</td>\n",
       "      <td>10527</td>\n",
       "      <td>56</td>\n",
       "    </tr>\n",
       "    <tr>\n",
       "      <th>2</th>\n",
       "      <td>Adrian College</td>\n",
       "      <td>Yes</td>\n",
       "      <td>1428</td>\n",
       "      <td>1097</td>\n",
       "      <td>336</td>\n",
       "      <td>22</td>\n",
       "      <td>50</td>\n",
       "      <td>1036</td>\n",
       "      <td>99</td>\n",
       "      <td>11250</td>\n",
       "      <td>3750</td>\n",
       "      <td>400</td>\n",
       "      <td>1165</td>\n",
       "      <td>53</td>\n",
       "      <td>66</td>\n",
       "      <td>12.9</td>\n",
       "      <td>30</td>\n",
       "      <td>8735</td>\n",
       "      <td>54</td>\n",
       "    </tr>\n",
       "    <tr>\n",
       "      <th>3</th>\n",
       "      <td>Agnes Scott College</td>\n",
       "      <td>Yes</td>\n",
       "      <td>417</td>\n",
       "      <td>349</td>\n",
       "      <td>137</td>\n",
       "      <td>60</td>\n",
       "      <td>89</td>\n",
       "      <td>510</td>\n",
       "      <td>63</td>\n",
       "      <td>12960</td>\n",
       "      <td>5450</td>\n",
       "      <td>450</td>\n",
       "      <td>875</td>\n",
       "      <td>92</td>\n",
       "      <td>97</td>\n",
       "      <td>7.7</td>\n",
       "      <td>37</td>\n",
       "      <td>19016</td>\n",
       "      <td>59</td>\n",
       "    </tr>\n",
       "    <tr>\n",
       "      <th>4</th>\n",
       "      <td>Alaska Pacific University</td>\n",
       "      <td>Yes</td>\n",
       "      <td>193</td>\n",
       "      <td>146</td>\n",
       "      <td>55</td>\n",
       "      <td>16</td>\n",
       "      <td>44</td>\n",
       "      <td>249</td>\n",
       "      <td>869</td>\n",
       "      <td>7560</td>\n",
       "      <td>4120</td>\n",
       "      <td>800</td>\n",
       "      <td>1500</td>\n",
       "      <td>76</td>\n",
       "      <td>72</td>\n",
       "      <td>11.9</td>\n",
       "      <td>2</td>\n",
       "      <td>10922</td>\n",
       "      <td>15</td>\n",
       "    </tr>\n",
       "  </tbody>\n",
       "</table>\n",
       "</div>"
      ],
      "text/plain": [
       "                     Unnamed: 0 Private  Apps  Accept  Enroll  Top10perc  \\\n",
       "0  Abilene Christian University     Yes  1660    1232     721         23   \n",
       "1            Adelphi University     Yes  2186    1924     512         16   \n",
       "2                Adrian College     Yes  1428    1097     336         22   \n",
       "3           Agnes Scott College     Yes   417     349     137         60   \n",
       "4     Alaska Pacific University     Yes   193     146      55         16   \n",
       "\n",
       "   Top25perc  F.Undergrad  P.Undergrad  Outstate  Room.Board  Books  Personal  \\\n",
       "0         52         2885          537      7440        3300    450      2200   \n",
       "1         29         2683         1227     12280        6450    750      1500   \n",
       "2         50         1036           99     11250        3750    400      1165   \n",
       "3         89          510           63     12960        5450    450       875   \n",
       "4         44          249          869      7560        4120    800      1500   \n",
       "\n",
       "   PhD  Terminal  S.F.Ratio  perc.alumni  Expend  Grad.Rate  \n",
       "0   70        78       18.1           12    7041         60  \n",
       "1   29        30       12.2           16   10527         56  \n",
       "2   53        66       12.9           30    8735         54  \n",
       "3   92        97        7.7           37   19016         59  \n",
       "4   76        72       11.9            2   10922         15  "
      ]
     },
     "execution_count": 79,
     "metadata": {},
     "output_type": "execute_result"
    }
   ],
   "source": [
    "# TODO: First, as is your habit, inspect your dataset in a text\n",
    "# editor, or spread sheet application. The first thing you should\n",
    "# notice is that the first column is both unique (the name of each)\n",
    "# college, as well as unlabeled. This is a HINT that it must be the\n",
    "# index column. If you do not indicate to Pandas that you already\n",
    "# have an index column, it'll create one for you, which would be\n",
    "# undesirable since you already have one.\n",
    "#\n",
    "# Review the .read_csv() documentation and discern how to load up\n",
    "# a dataframe while indicating which existing column is to be taken\n",
    "# as an index. Then, load up the College dataset into a variable\n",
    "# called X:\n",
    "#\n",
    "# .. your code here ..\n",
    "college_df = pd.read_csv('Module5/Datasets/College.csv')\n",
    "college_df.head()"
   ]
  },
  {
   "cell_type": "markdown",
   "metadata": {},
   "source": [
    "* http://pandas.pydata.org/pandas-docs/stable/generated/pandas.read_csv.html"
   ]
  },
  {
   "cell_type": "code",
   "execution_count": 81,
   "metadata": {
    "collapsed": false
   },
   "outputs": [
    {
     "data": {
      "text/html": [
       "<div>\n",
       "<table border=\"1\" class=\"dataframe\">\n",
       "  <thead>\n",
       "    <tr style=\"text-align: right;\">\n",
       "      <th></th>\n",
       "      <th>Private</th>\n",
       "      <th>Apps</th>\n",
       "      <th>Accept</th>\n",
       "      <th>Enroll</th>\n",
       "      <th>Top10perc</th>\n",
       "      <th>Top25perc</th>\n",
       "      <th>F.Undergrad</th>\n",
       "      <th>P.Undergrad</th>\n",
       "      <th>Outstate</th>\n",
       "      <th>Room.Board</th>\n",
       "      <th>Books</th>\n",
       "      <th>Personal</th>\n",
       "      <th>PhD</th>\n",
       "      <th>Terminal</th>\n",
       "      <th>S.F.Ratio</th>\n",
       "      <th>perc.alumni</th>\n",
       "      <th>Expend</th>\n",
       "      <th>Grad.Rate</th>\n",
       "    </tr>\n",
       "  </thead>\n",
       "  <tbody>\n",
       "    <tr>\n",
       "      <th>Abilene Christian University</th>\n",
       "      <td>Yes</td>\n",
       "      <td>1660</td>\n",
       "      <td>1232</td>\n",
       "      <td>721</td>\n",
       "      <td>23</td>\n",
       "      <td>52</td>\n",
       "      <td>2885</td>\n",
       "      <td>537</td>\n",
       "      <td>7440</td>\n",
       "      <td>3300</td>\n",
       "      <td>450</td>\n",
       "      <td>2200</td>\n",
       "      <td>70</td>\n",
       "      <td>78</td>\n",
       "      <td>18.1</td>\n",
       "      <td>12</td>\n",
       "      <td>7041</td>\n",
       "      <td>60</td>\n",
       "    </tr>\n",
       "    <tr>\n",
       "      <th>Adelphi University</th>\n",
       "      <td>Yes</td>\n",
       "      <td>2186</td>\n",
       "      <td>1924</td>\n",
       "      <td>512</td>\n",
       "      <td>16</td>\n",
       "      <td>29</td>\n",
       "      <td>2683</td>\n",
       "      <td>1227</td>\n",
       "      <td>12280</td>\n",
       "      <td>6450</td>\n",
       "      <td>750</td>\n",
       "      <td>1500</td>\n",
       "      <td>29</td>\n",
       "      <td>30</td>\n",
       "      <td>12.2</td>\n",
       "      <td>16</td>\n",
       "      <td>10527</td>\n",
       "      <td>56</td>\n",
       "    </tr>\n",
       "    <tr>\n",
       "      <th>Adrian College</th>\n",
       "      <td>Yes</td>\n",
       "      <td>1428</td>\n",
       "      <td>1097</td>\n",
       "      <td>336</td>\n",
       "      <td>22</td>\n",
       "      <td>50</td>\n",
       "      <td>1036</td>\n",
       "      <td>99</td>\n",
       "      <td>11250</td>\n",
       "      <td>3750</td>\n",
       "      <td>400</td>\n",
       "      <td>1165</td>\n",
       "      <td>53</td>\n",
       "      <td>66</td>\n",
       "      <td>12.9</td>\n",
       "      <td>30</td>\n",
       "      <td>8735</td>\n",
       "      <td>54</td>\n",
       "    </tr>\n",
       "    <tr>\n",
       "      <th>Agnes Scott College</th>\n",
       "      <td>Yes</td>\n",
       "      <td>417</td>\n",
       "      <td>349</td>\n",
       "      <td>137</td>\n",
       "      <td>60</td>\n",
       "      <td>89</td>\n",
       "      <td>510</td>\n",
       "      <td>63</td>\n",
       "      <td>12960</td>\n",
       "      <td>5450</td>\n",
       "      <td>450</td>\n",
       "      <td>875</td>\n",
       "      <td>92</td>\n",
       "      <td>97</td>\n",
       "      <td>7.7</td>\n",
       "      <td>37</td>\n",
       "      <td>19016</td>\n",
       "      <td>59</td>\n",
       "    </tr>\n",
       "    <tr>\n",
       "      <th>Alaska Pacific University</th>\n",
       "      <td>Yes</td>\n",
       "      <td>193</td>\n",
       "      <td>146</td>\n",
       "      <td>55</td>\n",
       "      <td>16</td>\n",
       "      <td>44</td>\n",
       "      <td>249</td>\n",
       "      <td>869</td>\n",
       "      <td>7560</td>\n",
       "      <td>4120</td>\n",
       "      <td>800</td>\n",
       "      <td>1500</td>\n",
       "      <td>76</td>\n",
       "      <td>72</td>\n",
       "      <td>11.9</td>\n",
       "      <td>2</td>\n",
       "      <td>10922</td>\n",
       "      <td>15</td>\n",
       "    </tr>\n",
       "  </tbody>\n",
       "</table>\n",
       "</div>"
      ],
      "text/plain": [
       "                             Private  Apps  Accept  Enroll  Top10perc  \\\n",
       "Abilene Christian University     Yes  1660    1232     721         23   \n",
       "Adelphi University               Yes  2186    1924     512         16   \n",
       "Adrian College                   Yes  1428    1097     336         22   \n",
       "Agnes Scott College              Yes   417     349     137         60   \n",
       "Alaska Pacific University        Yes   193     146      55         16   \n",
       "\n",
       "                              Top25perc  F.Undergrad  P.Undergrad  Outstate  \\\n",
       "Abilene Christian University         52         2885          537      7440   \n",
       "Adelphi University                   29         2683         1227     12280   \n",
       "Adrian College                       50         1036           99     11250   \n",
       "Agnes Scott College                  89          510           63     12960   \n",
       "Alaska Pacific University            44          249          869      7560   \n",
       "\n",
       "                              Room.Board  Books  Personal  PhD  Terminal  \\\n",
       "Abilene Christian University        3300    450      2200   70        78   \n",
       "Adelphi University                  6450    750      1500   29        30   \n",
       "Adrian College                      3750    400      1165   53        66   \n",
       "Agnes Scott College                 5450    450       875   92        97   \n",
       "Alaska Pacific University           4120    800      1500   76        72   \n",
       "\n",
       "                              S.F.Ratio  perc.alumni  Expend  Grad.Rate  \n",
       "Abilene Christian University       18.1           12    7041         60  \n",
       "Adelphi University                 12.2           16   10527         56  \n",
       "Adrian College                     12.9           30    8735         54  \n",
       "Agnes Scott College                 7.7           37   19016         59  \n",
       "Alaska Pacific University          11.9            2   10922         15  "
      ]
     },
     "execution_count": 81,
     "metadata": {},
     "output_type": "execute_result"
    }
   ],
   "source": [
    "X = pd.read_csv('Module5/Datasets/College.csv', index_col=0)\n",
    "X.head()"
   ]
  },
  {
   "cell_type": "code",
   "execution_count": 82,
   "metadata": {
    "collapsed": true
   },
   "outputs": [],
   "source": [
    "# INFO: This line isn't necessary for your purposes; but we'd just\n",
    "# like to show you an additional way to encode features directly.\n",
    "# The .map() method is like .apply(), but instead of taking in a\n",
    "# lambda / function, you simply provide a mapping of keys:values.\n",
    "# If you decide to embark on the \"Data Scientist Challenge\", this\n",
    "# line of code will save you the trouble of converting it through\n",
    "# other means:\n",
    "X.Private = X.Private.map({'Yes':1, 'No':0})"
   ]
  },
  {
   "cell_type": "code",
   "execution_count": 83,
   "metadata": {
    "collapsed": false
   },
   "outputs": [
    {
     "data": {
      "text/html": [
       "<div>\n",
       "<table border=\"1\" class=\"dataframe\">\n",
       "  <thead>\n",
       "    <tr style=\"text-align: right;\">\n",
       "      <th></th>\n",
       "      <th>Private</th>\n",
       "      <th>Apps</th>\n",
       "      <th>Accept</th>\n",
       "      <th>Enroll</th>\n",
       "      <th>Top10perc</th>\n",
       "      <th>Top25perc</th>\n",
       "      <th>F.Undergrad</th>\n",
       "      <th>P.Undergrad</th>\n",
       "      <th>Outstate</th>\n",
       "      <th>Room.Board</th>\n",
       "      <th>Books</th>\n",
       "      <th>Personal</th>\n",
       "      <th>PhD</th>\n",
       "      <th>Terminal</th>\n",
       "      <th>S.F.Ratio</th>\n",
       "      <th>perc.alumni</th>\n",
       "      <th>Expend</th>\n",
       "      <th>Grad.Rate</th>\n",
       "    </tr>\n",
       "  </thead>\n",
       "  <tbody>\n",
       "    <tr>\n",
       "      <th>Abilene Christian University</th>\n",
       "      <td>1</td>\n",
       "      <td>1660</td>\n",
       "      <td>1232</td>\n",
       "      <td>721</td>\n",
       "      <td>23</td>\n",
       "      <td>52</td>\n",
       "      <td>2885</td>\n",
       "      <td>537</td>\n",
       "      <td>7440</td>\n",
       "      <td>3300</td>\n",
       "      <td>450</td>\n",
       "      <td>2200</td>\n",
       "      <td>70</td>\n",
       "      <td>78</td>\n",
       "      <td>18.1</td>\n",
       "      <td>12</td>\n",
       "      <td>7041</td>\n",
       "      <td>60</td>\n",
       "    </tr>\n",
       "    <tr>\n",
       "      <th>Adelphi University</th>\n",
       "      <td>1</td>\n",
       "      <td>2186</td>\n",
       "      <td>1924</td>\n",
       "      <td>512</td>\n",
       "      <td>16</td>\n",
       "      <td>29</td>\n",
       "      <td>2683</td>\n",
       "      <td>1227</td>\n",
       "      <td>12280</td>\n",
       "      <td>6450</td>\n",
       "      <td>750</td>\n",
       "      <td>1500</td>\n",
       "      <td>29</td>\n",
       "      <td>30</td>\n",
       "      <td>12.2</td>\n",
       "      <td>16</td>\n",
       "      <td>10527</td>\n",
       "      <td>56</td>\n",
       "    </tr>\n",
       "    <tr>\n",
       "      <th>Adrian College</th>\n",
       "      <td>1</td>\n",
       "      <td>1428</td>\n",
       "      <td>1097</td>\n",
       "      <td>336</td>\n",
       "      <td>22</td>\n",
       "      <td>50</td>\n",
       "      <td>1036</td>\n",
       "      <td>99</td>\n",
       "      <td>11250</td>\n",
       "      <td>3750</td>\n",
       "      <td>400</td>\n",
       "      <td>1165</td>\n",
       "      <td>53</td>\n",
       "      <td>66</td>\n",
       "      <td>12.9</td>\n",
       "      <td>30</td>\n",
       "      <td>8735</td>\n",
       "      <td>54</td>\n",
       "    </tr>\n",
       "    <tr>\n",
       "      <th>Agnes Scott College</th>\n",
       "      <td>1</td>\n",
       "      <td>417</td>\n",
       "      <td>349</td>\n",
       "      <td>137</td>\n",
       "      <td>60</td>\n",
       "      <td>89</td>\n",
       "      <td>510</td>\n",
       "      <td>63</td>\n",
       "      <td>12960</td>\n",
       "      <td>5450</td>\n",
       "      <td>450</td>\n",
       "      <td>875</td>\n",
       "      <td>92</td>\n",
       "      <td>97</td>\n",
       "      <td>7.7</td>\n",
       "      <td>37</td>\n",
       "      <td>19016</td>\n",
       "      <td>59</td>\n",
       "    </tr>\n",
       "    <tr>\n",
       "      <th>Alaska Pacific University</th>\n",
       "      <td>1</td>\n",
       "      <td>193</td>\n",
       "      <td>146</td>\n",
       "      <td>55</td>\n",
       "      <td>16</td>\n",
       "      <td>44</td>\n",
       "      <td>249</td>\n",
       "      <td>869</td>\n",
       "      <td>7560</td>\n",
       "      <td>4120</td>\n",
       "      <td>800</td>\n",
       "      <td>1500</td>\n",
       "      <td>76</td>\n",
       "      <td>72</td>\n",
       "      <td>11.9</td>\n",
       "      <td>2</td>\n",
       "      <td>10922</td>\n",
       "      <td>15</td>\n",
       "    </tr>\n",
       "  </tbody>\n",
       "</table>\n",
       "</div>"
      ],
      "text/plain": [
       "                              Private  Apps  Accept  Enroll  Top10perc  \\\n",
       "Abilene Christian University        1  1660    1232     721         23   \n",
       "Adelphi University                  1  2186    1924     512         16   \n",
       "Adrian College                      1  1428    1097     336         22   \n",
       "Agnes Scott College                 1   417     349     137         60   \n",
       "Alaska Pacific University           1   193     146      55         16   \n",
       "\n",
       "                              Top25perc  F.Undergrad  P.Undergrad  Outstate  \\\n",
       "Abilene Christian University         52         2885          537      7440   \n",
       "Adelphi University                   29         2683         1227     12280   \n",
       "Adrian College                       50         1036           99     11250   \n",
       "Agnes Scott College                  89          510           63     12960   \n",
       "Alaska Pacific University            44          249          869      7560   \n",
       "\n",
       "                              Room.Board  Books  Personal  PhD  Terminal  \\\n",
       "Abilene Christian University        3300    450      2200   70        78   \n",
       "Adelphi University                  6450    750      1500   29        30   \n",
       "Adrian College                      3750    400      1165   53        66   \n",
       "Agnes Scott College                 5450    450       875   92        97   \n",
       "Alaska Pacific University           4120    800      1500   76        72   \n",
       "\n",
       "                              S.F.Ratio  perc.alumni  Expend  Grad.Rate  \n",
       "Abilene Christian University       18.1           12    7041         60  \n",
       "Adelphi University                 12.2           16   10527         56  \n",
       "Adrian College                     12.9           30    8735         54  \n",
       "Agnes Scott College                 7.7           37   19016         59  \n",
       "Alaska Pacific University          11.9            2   10922         15  "
      ]
     },
     "execution_count": 83,
     "metadata": {},
     "output_type": "execute_result"
    }
   ],
   "source": [
    "X.head()"
   ]
  },
  {
   "cell_type": "code",
   "execution_count": 85,
   "metadata": {
    "collapsed": false
   },
   "outputs": [
    {
     "data": {
      "text/html": [
       "<div>\n",
       "<table border=\"1\" class=\"dataframe\">\n",
       "  <thead>\n",
       "    <tr style=\"text-align: right;\">\n",
       "      <th></th>\n",
       "      <th>Private</th>\n",
       "      <th>Apps</th>\n",
       "      <th>Accept</th>\n",
       "      <th>Enroll</th>\n",
       "      <th>Top10perc</th>\n",
       "      <th>Top25perc</th>\n",
       "      <th>F.Undergrad</th>\n",
       "      <th>P.Undergrad</th>\n",
       "      <th>Outstate</th>\n",
       "      <th>Room.Board</th>\n",
       "      <th>Books</th>\n",
       "      <th>Personal</th>\n",
       "      <th>PhD</th>\n",
       "      <th>Terminal</th>\n",
       "      <th>S.F.Ratio</th>\n",
       "      <th>perc.alumni</th>\n",
       "      <th>Expend</th>\n",
       "      <th>Grad.Rate</th>\n",
       "    </tr>\n",
       "  </thead>\n",
       "  <tbody>\n",
       "    <tr>\n",
       "      <th>count</th>\n",
       "      <td>777.000000</td>\n",
       "      <td>777.000000</td>\n",
       "      <td>777.000000</td>\n",
       "      <td>777.000000</td>\n",
       "      <td>777.000000</td>\n",
       "      <td>777.000000</td>\n",
       "      <td>777.000000</td>\n",
       "      <td>777.000000</td>\n",
       "      <td>777.000000</td>\n",
       "      <td>777.000000</td>\n",
       "      <td>777.000000</td>\n",
       "      <td>777.000000</td>\n",
       "      <td>777.000000</td>\n",
       "      <td>777.000000</td>\n",
       "      <td>777.000000</td>\n",
       "      <td>777.000000</td>\n",
       "      <td>777.000000</td>\n",
       "      <td>777.00000</td>\n",
       "    </tr>\n",
       "    <tr>\n",
       "      <th>mean</th>\n",
       "      <td>0.727156</td>\n",
       "      <td>3001.638353</td>\n",
       "      <td>2018.804376</td>\n",
       "      <td>779.972973</td>\n",
       "      <td>27.558559</td>\n",
       "      <td>55.796654</td>\n",
       "      <td>3699.907336</td>\n",
       "      <td>855.298584</td>\n",
       "      <td>10440.669241</td>\n",
       "      <td>4357.526384</td>\n",
       "      <td>549.380952</td>\n",
       "      <td>1340.642214</td>\n",
       "      <td>72.660232</td>\n",
       "      <td>79.702703</td>\n",
       "      <td>14.089704</td>\n",
       "      <td>22.743887</td>\n",
       "      <td>9660.171171</td>\n",
       "      <td>65.46332</td>\n",
       "    </tr>\n",
       "    <tr>\n",
       "      <th>std</th>\n",
       "      <td>0.445708</td>\n",
       "      <td>3870.201484</td>\n",
       "      <td>2451.113971</td>\n",
       "      <td>929.176190</td>\n",
       "      <td>17.640364</td>\n",
       "      <td>19.804778</td>\n",
       "      <td>4850.420531</td>\n",
       "      <td>1522.431887</td>\n",
       "      <td>4023.016484</td>\n",
       "      <td>1096.696416</td>\n",
       "      <td>165.105360</td>\n",
       "      <td>677.071454</td>\n",
       "      <td>16.328155</td>\n",
       "      <td>14.722359</td>\n",
       "      <td>3.958349</td>\n",
       "      <td>12.391801</td>\n",
       "      <td>5221.768440</td>\n",
       "      <td>17.17771</td>\n",
       "    </tr>\n",
       "    <tr>\n",
       "      <th>min</th>\n",
       "      <td>0.000000</td>\n",
       "      <td>81.000000</td>\n",
       "      <td>72.000000</td>\n",
       "      <td>35.000000</td>\n",
       "      <td>1.000000</td>\n",
       "      <td>9.000000</td>\n",
       "      <td>139.000000</td>\n",
       "      <td>1.000000</td>\n",
       "      <td>2340.000000</td>\n",
       "      <td>1780.000000</td>\n",
       "      <td>96.000000</td>\n",
       "      <td>250.000000</td>\n",
       "      <td>8.000000</td>\n",
       "      <td>24.000000</td>\n",
       "      <td>2.500000</td>\n",
       "      <td>0.000000</td>\n",
       "      <td>3186.000000</td>\n",
       "      <td>10.00000</td>\n",
       "    </tr>\n",
       "    <tr>\n",
       "      <th>25%</th>\n",
       "      <td>0.000000</td>\n",
       "      <td>776.000000</td>\n",
       "      <td>604.000000</td>\n",
       "      <td>242.000000</td>\n",
       "      <td>15.000000</td>\n",
       "      <td>41.000000</td>\n",
       "      <td>992.000000</td>\n",
       "      <td>95.000000</td>\n",
       "      <td>7320.000000</td>\n",
       "      <td>3597.000000</td>\n",
       "      <td>470.000000</td>\n",
       "      <td>850.000000</td>\n",
       "      <td>62.000000</td>\n",
       "      <td>71.000000</td>\n",
       "      <td>11.500000</td>\n",
       "      <td>13.000000</td>\n",
       "      <td>6751.000000</td>\n",
       "      <td>53.00000</td>\n",
       "    </tr>\n",
       "    <tr>\n",
       "      <th>50%</th>\n",
       "      <td>1.000000</td>\n",
       "      <td>1558.000000</td>\n",
       "      <td>1110.000000</td>\n",
       "      <td>434.000000</td>\n",
       "      <td>23.000000</td>\n",
       "      <td>54.000000</td>\n",
       "      <td>1707.000000</td>\n",
       "      <td>353.000000</td>\n",
       "      <td>9990.000000</td>\n",
       "      <td>4200.000000</td>\n",
       "      <td>500.000000</td>\n",
       "      <td>1200.000000</td>\n",
       "      <td>75.000000</td>\n",
       "      <td>82.000000</td>\n",
       "      <td>13.600000</td>\n",
       "      <td>21.000000</td>\n",
       "      <td>8377.000000</td>\n",
       "      <td>65.00000</td>\n",
       "    </tr>\n",
       "    <tr>\n",
       "      <th>75%</th>\n",
       "      <td>1.000000</td>\n",
       "      <td>3624.000000</td>\n",
       "      <td>2424.000000</td>\n",
       "      <td>902.000000</td>\n",
       "      <td>35.000000</td>\n",
       "      <td>69.000000</td>\n",
       "      <td>4005.000000</td>\n",
       "      <td>967.000000</td>\n",
       "      <td>12925.000000</td>\n",
       "      <td>5050.000000</td>\n",
       "      <td>600.000000</td>\n",
       "      <td>1700.000000</td>\n",
       "      <td>85.000000</td>\n",
       "      <td>92.000000</td>\n",
       "      <td>16.500000</td>\n",
       "      <td>31.000000</td>\n",
       "      <td>10830.000000</td>\n",
       "      <td>78.00000</td>\n",
       "    </tr>\n",
       "    <tr>\n",
       "      <th>max</th>\n",
       "      <td>1.000000</td>\n",
       "      <td>48094.000000</td>\n",
       "      <td>26330.000000</td>\n",
       "      <td>6392.000000</td>\n",
       "      <td>96.000000</td>\n",
       "      <td>100.000000</td>\n",
       "      <td>31643.000000</td>\n",
       "      <td>21836.000000</td>\n",
       "      <td>21700.000000</td>\n",
       "      <td>8124.000000</td>\n",
       "      <td>2340.000000</td>\n",
       "      <td>6800.000000</td>\n",
       "      <td>103.000000</td>\n",
       "      <td>100.000000</td>\n",
       "      <td>39.800000</td>\n",
       "      <td>64.000000</td>\n",
       "      <td>56233.000000</td>\n",
       "      <td>118.00000</td>\n",
       "    </tr>\n",
       "  </tbody>\n",
       "</table>\n",
       "</div>"
      ],
      "text/plain": [
       "          Private          Apps        Accept       Enroll   Top10perc  \\\n",
       "count  777.000000    777.000000    777.000000   777.000000  777.000000   \n",
       "mean     0.727156   3001.638353   2018.804376   779.972973   27.558559   \n",
       "std      0.445708   3870.201484   2451.113971   929.176190   17.640364   \n",
       "min      0.000000     81.000000     72.000000    35.000000    1.000000   \n",
       "25%      0.000000    776.000000    604.000000   242.000000   15.000000   \n",
       "50%      1.000000   1558.000000   1110.000000   434.000000   23.000000   \n",
       "75%      1.000000   3624.000000   2424.000000   902.000000   35.000000   \n",
       "max      1.000000  48094.000000  26330.000000  6392.000000   96.000000   \n",
       "\n",
       "        Top25perc   F.Undergrad   P.Undergrad      Outstate   Room.Board  \\\n",
       "count  777.000000    777.000000    777.000000    777.000000   777.000000   \n",
       "mean    55.796654   3699.907336    855.298584  10440.669241  4357.526384   \n",
       "std     19.804778   4850.420531   1522.431887   4023.016484  1096.696416   \n",
       "min      9.000000    139.000000      1.000000   2340.000000  1780.000000   \n",
       "25%     41.000000    992.000000     95.000000   7320.000000  3597.000000   \n",
       "50%     54.000000   1707.000000    353.000000   9990.000000  4200.000000   \n",
       "75%     69.000000   4005.000000    967.000000  12925.000000  5050.000000   \n",
       "max    100.000000  31643.000000  21836.000000  21700.000000  8124.000000   \n",
       "\n",
       "             Books     Personal         PhD    Terminal   S.F.Ratio  \\\n",
       "count   777.000000   777.000000  777.000000  777.000000  777.000000   \n",
       "mean    549.380952  1340.642214   72.660232   79.702703   14.089704   \n",
       "std     165.105360   677.071454   16.328155   14.722359    3.958349   \n",
       "min      96.000000   250.000000    8.000000   24.000000    2.500000   \n",
       "25%     470.000000   850.000000   62.000000   71.000000   11.500000   \n",
       "50%     500.000000  1200.000000   75.000000   82.000000   13.600000   \n",
       "75%     600.000000  1700.000000   85.000000   92.000000   16.500000   \n",
       "max    2340.000000  6800.000000  103.000000  100.000000   39.800000   \n",
       "\n",
       "       perc.alumni        Expend  Grad.Rate  \n",
       "count   777.000000    777.000000  777.00000  \n",
       "mean     22.743887   9660.171171   65.46332  \n",
       "std      12.391801   5221.768440   17.17771  \n",
       "min       0.000000   3186.000000   10.00000  \n",
       "25%      13.000000   6751.000000   53.00000  \n",
       "50%      21.000000   8377.000000   65.00000  \n",
       "75%      31.000000  10830.000000   78.00000  \n",
       "max      64.000000  56233.000000  118.00000  "
      ]
     },
     "execution_count": 85,
     "metadata": {},
     "output_type": "execute_result"
    }
   ],
   "source": [
    "X.describe()"
   ]
  },
  {
   "cell_type": "code",
   "execution_count": 89,
   "metadata": {
    "collapsed": false
   },
   "outputs": [
    {
     "data": {
      "text/plain": [
       "Private          int64\n",
       "Apps             int64\n",
       "Accept           int64\n",
       "Enroll           int64\n",
       "Top10perc        int64\n",
       "Top25perc        int64\n",
       "F.Undergrad      int64\n",
       "P.Undergrad      int64\n",
       "Outstate         int64\n",
       "Room.Board       int64\n",
       "Books            int64\n",
       "Personal         int64\n",
       "PhD              int64\n",
       "Terminal         int64\n",
       "S.F.Ratio      float64\n",
       "perc.alumni      int64\n",
       "Expend           int64\n",
       "Grad.Rate        int64\n",
       "dtype: object"
      ]
     },
     "execution_count": 89,
     "metadata": {},
     "output_type": "execute_result"
    }
   ],
   "source": [
    "X.dtypes"
   ]
  },
  {
   "cell_type": "code",
   "execution_count": 91,
   "metadata": {
    "collapsed": false
   },
   "outputs": [
    {
     "data": {
      "text/plain": [
       "Private        0\n",
       "Apps           0\n",
       "Accept         0\n",
       "Enroll         0\n",
       "Top10perc      0\n",
       "Top25perc      0\n",
       "F.Undergrad    0\n",
       "P.Undergrad    0\n",
       "Outstate       0\n",
       "Room.Board     0\n",
       "Books          0\n",
       "Personal       0\n",
       "PhD            0\n",
       "Terminal       0\n",
       "S.F.Ratio      0\n",
       "perc.alumni    0\n",
       "Expend         0\n",
       "Grad.Rate      0\n",
       "dtype: int64"
      ]
     },
     "execution_count": 91,
     "metadata": {},
     "output_type": "execute_result"
    }
   ],
   "source": [
    "X.isnull().sum()"
   ]
  },
  {
   "cell_type": "code",
   "execution_count": 84,
   "metadata": {
    "collapsed": true
   },
   "outputs": [],
   "source": [
    "# TODO: Create your linear regression model here and store it in a\n",
    "# variable called 'model'. Don't actually train or do anything else\n",
    "# with it yet:\n",
    "#\n",
    "# .. your code here ..\n",
    "from sklearn import linear_model\n",
    "model = linear_model.LinearRegression()"
   ]
  },
  {
   "cell_type": "code",
   "execution_count": 145,
   "metadata": {
    "collapsed": false
   },
   "outputs": [
    {
     "name": "stdout",
     "output_type": "stream",
     "text": [
      "                              Room.Board\n",
      "Abilene Christian University        3300\n",
      "Adelphi University                  6450\n",
      "Adrian College                      3750\n",
      "Agnes Scott College                 5450\n",
      "Alaska Pacific University           4120\n",
      "\n",
      "Abilene Christian University    1232\n",
      "Adelphi University              1924\n",
      "Adrian College                  1097\n",
      "Agnes Scott College              349\n",
      "Alaska Pacific University        146\n",
      "Name: Accept, dtype: int64\n"
     ]
    }
   ],
   "source": [
    "# INFO: The first relationship we're interested in is the amount\n",
    "# charged for room and board, as a function of the number of\n",
    "# accepted students. \n",
    "\n",
    "# TODO: Using indexing, create two slices (series). One will just\n",
    "# store the room and board column, the other will store the accepted\n",
    "# students column. Then use train_test_split to cut your data up\n",
    "# into X_train, X_test, y_train, y_test, with a test_size of 30% and\n",
    "# a random_state of 7.\n",
    "#\n",
    "# Since the objective is to model the amount charged for room and\n",
    "# board as a function() of the number of accepted students, it should\n",
    "# be clear to you that your output will be the room and board amount,\n",
    "# and your input will be the accepted students amount.\n",
    "#\n",
    "# .. your code here ..\n",
    "#s_room_board = X['Room.Board'].reshape(-1,1)\n",
    "s_room_board = X['Room.Board']\n",
    "s_room_board = s_room_board.to_frame()\n",
    "s_accepted_students = X['Accept']\n",
    "\n",
    "print s_room_board.head()\n",
    "print \n",
    "print s_accepted_students.head()"
   ]
  },
  {
   "cell_type": "code",
   "execution_count": 146,
   "metadata": {
    "collapsed": false
   },
   "outputs": [
    {
     "name": "stdout",
     "output_type": "stream",
     "text": [
      "<class 'pandas.core.frame.DataFrame'> <class 'pandas.core.series.Series'>\n"
     ]
    }
   ],
   "source": [
    "print type(s_room_board), type(s_accepted_students)"
   ]
  },
  {
   "cell_type": "code",
   "execution_count": 147,
   "metadata": {
    "collapsed": true
   },
   "outputs": [],
   "source": [
    "from sklearn.cross_validation import train_test_split\n",
    "X_train, X_test, y_train, y_test = train_test_split(s_room_board, s_accepted_students, test_size=0.3, random_state=7)"
   ]
  },
  {
   "cell_type": "code",
   "execution_count": 148,
   "metadata": {
    "collapsed": false
   },
   "outputs": [
    {
     "data": {
      "text/plain": [
       "LinearRegression(copy_X=True, fit_intercept=True, n_jobs=1, normalize=False)"
      ]
     },
     "execution_count": 148,
     "metadata": {},
     "output_type": "execute_result"
    }
   ],
   "source": [
    "# TODO: Fit and score your model appropriately. Store the score in the\n",
    "# score variable.\n",
    "#\n",
    "# .. your code here ..\n",
    "model.fit(X_train, y_train)"
   ]
  },
  {
   "cell_type": "code",
   "execution_count": 149,
   "metadata": {
    "collapsed": false
   },
   "outputs": [
    {
     "name": "stdout",
     "output_type": "stream",
     "text": [
      "score:  -0.00266698641455\n"
     ]
    }
   ],
   "source": [
    "score = model.score(X_test, y_test)\n",
    "print \"score: \", score"
   ]
  },
  {
   "cell_type": "code",
   "execution_count": 150,
   "metadata": {
    "collapsed": true
   },
   "outputs": [],
   "source": [
    "def drawLine(model, X_test, y_test, title, R2):\n",
    "    # This convenience method will take care of plotting your\n",
    "    # test observations, comparing them to the regression line,\n",
    "    # and displaying the R2 coefficient\n",
    "    fig = plt.figure(figsize(8,8))\n",
    "    ax = fig.add_subplot(111)\n",
    "    ax.scatter(X_test, y_test, c='g', marker='o')\n",
    "    ax.plot(X_test, model.predict(X_test), color='orange', linewidth=1, alpha=0.7)\n",
    "\n",
    "    title += \" R2: \" + str(R2)\n",
    "    ax.set_title(title)\n",
    "    print title\n",
    "    print \"Intercept(s): \", model.intercept_\n",
    "\n",
    "    plt.show()"
   ]
  },
  {
   "cell_type": "code",
   "execution_count": 151,
   "metadata": {
    "collapsed": false
   },
   "outputs": [
    {
     "name": "stdout",
     "output_type": "stream",
     "text": [
      "Accept(Room&Board) R2: -0.00266698641455\n",
      "Intercept(s):  1340.61956519\n"
     ]
    },
    {
     "data": {
      "image/png": "[encoded data removed]",
      "text/plain": [
       "<matplotlib.figure.Figure at 0x118cff150>"
      ]
     },
     "metadata": {},
     "output_type": "display_data"
    }
   ],
   "source": [
    "# INFO: We'll take it from here, buddy:\n",
    "drawLine(model, X_test, y_test, \"Accept(Room&Board)\", score)"
   ]
  },
  {
   "cell_type": "code",
   "execution_count": 152,
   "metadata": {
    "collapsed": false
   },
   "outputs": [
    {
     "name": "stdout",
     "output_type": "stream",
     "text": [
      "score:  0.857820486736\n",
      "Accept(Enroll) R2: 0.857820486736\n",
      "Intercept(s):  151.726112423\n"
     ]
    },
    {
     "data": {
      "image/png": "[encoded data removed]",
      "text/plain": [
       "<matplotlib.figure.Figure at 0x118eaaf90>"
      ]
     },
     "metadata": {},
     "output_type": "display_data"
    }
   ],
   "source": [
    "# TODO: Duplicate the process above; this time, model the number of\n",
    "# enrolled students per college, as a function of the number of accepted\n",
    "# students\n",
    "#\n",
    "# .. your code here ..\n",
    "s_enroll = X['Enroll']\n",
    "s_enroll = s_enroll.to_frame()\n",
    "\n",
    "X_train, X_test, y_train, y_test = train_test_split(s_enroll, s_accepted_students, test_size=0.3, random_state=7)\n",
    "model.fit(X_train, y_train)\n",
    "score = model.score(X_test, y_test)\n",
    "print \"score: \", score\n",
    "\n",
    "drawLine(model, X_test, y_test, \"Accept(Enroll)\", score)"
   ]
  },
  {
   "cell_type": "code",
   "execution_count": 153,
   "metadata": {
    "collapsed": false
   },
   "outputs": [
    {
     "name": "stdout",
     "output_type": "stream",
     "text": [
      "score:  0.777991797375\n",
      "Accept(F.Undergrad) R2: 0.777991797375\n",
      "Intercept(s):  380.942910498\n"
     ]
    },
    {
     "data": {
      "image/png": "[encoded data removed]",
      "text/plain": [
       "<matplotlib.figure.Figure at 0x118cff2d0>"
      ]
     },
     "metadata": {},
     "output_type": "display_data"
    }
   ],
   "source": [
    "# TODO: Duplicate the process above; this time, model the number of\n",
    "# failed undergraduate students per college, as a function of the number\n",
    "# of accepted students\n",
    "#\n",
    "# .. your code here ..\n",
    "s_f_under = X['F.Undergrad']\n",
    "s_f_under = s_f_under.to_frame()\n",
    "\n",
    "X_train, X_test, y_train, y_test = train_test_split(s_f_under, s_accepted_students, test_size=0.3, random_state=7)\n",
    "model.fit(X_train, y_train)\n",
    "score = model.score(X_test, y_test)\n",
    "print \"score: \", score\n",
    "\n",
    "drawLine(model, X_test, y_test, \"Accept(F.Undergrad)\", score)"
   ]
  },
  {
   "cell_type": "code",
   "execution_count": 154,
   "metadata": {
    "collapsed": true
   },
   "outputs": [],
   "source": [
    "def drawPlane(model, X_test, y_test, title, R2):\n",
    "    # This convenience method will take care of plotting your\n",
    "    # test observations, comparing them to the regression plane,\n",
    "    # and displaying the R2 coefficient\n",
    "    fig = plt.figure()\n",
    "    ax = Axes3D(fig)\n",
    "    ax.set_zlabel('prediction')\n",
    "\n",
    "    # You might have passed in a DataFrame, a Series (slice),\n",
    "    # an NDArray, or a Python List... so let's keep it simple:\n",
    "    X_test = np.array(X_test)\n",
    "    col1 = X_test[:,0]\n",
    "    col2 = X_test[:,1]\n",
    "\n",
    "    # Set up a Grid. We could have predicted on the actual\n",
    "    # col1, col2 values directly; but that would have generated\n",
    "    # a mesh with WAY too fine a grid, which would have detracted\n",
    "    # from the visualization\n",
    "    x_min, x_max = col1.min(), col1.max()\n",
    "    y_min, y_max = col2.min(), col2.max()\n",
    "    x = np.arange(x_min, x_max, (x_max-x_min) / 10)\n",
    "    y = np.arange(y_min, y_max, (y_max-y_min) / 10)\n",
    "    x, y = np.meshgrid(x, y)\n",
    "\n",
    "    # Predict based on possible input values that span the domain\n",
    "    # of the x and y inputs:\n",
    "    z = model.predict(  np.c_[x.ravel(), y.ravel()]  )\n",
    "    z = z.reshape(x.shape)\n",
    "\n",
    "    ax.scatter(col1, col2, y_test, c='g', marker='o')\n",
    "    ax.plot_wireframe(x, y, z, color='orange', alpha=0.7)\n",
    "\n",
    "    title += \" R2: \" + str(R2)\n",
    "    ax.set_title(title)\n",
    "    print title\n",
    "    print \"Intercept(s): \", model.intercept_\n",
    "\n",
    "    plt.show()\n"
   ]
  },
  {
   "cell_type": "code",
   "execution_count": 190,
   "metadata": {
    "collapsed": false
   },
   "outputs": [
    {
     "name": "stdout",
     "output_type": "stream",
     "text": [
      "                              Enroll  Room.Board\n",
      "Abilene Christian University     721        3300\n",
      "Adelphi University               512        6450\n",
      "Adrian College                   336        3750\n",
      "Agnes Scott College              137        5450\n",
      "Alaska Pacific University         55        4120 \n",
      "\n",
      "score:  0.876437177421\n",
      "Accept(Room&Board,Enroll) R2: 0.876437177421\n",
      "Intercept(s):  -1176.62848249\n"
     ]
    },
    {
     "data": {
      "image/png": "[encoded data removed]",
      "text/plain": [
       "<matplotlib.figure.Figure at 0x11664d850>"
      ]
     },
     "metadata": {},
     "output_type": "display_data"
    }
   ],
   "source": [
    "# TODO: Duplicate the process above (almost). This time is going to be\n",
    "# a bit more complicated. Instead of modeling one feature as a function\n",
    "# of another, you will attempt to do multivariate linear regression to\n",
    "# model one feature as a function of TWO other features.\n",
    "#\n",
    "# Model the number of accepted students, as a function of the amount\n",
    "# charged for room and board, AND the number of enrolled students. To do\n",
    "# this, instead of creating a regular slice for a single-feature input,\n",
    "# simply create a slice that contains both columns you wish to use as\n",
    "# inputs. Your training labels will remain a single slice.\n",
    "#\n",
    "# .. your code here ..\n",
    "\n",
    "s_roomboard_enroll = X[['Enroll', 'Room.Board']]\n",
    "print s_roomboard_enroll.head(), \"\\n\"\n",
    "\n",
    "X_train, X_test, y_train, y_test = train_test_split(s_roomboard_enroll, s_accepted_students, test_size=0.3, random_state=7)\n",
    "model.fit(X_train, y_train)\n",
    "score = model.score(X_test, y_test)\n",
    "print \"score: \", score\n",
    "\n",
    "drawPlane(model, X_test, y_test, \"Accept(Room&Board,Enroll)\", score)"
   ]
  },
  {
   "cell_type": "code",
   "execution_count": 191,
   "metadata": {
    "collapsed": true
   },
   "outputs": [],
   "source": [
    "#\n",
    "# INFO: That concludes this assignment\n",
    "#\n",
    "\n",
    "# INFO + HINT On Fitting, Scoring, and Predicting:\n",
    "#\n",
    "# Here's a hint to help you complete the assignment without pulling\n",
    "# your hair out! When you use .fit(), .score(), and .predict() on\n",
    "# your model, SciKit-Learn expects your training data to be in\n",
    "# spreadsheet (2D Array-Like) form. This means you can't simply\n",
    "# pass in a 1D Array (slice) and get away with it.\n",
    "#\n",
    "# To properly prep your data, you have to pass in a 2D Numpy Array,\n",
    "# or a dataframe. But what happens if you really only want to pass\n",
    "# in a single feature?\n",
    "#\n",
    "# If you slice your dataframe using df[['ColumnName']] syntax, the\n",
    "# result that comes back is actually a *dataframe*. Go ahead and do\n",
    "# a type() on it to check it out. Since it's already a dataframe,\n",
    "# you're good -- no further changes needed.\n",
    "#\n",
    "# But if you slice your dataframe using the df.ColumnName syntax,\n",
    "# OR if you call df['ColumnName'], the result that comes back is\n",
    "# actually a series (1D Array)! This will cause SKLearn to bug out.\n",
    "# So if you are slicing using either of those two techniques, before\n",
    "# sending your training or testing data to .fit / .score, do a\n",
    "# my_column = my_column.reshape(-1,1). This will convert your 1D\n",
    "# array of [n_samples], to a 2D array shaped like [n_samples, 1].\n",
    "# A single feature, with many samples.\n",
    "#\n",
    "# If you did something like my_column = [my_column], that would produce\n",
    "# an array in the shape of [1, n_samples], which is incorrect because\n",
    "# SKLearn expects your data to be arranged as [n_samples, n_features].\n",
    "# Keep in mind, all of the above only relates to your \"X\" or input\n",
    "# data, and does not apply to your \"y\" or labels.\n"
   ]
  },
  {
   "cell_type": "code",
   "execution_count": null,
   "metadata": {
    "collapsed": true
   },
   "outputs": [],
   "source": [
    "#\n",
    "# Data Scientist Challenge\n",
    "# ========================\n",
    "#\n",
    "# You've experimented with a number of feature scaling techniques\n",
    "# already, such as MaxAbsScaler, MinMaxScaler, Normalizer, StandardScaler\n",
    "# and more from http://scikit-learn.org/stable/modules/classes.html#module-sklearn.preprocessing\n",
    "# \n",
    "# What happens if you apply scaling to your data before doing \n",
    "# linear regression? Would it alter the quality of your results?\n",
    "# Do the scalers that work on a per-feature basis, such as MinMaxScaler\n",
    "# behave differently that those that work on a multi-feature basis, such\n",
    "# as normalize? And moreover, once your features have been scaled, you\n",
    "# won't be able to use the resulting regression directly... unless you're\n",
    "# able to .inverse_transform() the scaling. Do all of the SciKit-Learn\n",
    "# scalers support that?\n",
    "#\n",
    "# This is your time to shine and to show how much of an explorer you are:\n",
    "# Dive deeper into uncharted lands, browse SciKit-Learn's documentation,\n",
    "# scour Google, ask questions on Quora, Stack-Overflow, and the course\n",
    "# message board, and see if you can discover something that will be of\n",
    "# benefit to you in the future!\n"
   ]
  },
  {
   "cell_type": "markdown",
   "metadata": {},
   "source": [
    "### Lab Questions 5.9.\n",
    "\n",
    "##### Q. Which two relationships had the worst R2 correlations?\n",
    "\n",
    "- (A) Accept x RoomBoard,Enroll --and-- Accept x Enroll\n",
    "- (B) Accept x Enroll --and-- Accept x F.Undergrad\n",
    "- (C) Accept x RoomBoard --and-- Accept x F.Undergrad correct\n",
    "- (D) Accept x RoomBoard,Enroll --and-- Accept x RoomBoard\n",
    "\n",
    "<b>* My answer</b>: (C) (<== <b>Correct!</b>)\n",
    "\n",
    "<b>* Explanation</b>: The closer to zero the R2 coefficient is, the poorer the relationship is.\n",
    "- (A) Accept x RoomBoard's R2: -0.00266698641455\n",
    "- (B) Accept x F.Undergrad's R2: 0.777991797375\n",
    "- (C) Accept x Enroll's R2: 0.857820486736\n",
    "- (D) Accept x RoomBoard,Enroll's R2: 0.876437177421\n"
   ]
  },
  {
   "cell_type": "code",
   "execution_count": null,
   "metadata": {
    "collapsed": true
   },
   "outputs": [],
   "source": []
  },
  {
   "cell_type": "code",
   "execution_count": null,
   "metadata": {
    "collapsed": true
   },
   "outputs": [],
   "source": [
    "######################################################################"
   ]
  },
  {
   "cell_type": "code",
   "execution_count": null,
   "metadata": {
    "collapsed": true
   },
   "outputs": [],
   "source": []
  }
 ],
 "metadata": {
  "kernelspec": {
   "display_name": "Python 2",
   "language": "python",
   "name": "python2"
  },
  "language_info": {
   "codemirror_mode": {
    "name": "ipython",
    "version": 2
   },
   "file_extension": ".py",
   "mimetype": "text/x-python",
   "name": "python",
   "nbconvert_exporter": "python",
   "pygments_lexer": "ipython2",
   "version": "2.7.11"
  }
 },
 "nbformat": 4,
 "nbformat_minor": 0
}
